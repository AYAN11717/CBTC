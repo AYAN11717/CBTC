{
 "cells": [
  {
   "cell_type": "code",
   "execution_count": 1,
   "id": "2030b6f5",
   "metadata": {},
   "outputs": [],
   "source": [
    "import numpy as np\n",
    "import pandas as pd"
   ]
  },
  {
   "cell_type": "code",
   "execution_count": 24,
   "id": "4229cc9e",
   "metadata": {},
   "outputs": [
    {
     "data": {
      "text/html": [
       "<div>\n",
       "<style scoped>\n",
       "    .dataframe tbody tr th:only-of-type {\n",
       "        vertical-align: middle;\n",
       "    }\n",
       "\n",
       "    .dataframe tbody tr th {\n",
       "        vertical-align: top;\n",
       "    }\n",
       "\n",
       "    .dataframe thead th {\n",
       "        text-align: right;\n",
       "    }\n",
       "</style>\n",
       "<table border=\"1\" class=\"dataframe\">\n",
       "  <thead>\n",
       "    <tr style=\"text-align: right;\">\n",
       "      <th></th>\n",
       "      <th>Region</th>\n",
       "      <th>Date</th>\n",
       "      <th>Frequency</th>\n",
       "      <th>Estimated Unemployment Rate (%)</th>\n",
       "      <th>Estimated Employed</th>\n",
       "      <th>Estimated Labour Participation Rate (%)</th>\n",
       "      <th>Area</th>\n",
       "    </tr>\n",
       "  </thead>\n",
       "  <tbody>\n",
       "    <tr>\n",
       "      <th>0</th>\n",
       "      <td>Andhra Pradesh</td>\n",
       "      <td>31-05-2019</td>\n",
       "      <td>Monthly</td>\n",
       "      <td>3.65</td>\n",
       "      <td>11999139.0</td>\n",
       "      <td>43.24</td>\n",
       "      <td>Rural</td>\n",
       "    </tr>\n",
       "    <tr>\n",
       "      <th>1</th>\n",
       "      <td>Andhra Pradesh</td>\n",
       "      <td>30-06-2019</td>\n",
       "      <td>Monthly</td>\n",
       "      <td>3.05</td>\n",
       "      <td>11755881.0</td>\n",
       "      <td>42.05</td>\n",
       "      <td>Rural</td>\n",
       "    </tr>\n",
       "    <tr>\n",
       "      <th>2</th>\n",
       "      <td>Andhra Pradesh</td>\n",
       "      <td>31-07-2019</td>\n",
       "      <td>Monthly</td>\n",
       "      <td>3.75</td>\n",
       "      <td>12086707.0</td>\n",
       "      <td>43.50</td>\n",
       "      <td>Rural</td>\n",
       "    </tr>\n",
       "    <tr>\n",
       "      <th>3</th>\n",
       "      <td>Andhra Pradesh</td>\n",
       "      <td>31-08-2019</td>\n",
       "      <td>Monthly</td>\n",
       "      <td>3.32</td>\n",
       "      <td>12285693.0</td>\n",
       "      <td>43.97</td>\n",
       "      <td>Rural</td>\n",
       "    </tr>\n",
       "    <tr>\n",
       "      <th>4</th>\n",
       "      <td>Andhra Pradesh</td>\n",
       "      <td>30-09-2019</td>\n",
       "      <td>Monthly</td>\n",
       "      <td>5.17</td>\n",
       "      <td>12256762.0</td>\n",
       "      <td>44.68</td>\n",
       "      <td>Rural</td>\n",
       "    </tr>\n",
       "  </tbody>\n",
       "</table>\n",
       "</div>"
      ],
      "text/plain": [
       "           Region        Date Frequency  Estimated Unemployment Rate (%)  \\\n",
       "0  Andhra Pradesh  31-05-2019   Monthly                             3.65   \n",
       "1  Andhra Pradesh  30-06-2019   Monthly                             3.05   \n",
       "2  Andhra Pradesh  31-07-2019   Monthly                             3.75   \n",
       "3  Andhra Pradesh  31-08-2019   Monthly                             3.32   \n",
       "4  Andhra Pradesh  30-09-2019   Monthly                             5.17   \n",
       "\n",
       "   Estimated Employed  Estimated Labour Participation Rate (%)   Area  \n",
       "0          11999139.0                                    43.24  Rural  \n",
       "1          11755881.0                                    42.05  Rural  \n",
       "2          12086707.0                                    43.50  Rural  \n",
       "3          12285693.0                                    43.97  Rural  \n",
       "4          12256762.0                                    44.68  Rural  "
      ]
     },
     "execution_count": 24,
     "metadata": {},
     "output_type": "execute_result"
    }
   ],
   "source": [
    "data1=pd.read_csv(\"Unemployment in India - Unemployment in India.csv\")\n",
    "data1.head()"
   ]
  },
  {
   "cell_type": "code",
   "execution_count": 25,
   "id": "2217d728",
   "metadata": {},
   "outputs": [
    {
     "data": {
      "text/plain": [
       "(754, 7)"
      ]
     },
     "execution_count": 25,
     "metadata": {},
     "output_type": "execute_result"
    }
   ],
   "source": [
    "data1.shape"
   ]
  },
  {
   "cell_type": "code",
   "execution_count": 26,
   "id": "aed063d0",
   "metadata": {},
   "outputs": [
    {
     "data": {
      "text/plain": [
       "Index(['Region', 'Date', 'Frequency', 'Estimated Unemployment Rate (%)',\n",
       "       'Estimated Employed', 'Estimated Labour Participation Rate (%)',\n",
       "       'Area'],\n",
       "      dtype='object')"
      ]
     },
     "execution_count": 26,
     "metadata": {},
     "output_type": "execute_result"
    }
   ],
   "source": [
    "data1.columns"
   ]
  },
  {
   "cell_type": "code",
   "execution_count": 27,
   "id": "da32bac3",
   "metadata": {},
   "outputs": [
    {
     "data": {
      "text/html": [
       "<div>\n",
       "<style scoped>\n",
       "    .dataframe tbody tr th:only-of-type {\n",
       "        vertical-align: middle;\n",
       "    }\n",
       "\n",
       "    .dataframe tbody tr th {\n",
       "        vertical-align: top;\n",
       "    }\n",
       "\n",
       "    .dataframe thead th {\n",
       "        text-align: right;\n",
       "    }\n",
       "</style>\n",
       "<table border=\"1\" class=\"dataframe\">\n",
       "  <thead>\n",
       "    <tr style=\"text-align: right;\">\n",
       "      <th></th>\n",
       "      <th>Estimated Unemployment Rate (%)</th>\n",
       "      <th>Estimated Employed</th>\n",
       "      <th>Estimated Labour Participation Rate (%)</th>\n",
       "    </tr>\n",
       "  </thead>\n",
       "  <tbody>\n",
       "    <tr>\n",
       "      <th>count</th>\n",
       "      <td>740.000000</td>\n",
       "      <td>7.400000e+02</td>\n",
       "      <td>740.000000</td>\n",
       "    </tr>\n",
       "    <tr>\n",
       "      <th>mean</th>\n",
       "      <td>11.787946</td>\n",
       "      <td>7.204460e+06</td>\n",
       "      <td>42.630122</td>\n",
       "    </tr>\n",
       "    <tr>\n",
       "      <th>std</th>\n",
       "      <td>10.721298</td>\n",
       "      <td>8.087988e+06</td>\n",
       "      <td>8.111094</td>\n",
       "    </tr>\n",
       "    <tr>\n",
       "      <th>min</th>\n",
       "      <td>0.000000</td>\n",
       "      <td>4.942000e+04</td>\n",
       "      <td>13.330000</td>\n",
       "    </tr>\n",
       "    <tr>\n",
       "      <th>25%</th>\n",
       "      <td>4.657500</td>\n",
       "      <td>1.190404e+06</td>\n",
       "      <td>38.062500</td>\n",
       "    </tr>\n",
       "    <tr>\n",
       "      <th>50%</th>\n",
       "      <td>8.350000</td>\n",
       "      <td>4.744178e+06</td>\n",
       "      <td>41.160000</td>\n",
       "    </tr>\n",
       "    <tr>\n",
       "      <th>75%</th>\n",
       "      <td>15.887500</td>\n",
       "      <td>1.127549e+07</td>\n",
       "      <td>45.505000</td>\n",
       "    </tr>\n",
       "    <tr>\n",
       "      <th>max</th>\n",
       "      <td>76.740000</td>\n",
       "      <td>4.577751e+07</td>\n",
       "      <td>72.570000</td>\n",
       "    </tr>\n",
       "  </tbody>\n",
       "</table>\n",
       "</div>"
      ],
      "text/plain": [
       "       Estimated Unemployment Rate (%)  Estimated Employed  \\\n",
       "count                       740.000000        7.400000e+02   \n",
       "mean                         11.787946        7.204460e+06   \n",
       "std                          10.721298        8.087988e+06   \n",
       "min                           0.000000        4.942000e+04   \n",
       "25%                           4.657500        1.190404e+06   \n",
       "50%                           8.350000        4.744178e+06   \n",
       "75%                          15.887500        1.127549e+07   \n",
       "max                          76.740000        4.577751e+07   \n",
       "\n",
       "       Estimated Labour Participation Rate (%)  \n",
       "count                               740.000000  \n",
       "mean                                 42.630122  \n",
       "std                                   8.111094  \n",
       "min                                  13.330000  \n",
       "25%                                  38.062500  \n",
       "50%                                  41.160000  \n",
       "75%                                  45.505000  \n",
       "max                                  72.570000  "
      ]
     },
     "execution_count": 27,
     "metadata": {},
     "output_type": "execute_result"
    }
   ],
   "source": [
    "data1.describe()"
   ]
  },
  {
   "cell_type": "code",
   "execution_count": 28,
   "id": "b2f664a2",
   "metadata": {},
   "outputs": [
    {
     "data": {
      "text/plain": [
       "Region                                     14\n",
       "Date                                       14\n",
       "Frequency                                  14\n",
       "Estimated Unemployment Rate (%)            14\n",
       "Estimated Employed                         14\n",
       "Estimated Labour Participation Rate (%)    14\n",
       "Area                                       14\n",
       "dtype: int64"
      ]
     },
     "execution_count": 28,
     "metadata": {},
     "output_type": "execute_result"
    }
   ],
   "source": [
    "data1.isnull().sum()"
   ]
  },
  {
   "cell_type": "code",
   "execution_count": 29,
   "id": "c7907ac5",
   "metadata": {},
   "outputs": [
    {
     "data": {
      "text/html": [
       "<div>\n",
       "<style scoped>\n",
       "    .dataframe tbody tr th:only-of-type {\n",
       "        vertical-align: middle;\n",
       "    }\n",
       "\n",
       "    .dataframe tbody tr th {\n",
       "        vertical-align: top;\n",
       "    }\n",
       "\n",
       "    .dataframe thead th {\n",
       "        text-align: right;\n",
       "    }\n",
       "</style>\n",
       "<table border=\"1\" class=\"dataframe\">\n",
       "  <thead>\n",
       "    <tr style=\"text-align: right;\">\n",
       "      <th></th>\n",
       "      <th>Region</th>\n",
       "      <th>Date</th>\n",
       "      <th>Frequency</th>\n",
       "      <th>Estimated Unemployment Rate (%)</th>\n",
       "      <th>Estimated Employed</th>\n",
       "      <th>Estimated Labour Participation Rate (%)</th>\n",
       "      <th>Area</th>\n",
       "    </tr>\n",
       "  </thead>\n",
       "  <tbody>\n",
       "    <tr>\n",
       "      <th>0</th>\n",
       "      <td>False</td>\n",
       "      <td>False</td>\n",
       "      <td>False</td>\n",
       "      <td>False</td>\n",
       "      <td>False</td>\n",
       "      <td>False</td>\n",
       "      <td>False</td>\n",
       "    </tr>\n",
       "    <tr>\n",
       "      <th>1</th>\n",
       "      <td>False</td>\n",
       "      <td>False</td>\n",
       "      <td>False</td>\n",
       "      <td>False</td>\n",
       "      <td>False</td>\n",
       "      <td>False</td>\n",
       "      <td>False</td>\n",
       "    </tr>\n",
       "    <tr>\n",
       "      <th>2</th>\n",
       "      <td>False</td>\n",
       "      <td>False</td>\n",
       "      <td>False</td>\n",
       "      <td>False</td>\n",
       "      <td>False</td>\n",
       "      <td>False</td>\n",
       "      <td>False</td>\n",
       "    </tr>\n",
       "    <tr>\n",
       "      <th>3</th>\n",
       "      <td>False</td>\n",
       "      <td>False</td>\n",
       "      <td>False</td>\n",
       "      <td>False</td>\n",
       "      <td>False</td>\n",
       "      <td>False</td>\n",
       "      <td>False</td>\n",
       "    </tr>\n",
       "    <tr>\n",
       "      <th>4</th>\n",
       "      <td>False</td>\n",
       "      <td>False</td>\n",
       "      <td>False</td>\n",
       "      <td>False</td>\n",
       "      <td>False</td>\n",
       "      <td>False</td>\n",
       "      <td>False</td>\n",
       "    </tr>\n",
       "    <tr>\n",
       "      <th>...</th>\n",
       "      <td>...</td>\n",
       "      <td>...</td>\n",
       "      <td>...</td>\n",
       "      <td>...</td>\n",
       "      <td>...</td>\n",
       "      <td>...</td>\n",
       "      <td>...</td>\n",
       "    </tr>\n",
       "    <tr>\n",
       "      <th>749</th>\n",
       "      <td>False</td>\n",
       "      <td>False</td>\n",
       "      <td>False</td>\n",
       "      <td>False</td>\n",
       "      <td>False</td>\n",
       "      <td>False</td>\n",
       "      <td>False</td>\n",
       "    </tr>\n",
       "    <tr>\n",
       "      <th>750</th>\n",
       "      <td>False</td>\n",
       "      <td>False</td>\n",
       "      <td>False</td>\n",
       "      <td>False</td>\n",
       "      <td>False</td>\n",
       "      <td>False</td>\n",
       "      <td>False</td>\n",
       "    </tr>\n",
       "    <tr>\n",
       "      <th>751</th>\n",
       "      <td>False</td>\n",
       "      <td>False</td>\n",
       "      <td>False</td>\n",
       "      <td>False</td>\n",
       "      <td>False</td>\n",
       "      <td>False</td>\n",
       "      <td>False</td>\n",
       "    </tr>\n",
       "    <tr>\n",
       "      <th>752</th>\n",
       "      <td>False</td>\n",
       "      <td>False</td>\n",
       "      <td>False</td>\n",
       "      <td>False</td>\n",
       "      <td>False</td>\n",
       "      <td>False</td>\n",
       "      <td>False</td>\n",
       "    </tr>\n",
       "    <tr>\n",
       "      <th>753</th>\n",
       "      <td>False</td>\n",
       "      <td>False</td>\n",
       "      <td>False</td>\n",
       "      <td>False</td>\n",
       "      <td>False</td>\n",
       "      <td>False</td>\n",
       "      <td>False</td>\n",
       "    </tr>\n",
       "  </tbody>\n",
       "</table>\n",
       "<p>754 rows × 7 columns</p>\n",
       "</div>"
      ],
      "text/plain": [
       "     Region   Date  Frequency  Estimated Unemployment Rate (%)  \\\n",
       "0     False  False      False                            False   \n",
       "1     False  False      False                            False   \n",
       "2     False  False      False                            False   \n",
       "3     False  False      False                            False   \n",
       "4     False  False      False                            False   \n",
       "..      ...    ...        ...                              ...   \n",
       "749   False  False      False                            False   \n",
       "750   False  False      False                            False   \n",
       "751   False  False      False                            False   \n",
       "752   False  False      False                            False   \n",
       "753   False  False      False                            False   \n",
       "\n",
       "     Estimated Employed  Estimated Labour Participation Rate (%)   Area  \n",
       "0                 False                                    False  False  \n",
       "1                 False                                    False  False  \n",
       "2                 False                                    False  False  \n",
       "3                 False                                    False  False  \n",
       "4                 False                                    False  False  \n",
       "..                  ...                                      ...    ...  \n",
       "749               False                                    False  False  \n",
       "750               False                                    False  False  \n",
       "751               False                                    False  False  \n",
       "752               False                                    False  False  \n",
       "753               False                                    False  False  \n",
       "\n",
       "[754 rows x 7 columns]"
      ]
     },
     "execution_count": 29,
     "metadata": {},
     "output_type": "execute_result"
    }
   ],
   "source": [
    "data1.isnull()"
   ]
  },
  {
   "cell_type": "code",
   "execution_count": 30,
   "id": "cb5ce1e1",
   "metadata": {},
   "outputs": [],
   "source": [
    "data1.dropna(how=\"all\",inplace=True)"
   ]
  },
  {
   "cell_type": "code",
   "execution_count": 31,
   "id": "9ad2db66",
   "metadata": {},
   "outputs": [
    {
     "data": {
      "text/plain": [
       "Region                                     0\n",
       "Date                                       0\n",
       "Frequency                                  0\n",
       "Estimated Unemployment Rate (%)            0\n",
       "Estimated Employed                         0\n",
       "Estimated Labour Participation Rate (%)    0\n",
       "Area                                       0\n",
       "dtype: int64"
      ]
     },
     "execution_count": 31,
     "metadata": {},
     "output_type": "execute_result"
    }
   ],
   "source": [
    "data1.isnull().sum()"
   ]
  },
  {
   "cell_type": "code",
   "execution_count": 32,
   "id": "7af1614e",
   "metadata": {},
   "outputs": [
    {
     "data": {
      "text/plain": [
       "Andhra Pradesh      28\n",
       "Kerala              28\n",
       "West Bengal         28\n",
       "Uttar Pradesh       28\n",
       "Tripura             28\n",
       "Telangana           28\n",
       "Tamil Nadu          28\n",
       "Rajasthan           28\n",
       "Punjab              28\n",
       "Odisha              28\n",
       "Madhya Pradesh      28\n",
       "Maharashtra         28\n",
       "Karnataka           28\n",
       "Jharkhand           28\n",
       "Himachal Pradesh    28\n",
       "Haryana             28\n",
       "Gujarat             28\n",
       "Delhi               28\n",
       "Chhattisgarh        28\n",
       "Bihar               28\n",
       "Meghalaya           27\n",
       "Uttarakhand         27\n",
       "Assam               26\n",
       "Puducherry          26\n",
       "Goa                 24\n",
       "Jammu & Kashmir     21\n",
       "Sikkim              17\n",
       "Chandigarh          12\n",
       "Name: Region, dtype: int64"
      ]
     },
     "execution_count": 32,
     "metadata": {},
     "output_type": "execute_result"
    }
   ],
   "source": [
    "data1.Region.value_counts()"
   ]
  },
  {
   "cell_type": "code",
   "execution_count": 33,
   "id": "50a98694",
   "metadata": {},
   "outputs": [
    {
     "data": {
      "text/html": [
       "<div>\n",
       "<style scoped>\n",
       "    .dataframe tbody tr th:only-of-type {\n",
       "        vertical-align: middle;\n",
       "    }\n",
       "\n",
       "    .dataframe tbody tr th {\n",
       "        vertical-align: top;\n",
       "    }\n",
       "\n",
       "    .dataframe thead th {\n",
       "        text-align: right;\n",
       "    }\n",
       "</style>\n",
       "<table border=\"1\" class=\"dataframe\">\n",
       "  <thead>\n",
       "    <tr style=\"text-align: right;\">\n",
       "      <th></th>\n",
       "      <th>Estimated Unemployment Rate (%)</th>\n",
       "      <th>Estimated Employed</th>\n",
       "      <th>Estimated Labour Participation Rate (%)</th>\n",
       "    </tr>\n",
       "  </thead>\n",
       "  <tbody>\n",
       "    <tr>\n",
       "      <th>0</th>\n",
       "      <td>3.65</td>\n",
       "      <td>11999139.0</td>\n",
       "      <td>43.24</td>\n",
       "    </tr>\n",
       "    <tr>\n",
       "      <th>1</th>\n",
       "      <td>3.05</td>\n",
       "      <td>11755881.0</td>\n",
       "      <td>42.05</td>\n",
       "    </tr>\n",
       "    <tr>\n",
       "      <th>2</th>\n",
       "      <td>3.75</td>\n",
       "      <td>12086707.0</td>\n",
       "      <td>43.50</td>\n",
       "    </tr>\n",
       "    <tr>\n",
       "      <th>3</th>\n",
       "      <td>3.32</td>\n",
       "      <td>12285693.0</td>\n",
       "      <td>43.97</td>\n",
       "    </tr>\n",
       "    <tr>\n",
       "      <th>4</th>\n",
       "      <td>5.17</td>\n",
       "      <td>12256762.0</td>\n",
       "      <td>44.68</td>\n",
       "    </tr>\n",
       "    <tr>\n",
       "      <th>...</th>\n",
       "      <td>...</td>\n",
       "      <td>...</td>\n",
       "      <td>...</td>\n",
       "    </tr>\n",
       "    <tr>\n",
       "      <th>749</th>\n",
       "      <td>7.55</td>\n",
       "      <td>10871168.0</td>\n",
       "      <td>44.09</td>\n",
       "    </tr>\n",
       "    <tr>\n",
       "      <th>750</th>\n",
       "      <td>6.67</td>\n",
       "      <td>10806105.0</td>\n",
       "      <td>43.34</td>\n",
       "    </tr>\n",
       "    <tr>\n",
       "      <th>751</th>\n",
       "      <td>15.63</td>\n",
       "      <td>9299466.0</td>\n",
       "      <td>41.20</td>\n",
       "    </tr>\n",
       "    <tr>\n",
       "      <th>752</th>\n",
       "      <td>15.22</td>\n",
       "      <td>9240903.0</td>\n",
       "      <td>40.67</td>\n",
       "    </tr>\n",
       "    <tr>\n",
       "      <th>753</th>\n",
       "      <td>9.86</td>\n",
       "      <td>9088931.0</td>\n",
       "      <td>37.57</td>\n",
       "    </tr>\n",
       "  </tbody>\n",
       "</table>\n",
       "<p>740 rows × 3 columns</p>\n",
       "</div>"
      ],
      "text/plain": [
       "     Estimated Unemployment Rate (%)  Estimated Employed  \\\n",
       "0                               3.65          11999139.0   \n",
       "1                               3.05          11755881.0   \n",
       "2                               3.75          12086707.0   \n",
       "3                               3.32          12285693.0   \n",
       "4                               5.17          12256762.0   \n",
       "..                               ...                 ...   \n",
       "749                             7.55          10871168.0   \n",
       "750                             6.67          10806105.0   \n",
       "751                            15.63           9299466.0   \n",
       "752                            15.22           9240903.0   \n",
       "753                             9.86           9088931.0   \n",
       "\n",
       "     Estimated Labour Participation Rate (%)  \n",
       "0                                      43.24  \n",
       "1                                      42.05  \n",
       "2                                      43.50  \n",
       "3                                      43.97  \n",
       "4                                      44.68  \n",
       "..                                       ...  \n",
       "749                                    44.09  \n",
       "750                                    43.34  \n",
       "751                                    41.20  \n",
       "752                                    40.67  \n",
       "753                                    37.57  \n",
       "\n",
       "[740 rows x 3 columns]"
      ]
     },
     "execution_count": 33,
     "metadata": {},
     "output_type": "execute_result"
    }
   ],
   "source": [
    "statisticalData = data1[[\"Estimated Unemployment Rate (%)\" , \"Estimated Employed\" , \"Estimated Labour Participation Rate (%)\"]]\n",
    "statisticalData"
   ]
  },
  {
   "cell_type": "code",
   "execution_count": null,
   "id": "9bb10f24",
   "metadata": {},
   "outputs": [],
   "source": []
  },
  {
   "cell_type": "code",
   "execution_count": 17,
   "id": "634fc38e",
   "metadata": {},
   "outputs": [
    {
     "data": {
      "text/html": [
       "<div>\n",
       "<style scoped>\n",
       "    .dataframe tbody tr th:only-of-type {\n",
       "        vertical-align: middle;\n",
       "    }\n",
       "\n",
       "    .dataframe tbody tr th {\n",
       "        vertical-align: top;\n",
       "    }\n",
       "\n",
       "    .dataframe thead th {\n",
       "        text-align: right;\n",
       "    }\n",
       "</style>\n",
       "<table border=\"1\" class=\"dataframe\">\n",
       "  <thead>\n",
       "    <tr style=\"text-align: right;\">\n",
       "      <th></th>\n",
       "      <th>count</th>\n",
       "      <th>mean</th>\n",
       "      <th>std</th>\n",
       "      <th>min</th>\n",
       "      <th>25%</th>\n",
       "      <th>50%</th>\n",
       "      <th>75%</th>\n",
       "      <th>max</th>\n",
       "    </tr>\n",
       "  </thead>\n",
       "  <tbody>\n",
       "    <tr>\n",
       "      <th>Estimated Unemployment Rate (%)</th>\n",
       "      <td>740.0</td>\n",
       "      <td>11.79</td>\n",
       "      <td>10.72</td>\n",
       "      <td>0.00</td>\n",
       "      <td>4.66</td>\n",
       "      <td>8.35</td>\n",
       "      <td>15.89</td>\n",
       "      <td>76.74</td>\n",
       "    </tr>\n",
       "    <tr>\n",
       "      <th>Estimated Employed</th>\n",
       "      <td>740.0</td>\n",
       "      <td>7204460.03</td>\n",
       "      <td>8087988.43</td>\n",
       "      <td>49420.00</td>\n",
       "      <td>1190404.50</td>\n",
       "      <td>4744178.50</td>\n",
       "      <td>11275489.50</td>\n",
       "      <td>45777509.00</td>\n",
       "    </tr>\n",
       "    <tr>\n",
       "      <th>Estimated Labour Participation Rate (%)</th>\n",
       "      <td>740.0</td>\n",
       "      <td>42.63</td>\n",
       "      <td>8.11</td>\n",
       "      <td>13.33</td>\n",
       "      <td>38.06</td>\n",
       "      <td>41.16</td>\n",
       "      <td>45.50</td>\n",
       "      <td>72.57</td>\n",
       "    </tr>\n",
       "  </tbody>\n",
       "</table>\n",
       "</div>"
      ],
      "text/plain": [
       "                                         count        mean         std  \\\n",
       "Estimated Unemployment Rate (%)          740.0       11.79       10.72   \n",
       "Estimated Employed                       740.0  7204460.03  8087988.43   \n",
       "Estimated Labour Participation Rate (%)  740.0       42.63        8.11   \n",
       "\n",
       "                                              min         25%         50%  \\\n",
       "Estimated Unemployment Rate (%)              0.00        4.66        8.35   \n",
       "Estimated Employed                       49420.00  1190404.50  4744178.50   \n",
       "Estimated Labour Participation Rate (%)     13.33       38.06       41.16   \n",
       "\n",
       "                                                 75%          max  \n",
       "Estimated Unemployment Rate (%)                15.89        76.74  \n",
       "Estimated Employed                       11275489.50  45777509.00  \n",
       "Estimated Labour Participation Rate (%)        45.50        72.57  "
      ]
     },
     "execution_count": 17,
     "metadata": {},
     "output_type": "execute_result"
    }
   ],
   "source": [
    "round(statisticalData.describe().T, 2)"
   ]
  },
  {
   "cell_type": "code",
   "execution_count": 34,
   "id": "c9b5e59c",
   "metadata": {},
   "outputs": [],
   "source": [
    "regionStatistics = data1.groupby(['Region'])[[\"Estimated Unemployment Rate (%)\" , \"Estimated Employed\" , \"Estimated Labour Participation Rate (%)\"]].mean().reset_index()"
   ]
  },
  {
   "cell_type": "code",
   "execution_count": 35,
   "id": "5da6ff14",
   "metadata": {},
   "outputs": [
    {
     "data": {
      "text/html": [
       "<div>\n",
       "<style scoped>\n",
       "    .dataframe tbody tr th:only-of-type {\n",
       "        vertical-align: middle;\n",
       "    }\n",
       "\n",
       "    .dataframe tbody tr th {\n",
       "        vertical-align: top;\n",
       "    }\n",
       "\n",
       "    .dataframe thead th {\n",
       "        text-align: right;\n",
       "    }\n",
       "</style>\n",
       "<table border=\"1\" class=\"dataframe\">\n",
       "  <thead>\n",
       "    <tr style=\"text-align: right;\">\n",
       "      <th></th>\n",
       "      <th>Region</th>\n",
       "      <th>Estimated Unemployment Rate (%)</th>\n",
       "      <th>Estimated Employed</th>\n",
       "      <th>Estimated Labour Participation Rate (%)</th>\n",
       "    </tr>\n",
       "  </thead>\n",
       "  <tbody>\n",
       "    <tr>\n",
       "      <th>0</th>\n",
       "      <td>Andhra Pradesh</td>\n",
       "      <td>7.477143</td>\n",
       "      <td>8.154093e+06</td>\n",
       "      <td>39.375714</td>\n",
       "    </tr>\n",
       "    <tr>\n",
       "      <th>1</th>\n",
       "      <td>Assam</td>\n",
       "      <td>6.428077</td>\n",
       "      <td>5.354772e+06</td>\n",
       "      <td>44.868462</td>\n",
       "    </tr>\n",
       "    <tr>\n",
       "      <th>2</th>\n",
       "      <td>Bihar</td>\n",
       "      <td>18.918214</td>\n",
       "      <td>1.236619e+07</td>\n",
       "      <td>38.153929</td>\n",
       "    </tr>\n",
       "    <tr>\n",
       "      <th>3</th>\n",
       "      <td>Chandigarh</td>\n",
       "      <td>15.991667</td>\n",
       "      <td>3.168312e+05</td>\n",
       "      <td>39.336667</td>\n",
       "    </tr>\n",
       "    <tr>\n",
       "      <th>4</th>\n",
       "      <td>Chhattisgarh</td>\n",
       "      <td>9.240357</td>\n",
       "      <td>4.303499e+06</td>\n",
       "      <td>42.810714</td>\n",
       "    </tr>\n",
       "    <tr>\n",
       "      <th>5</th>\n",
       "      <td>Delhi</td>\n",
       "      <td>16.495357</td>\n",
       "      <td>2.627513e+06</td>\n",
       "      <td>38.929643</td>\n",
       "    </tr>\n",
       "    <tr>\n",
       "      <th>6</th>\n",
       "      <td>Goa</td>\n",
       "      <td>9.274167</td>\n",
       "      <td>2.263083e+05</td>\n",
       "      <td>39.249583</td>\n",
       "    </tr>\n",
       "    <tr>\n",
       "      <th>7</th>\n",
       "      <td>Gujarat</td>\n",
       "      <td>6.663929</td>\n",
       "      <td>1.140201e+07</td>\n",
       "      <td>46.101071</td>\n",
       "    </tr>\n",
       "    <tr>\n",
       "      <th>8</th>\n",
       "      <td>Haryana</td>\n",
       "      <td>26.283214</td>\n",
       "      <td>3.557072e+06</td>\n",
       "      <td>42.737143</td>\n",
       "    </tr>\n",
       "    <tr>\n",
       "      <th>9</th>\n",
       "      <td>Himachal Pradesh</td>\n",
       "      <td>18.540357</td>\n",
       "      <td>1.059824e+06</td>\n",
       "      <td>44.222143</td>\n",
       "    </tr>\n",
       "    <tr>\n",
       "      <th>10</th>\n",
       "      <td>Jammu &amp; Kashmir</td>\n",
       "      <td>16.188571</td>\n",
       "      <td>1.799932e+06</td>\n",
       "      <td>41.030952</td>\n",
       "    </tr>\n",
       "    <tr>\n",
       "      <th>11</th>\n",
       "      <td>Jharkhand</td>\n",
       "      <td>20.585000</td>\n",
       "      <td>4.469240e+06</td>\n",
       "      <td>41.670714</td>\n",
       "    </tr>\n",
       "    <tr>\n",
       "      <th>12</th>\n",
       "      <td>Karnataka</td>\n",
       "      <td>6.676071</td>\n",
       "      <td>1.066712e+07</td>\n",
       "      <td>41.345357</td>\n",
       "    </tr>\n",
       "    <tr>\n",
       "      <th>13</th>\n",
       "      <td>Kerala</td>\n",
       "      <td>10.123929</td>\n",
       "      <td>4.425900e+06</td>\n",
       "      <td>34.867857</td>\n",
       "    </tr>\n",
       "    <tr>\n",
       "      <th>14</th>\n",
       "      <td>Madhya Pradesh</td>\n",
       "      <td>7.406429</td>\n",
       "      <td>1.111548e+07</td>\n",
       "      <td>38.821429</td>\n",
       "    </tr>\n",
       "    <tr>\n",
       "      <th>15</th>\n",
       "      <td>Maharashtra</td>\n",
       "      <td>7.557500</td>\n",
       "      <td>1.999020e+07</td>\n",
       "      <td>42.303214</td>\n",
       "    </tr>\n",
       "    <tr>\n",
       "      <th>16</th>\n",
       "      <td>Meghalaya</td>\n",
       "      <td>4.798889</td>\n",
       "      <td>6.897368e+05</td>\n",
       "      <td>57.080741</td>\n",
       "    </tr>\n",
       "    <tr>\n",
       "      <th>17</th>\n",
       "      <td>Odisha</td>\n",
       "      <td>5.657857</td>\n",
       "      <td>6.545747e+06</td>\n",
       "      <td>38.926429</td>\n",
       "    </tr>\n",
       "    <tr>\n",
       "      <th>18</th>\n",
       "      <td>Puducherry</td>\n",
       "      <td>10.215000</td>\n",
       "      <td>2.122781e+05</td>\n",
       "      <td>38.992692</td>\n",
       "    </tr>\n",
       "    <tr>\n",
       "      <th>19</th>\n",
       "      <td>Punjab</td>\n",
       "      <td>12.031071</td>\n",
       "      <td>4.539362e+06</td>\n",
       "      <td>41.138214</td>\n",
       "    </tr>\n",
       "    <tr>\n",
       "      <th>20</th>\n",
       "      <td>Rajasthan</td>\n",
       "      <td>14.058214</td>\n",
       "      <td>1.004106e+07</td>\n",
       "      <td>39.973214</td>\n",
       "    </tr>\n",
       "    <tr>\n",
       "      <th>21</th>\n",
       "      <td>Sikkim</td>\n",
       "      <td>7.249412</td>\n",
       "      <td>1.068807e+05</td>\n",
       "      <td>46.070000</td>\n",
       "    </tr>\n",
       "    <tr>\n",
       "      <th>22</th>\n",
       "      <td>Tamil Nadu</td>\n",
       "      <td>9.284286</td>\n",
       "      <td>1.226955e+07</td>\n",
       "      <td>40.872143</td>\n",
       "    </tr>\n",
       "    <tr>\n",
       "      <th>23</th>\n",
       "      <td>Telangana</td>\n",
       "      <td>7.737857</td>\n",
       "      <td>7.939663e+06</td>\n",
       "      <td>53.002500</td>\n",
       "    </tr>\n",
       "    <tr>\n",
       "      <th>24</th>\n",
       "      <td>Tripura</td>\n",
       "      <td>28.350357</td>\n",
       "      <td>7.170026e+05</td>\n",
       "      <td>61.823929</td>\n",
       "    </tr>\n",
       "    <tr>\n",
       "      <th>25</th>\n",
       "      <td>Uttar Pradesh</td>\n",
       "      <td>12.551429</td>\n",
       "      <td>2.809483e+07</td>\n",
       "      <td>39.432500</td>\n",
       "    </tr>\n",
       "    <tr>\n",
       "      <th>26</th>\n",
       "      <td>Uttarakhand</td>\n",
       "      <td>6.582963</td>\n",
       "      <td>1.390228e+06</td>\n",
       "      <td>33.775556</td>\n",
       "    </tr>\n",
       "    <tr>\n",
       "      <th>27</th>\n",
       "      <td>West Bengal</td>\n",
       "      <td>8.124643</td>\n",
       "      <td>1.719854e+07</td>\n",
       "      <td>45.417500</td>\n",
       "    </tr>\n",
       "  </tbody>\n",
       "</table>\n",
       "</div>"
      ],
      "text/plain": [
       "              Region  Estimated Unemployment Rate (%)  Estimated Employed  \\\n",
       "0     Andhra Pradesh                         7.477143        8.154093e+06   \n",
       "1              Assam                         6.428077        5.354772e+06   \n",
       "2              Bihar                        18.918214        1.236619e+07   \n",
       "3         Chandigarh                        15.991667        3.168312e+05   \n",
       "4       Chhattisgarh                         9.240357        4.303499e+06   \n",
       "5              Delhi                        16.495357        2.627513e+06   \n",
       "6                Goa                         9.274167        2.263083e+05   \n",
       "7            Gujarat                         6.663929        1.140201e+07   \n",
       "8            Haryana                        26.283214        3.557072e+06   \n",
       "9   Himachal Pradesh                        18.540357        1.059824e+06   \n",
       "10   Jammu & Kashmir                        16.188571        1.799932e+06   \n",
       "11         Jharkhand                        20.585000        4.469240e+06   \n",
       "12         Karnataka                         6.676071        1.066712e+07   \n",
       "13            Kerala                        10.123929        4.425900e+06   \n",
       "14    Madhya Pradesh                         7.406429        1.111548e+07   \n",
       "15       Maharashtra                         7.557500        1.999020e+07   \n",
       "16         Meghalaya                         4.798889        6.897368e+05   \n",
       "17            Odisha                         5.657857        6.545747e+06   \n",
       "18        Puducherry                        10.215000        2.122781e+05   \n",
       "19            Punjab                        12.031071        4.539362e+06   \n",
       "20         Rajasthan                        14.058214        1.004106e+07   \n",
       "21            Sikkim                         7.249412        1.068807e+05   \n",
       "22        Tamil Nadu                         9.284286        1.226955e+07   \n",
       "23         Telangana                         7.737857        7.939663e+06   \n",
       "24           Tripura                        28.350357        7.170026e+05   \n",
       "25     Uttar Pradesh                        12.551429        2.809483e+07   \n",
       "26       Uttarakhand                         6.582963        1.390228e+06   \n",
       "27       West Bengal                         8.124643        1.719854e+07   \n",
       "\n",
       "    Estimated Labour Participation Rate (%)  \n",
       "0                                 39.375714  \n",
       "1                                 44.868462  \n",
       "2                                 38.153929  \n",
       "3                                 39.336667  \n",
       "4                                 42.810714  \n",
       "5                                 38.929643  \n",
       "6                                 39.249583  \n",
       "7                                 46.101071  \n",
       "8                                 42.737143  \n",
       "9                                 44.222143  \n",
       "10                                41.030952  \n",
       "11                                41.670714  \n",
       "12                                41.345357  \n",
       "13                                34.867857  \n",
       "14                                38.821429  \n",
       "15                                42.303214  \n",
       "16                                57.080741  \n",
       "17                                38.926429  \n",
       "18                                38.992692  \n",
       "19                                41.138214  \n",
       "20                                39.973214  \n",
       "21                                46.070000  \n",
       "22                                40.872143  \n",
       "23                                53.002500  \n",
       "24                                61.823929  \n",
       "25                                39.432500  \n",
       "26                                33.775556  \n",
       "27                                45.417500  "
      ]
     },
     "execution_count": 35,
     "metadata": {},
     "output_type": "execute_result"
    }
   ],
   "source": [
    "regionStatistics"
   ]
  },
  {
   "cell_type": "code",
   "execution_count": 36,
   "id": "2ab1fcd0",
   "metadata": {},
   "outputs": [],
   "source": [
    "import matplotlib.pyplot as plt\n",
    "import seaborn as sns"
   ]
  },
  {
   "cell_type": "code",
   "execution_count": 18,
   "id": "af9d29a7",
   "metadata": {},
   "outputs": [],
   "source": [
    "import plotly.express as px"
   ]
  },
  {
   "cell_type": "code",
   "execution_count": 37,
   "id": "852be099",
   "metadata": {},
   "outputs": [
    {
     "data": {
      "application/vnd.plotly.v1+json": {
       "config": {
        "plotlyServerURL": "https://plot.ly"
       },
       "data": [
        {
         "branchvalues": "total",
         "domain": {
          "x": [
           0,
           1
          ],
          "y": [
           0,
           1
          ]
         },
         "hovertemplate": "labels=%{label}<br>Estimated Unemployment Rate (%)=%{value}<br>parent=%{parent}<br>id=%{id}<extra></extra>",
         "ids": [
          "Andhra Pradesh/Rural",
          "Assam/Rural",
          "Bihar/Rural",
          "Chhattisgarh/Rural",
          "Delhi/Rural",
          "Goa/Rural",
          "Gujarat/Rural",
          "Haryana/Rural",
          "Himachal Pradesh/Rural",
          "Jammu & Kashmir/Rural",
          "Jharkhand/Rural",
          "Karnataka/Rural",
          "Kerala/Rural",
          "Madhya Pradesh/Rural",
          "Maharashtra/Rural",
          "Meghalaya/Rural",
          "Odisha/Rural",
          "Puducherry/Rural",
          "Punjab/Rural",
          "Rajasthan/Rural",
          "Sikkim/Rural",
          "Tamil Nadu/Rural",
          "Telangana/Rural",
          "Tripura/Rural",
          "Uttar Pradesh/Rural",
          "Uttarakhand/Rural",
          "West Bengal/Rural",
          "Andhra Pradesh/Urban",
          "Assam/Urban",
          "Bihar/Urban",
          "Chandigarh/Urban",
          "Chhattisgarh/Urban",
          "Delhi/Urban",
          "Goa/Urban",
          "Gujarat/Urban",
          "Haryana/Urban",
          "Himachal Pradesh/Urban",
          "Jammu & Kashmir/Urban",
          "Jharkhand/Urban",
          "Karnataka/Urban",
          "Kerala/Urban",
          "Madhya Pradesh/Urban",
          "Maharashtra/Urban",
          "Meghalaya/Urban",
          "Odisha/Urban",
          "Puducherry/Urban",
          "Punjab/Urban",
          "Rajasthan/Urban",
          "Sikkim/Urban",
          "Tamil Nadu/Urban",
          "Telangana/Urban",
          "Tripura/Urban",
          "Uttar Pradesh/Urban",
          "Uttarakhand/Urban",
          "West Bengal/Urban",
          "Andhra Pradesh",
          "Assam",
          "Bihar",
          "Chandigarh",
          "Chhattisgarh",
          "Delhi",
          "Goa",
          "Gujarat",
          "Haryana",
          "Himachal Pradesh",
          "Jammu & Kashmir",
          "Jharkhand",
          "Karnataka",
          "Kerala",
          "Madhya Pradesh",
          "Maharashtra",
          "Meghalaya",
          "Odisha",
          "Puducherry",
          "Punjab",
          "Rajasthan",
          "Sikkim",
          "Tamil Nadu",
          "Telangana",
          "Tripura",
          "Uttar Pradesh",
          "Uttarakhand",
          "West Bengal"
         ],
         "labels": [
          "Rural",
          "Rural",
          "Rural",
          "Rural",
          "Rural",
          "Rural",
          "Rural",
          "Rural",
          "Rural",
          "Rural",
          "Rural",
          "Rural",
          "Rural",
          "Rural",
          "Rural",
          "Rural",
          "Rural",
          "Rural",
          "Rural",
          "Rural",
          "Rural",
          "Rural",
          "Rural",
          "Rural",
          "Rural",
          "Rural",
          "Rural",
          "Urban",
          "Urban",
          "Urban",
          "Urban",
          "Urban",
          "Urban",
          "Urban",
          "Urban",
          "Urban",
          "Urban",
          "Urban",
          "Urban",
          "Urban",
          "Urban",
          "Urban",
          "Urban",
          "Urban",
          "Urban",
          "Urban",
          "Urban",
          "Urban",
          "Urban",
          "Urban",
          "Urban",
          "Urban",
          "Urban",
          "Urban",
          "Urban",
          "Andhra Pradesh",
          "Assam",
          "Bihar",
          "Chandigarh",
          "Chhattisgarh",
          "Delhi",
          "Goa",
          "Gujarat",
          "Haryana",
          "Himachal Pradesh",
          "Jammu & Kashmir",
          "Jharkhand",
          "Karnataka",
          "Kerala",
          "Madhya Pradesh",
          "Maharashtra",
          "Meghalaya",
          "Odisha",
          "Puducherry",
          "Punjab",
          "Rajasthan",
          "Sikkim",
          "Tamil Nadu",
          "Telangana",
          "Tripura",
          "Uttar Pradesh",
          "Uttarakhand",
          "West Bengal"
         ],
         "name": "",
         "parents": [
          "Andhra Pradesh",
          "Assam",
          "Bihar",
          "Chhattisgarh",
          "Delhi",
          "Goa",
          "Gujarat",
          "Haryana",
          "Himachal Pradesh",
          "Jammu & Kashmir",
          "Jharkhand",
          "Karnataka",
          "Kerala",
          "Madhya Pradesh",
          "Maharashtra",
          "Meghalaya",
          "Odisha",
          "Puducherry",
          "Punjab",
          "Rajasthan",
          "Sikkim",
          "Tamil Nadu",
          "Telangana",
          "Tripura",
          "Uttar Pradesh",
          "Uttarakhand",
          "West Bengal",
          "Andhra Pradesh",
          "Assam",
          "Bihar",
          "Chandigarh",
          "Chhattisgarh",
          "Delhi",
          "Goa",
          "Gujarat",
          "Haryana",
          "Himachal Pradesh",
          "Jammu & Kashmir",
          "Jharkhand",
          "Karnataka",
          "Kerala",
          "Madhya Pradesh",
          "Maharashtra",
          "Meghalaya",
          "Odisha",
          "Puducherry",
          "Punjab",
          "Rajasthan",
          "Sikkim",
          "Tamil Nadu",
          "Telangana",
          "Tripura",
          "Uttar Pradesh",
          "Uttarakhand",
          "West Bengal",
          "",
          "",
          "",
          "",
          "",
          "",
          "",
          "",
          "",
          "",
          "",
          "",
          "",
          "",
          "",
          "",
          "",
          "",
          "",
          "",
          "",
          "",
          "",
          "",
          "",
          "",
          "",
          ""
         ],
         "type": "sunburst",
         "values": [
          5.526428571428572,
          4.490833333333334,
          16.77,
          6.628571428571428,
          15.258571428571429,
          8.39,
          5.917142857142857,
          25.012857142857143,
          15.504285714285714,
          14.951818181818181,
          15.221428571428572,
          7.224285714285714,
          10.34142857142857,
          5.653571428571429,
          6.8100000000000005,
          2.4750000000000005,
          6.612857142857143,
          7.263333333333333,
          11.924999999999999,
          10.927142857142856,
          5.08,
          8.775714285714285,
          7.863571428571428,
          27.166428571428572,
          10.20857142857143,
          4.882307692307692,
          7.5721428571428575,
          9.427857142857144,
          8.088571428571429,
          21.06642857142857,
          15.991666666666667,
          11.852142857142857,
          17.732142857142858,
          10.158333333333333,
          7.410714285714286,
          27.553571428571427,
          21.576428571428572,
          17.549,
          25.94857142857143,
          6.127857142857144,
          9.906428571428572,
          9.159285714285716,
          8.305,
          7.3015384615384615,
          4.702857142857143,
          12.745000000000001,
          12.137142857142859,
          17.189285714285713,
          8.153333333333334,
          9.792857142857143,
          7.6121428571428575,
          29.534285714285716,
          14.894285714285715,
          8.162142857142857,
          8.677142857142858,
          14.954285714285717,
          12.579404761904762,
          37.83642857142857,
          15.991666666666667,
          18.480714285714285,
          32.99071428571429,
          18.548333333333332,
          13.327857142857143,
          52.566428571428574,
          37.080714285714286,
          32.50081818181818,
          41.17,
          13.352142857142859,
          20.247857142857143,
          14.812857142857144,
          15.115,
          9.776538461538461,
          11.315714285714286,
          20.008333333333333,
          24.06214285714286,
          28.11642857142857,
          13.233333333333334,
          18.568571428571428,
          15.475714285714286,
          56.700714285714284,
          25.102857142857147,
          13.044450549450548,
          16.249285714285715
         ]
        }
       ],
       "layout": {
        "height": 1150,
        "legend": {
         "tracegroupgap": 0
        },
        "template": {
         "data": {
          "bar": [
           {
            "error_x": {
             "color": "rgb(51,51,51)"
            },
            "error_y": {
             "color": "rgb(51,51,51)"
            },
            "marker": {
             "line": {
              "color": "rgb(237,237,237)",
              "width": 0.5
             },
             "pattern": {
              "fillmode": "overlay",
              "size": 10,
              "solidity": 0.2
             }
            },
            "type": "bar"
           }
          ],
          "barpolar": [
           {
            "marker": {
             "line": {
              "color": "rgb(237,237,237)",
              "width": 0.5
             },
             "pattern": {
              "fillmode": "overlay",
              "size": 10,
              "solidity": 0.2
             }
            },
            "type": "barpolar"
           }
          ],
          "carpet": [
           {
            "aaxis": {
             "endlinecolor": "rgb(51,51,51)",
             "gridcolor": "white",
             "linecolor": "white",
             "minorgridcolor": "white",
             "startlinecolor": "rgb(51,51,51)"
            },
            "baxis": {
             "endlinecolor": "rgb(51,51,51)",
             "gridcolor": "white",
             "linecolor": "white",
             "minorgridcolor": "white",
             "startlinecolor": "rgb(51,51,51)"
            },
            "type": "carpet"
           }
          ],
          "choropleth": [
           {
            "colorbar": {
             "outlinewidth": 0,
             "tickcolor": "rgb(237,237,237)",
             "ticklen": 6,
             "ticks": "inside"
            },
            "type": "choropleth"
           }
          ],
          "contour": [
           {
            "colorbar": {
             "outlinewidth": 0,
             "tickcolor": "rgb(237,237,237)",
             "ticklen": 6,
             "ticks": "inside"
            },
            "colorscale": [
             [
              0,
              "rgb(20,44,66)"
             ],
             [
              1,
              "rgb(90,179,244)"
             ]
            ],
            "type": "contour"
           }
          ],
          "contourcarpet": [
           {
            "colorbar": {
             "outlinewidth": 0,
             "tickcolor": "rgb(237,237,237)",
             "ticklen": 6,
             "ticks": "inside"
            },
            "type": "contourcarpet"
           }
          ],
          "heatmap": [
           {
            "colorbar": {
             "outlinewidth": 0,
             "tickcolor": "rgb(237,237,237)",
             "ticklen": 6,
             "ticks": "inside"
            },
            "colorscale": [
             [
              0,
              "rgb(20,44,66)"
             ],
             [
              1,
              "rgb(90,179,244)"
             ]
            ],
            "type": "heatmap"
           }
          ],
          "heatmapgl": [
           {
            "colorbar": {
             "outlinewidth": 0,
             "tickcolor": "rgb(237,237,237)",
             "ticklen": 6,
             "ticks": "inside"
            },
            "colorscale": [
             [
              0,
              "rgb(20,44,66)"
             ],
             [
              1,
              "rgb(90,179,244)"
             ]
            ],
            "type": "heatmapgl"
           }
          ],
          "histogram": [
           {
            "marker": {
             "pattern": {
              "fillmode": "overlay",
              "size": 10,
              "solidity": 0.2
             }
            },
            "type": "histogram"
           }
          ],
          "histogram2d": [
           {
            "colorbar": {
             "outlinewidth": 0,
             "tickcolor": "rgb(237,237,237)",
             "ticklen": 6,
             "ticks": "inside"
            },
            "colorscale": [
             [
              0,
              "rgb(20,44,66)"
             ],
             [
              1,
              "rgb(90,179,244)"
             ]
            ],
            "type": "histogram2d"
           }
          ],
          "histogram2dcontour": [
           {
            "colorbar": {
             "outlinewidth": 0,
             "tickcolor": "rgb(237,237,237)",
             "ticklen": 6,
             "ticks": "inside"
            },
            "colorscale": [
             [
              0,
              "rgb(20,44,66)"
             ],
             [
              1,
              "rgb(90,179,244)"
             ]
            ],
            "type": "histogram2dcontour"
           }
          ],
          "mesh3d": [
           {
            "colorbar": {
             "outlinewidth": 0,
             "tickcolor": "rgb(237,237,237)",
             "ticklen": 6,
             "ticks": "inside"
            },
            "type": "mesh3d"
           }
          ],
          "parcoords": [
           {
            "line": {
             "colorbar": {
              "outlinewidth": 0,
              "tickcolor": "rgb(237,237,237)",
              "ticklen": 6,
              "ticks": "inside"
             }
            },
            "type": "parcoords"
           }
          ],
          "pie": [
           {
            "automargin": true,
            "type": "pie"
           }
          ],
          "scatter": [
           {
            "fillpattern": {
             "fillmode": "overlay",
             "size": 10,
             "solidity": 0.2
            },
            "type": "scatter"
           }
          ],
          "scatter3d": [
           {
            "line": {
             "colorbar": {
              "outlinewidth": 0,
              "tickcolor": "rgb(237,237,237)",
              "ticklen": 6,
              "ticks": "inside"
             }
            },
            "marker": {
             "colorbar": {
              "outlinewidth": 0,
              "tickcolor": "rgb(237,237,237)",
              "ticklen": 6,
              "ticks": "inside"
             }
            },
            "type": "scatter3d"
           }
          ],
          "scattercarpet": [
           {
            "marker": {
             "colorbar": {
              "outlinewidth": 0,
              "tickcolor": "rgb(237,237,237)",
              "ticklen": 6,
              "ticks": "inside"
             }
            },
            "type": "scattercarpet"
           }
          ],
          "scattergeo": [
           {
            "marker": {
             "colorbar": {
              "outlinewidth": 0,
              "tickcolor": "rgb(237,237,237)",
              "ticklen": 6,
              "ticks": "inside"
             }
            },
            "type": "scattergeo"
           }
          ],
          "scattergl": [
           {
            "marker": {
             "colorbar": {
              "outlinewidth": 0,
              "tickcolor": "rgb(237,237,237)",
              "ticklen": 6,
              "ticks": "inside"
             }
            },
            "type": "scattergl"
           }
          ],
          "scattermapbox": [
           {
            "marker": {
             "colorbar": {
              "outlinewidth": 0,
              "tickcolor": "rgb(237,237,237)",
              "ticklen": 6,
              "ticks": "inside"
             }
            },
            "type": "scattermapbox"
           }
          ],
          "scatterpolar": [
           {
            "marker": {
             "colorbar": {
              "outlinewidth": 0,
              "tickcolor": "rgb(237,237,237)",
              "ticklen": 6,
              "ticks": "inside"
             }
            },
            "type": "scatterpolar"
           }
          ],
          "scatterpolargl": [
           {
            "marker": {
             "colorbar": {
              "outlinewidth": 0,
              "tickcolor": "rgb(237,237,237)",
              "ticklen": 6,
              "ticks": "inside"
             }
            },
            "type": "scatterpolargl"
           }
          ],
          "scatterternary": [
           {
            "marker": {
             "colorbar": {
              "outlinewidth": 0,
              "tickcolor": "rgb(237,237,237)",
              "ticklen": 6,
              "ticks": "inside"
             }
            },
            "type": "scatterternary"
           }
          ],
          "surface": [
           {
            "colorbar": {
             "outlinewidth": 0,
             "tickcolor": "rgb(237,237,237)",
             "ticklen": 6,
             "ticks": "inside"
            },
            "colorscale": [
             [
              0,
              "rgb(20,44,66)"
             ],
             [
              1,
              "rgb(90,179,244)"
             ]
            ],
            "type": "surface"
           }
          ],
          "table": [
           {
            "cells": {
             "fill": {
              "color": "rgb(237,237,237)"
             },
             "line": {
              "color": "white"
             }
            },
            "header": {
             "fill": {
              "color": "rgb(217,217,217)"
             },
             "line": {
              "color": "white"
             }
            },
            "type": "table"
           }
          ]
         },
         "layout": {
          "annotationdefaults": {
           "arrowhead": 0,
           "arrowwidth": 1
          },
          "autotypenumbers": "strict",
          "coloraxis": {
           "colorbar": {
            "outlinewidth": 0,
            "tickcolor": "rgb(237,237,237)",
            "ticklen": 6,
            "ticks": "inside"
           }
          },
          "colorscale": {
           "sequential": [
            [
             0,
             "rgb(20,44,66)"
            ],
            [
             1,
             "rgb(90,179,244)"
            ]
           ],
           "sequentialminus": [
            [
             0,
             "rgb(20,44,66)"
            ],
            [
             1,
             "rgb(90,179,244)"
            ]
           ]
          },
          "colorway": [
           "#F8766D",
           "#A3A500",
           "#00BF7D",
           "#00B0F6",
           "#E76BF3"
          ],
          "font": {
           "color": "rgb(51,51,51)"
          },
          "geo": {
           "bgcolor": "white",
           "lakecolor": "white",
           "landcolor": "rgb(237,237,237)",
           "showlakes": true,
           "showland": true,
           "subunitcolor": "white"
          },
          "hoverlabel": {
           "align": "left"
          },
          "hovermode": "closest",
          "paper_bgcolor": "white",
          "plot_bgcolor": "rgb(237,237,237)",
          "polar": {
           "angularaxis": {
            "gridcolor": "white",
            "linecolor": "white",
            "showgrid": true,
            "tickcolor": "rgb(51,51,51)",
            "ticks": "outside"
           },
           "bgcolor": "rgb(237,237,237)",
           "radialaxis": {
            "gridcolor": "white",
            "linecolor": "white",
            "showgrid": true,
            "tickcolor": "rgb(51,51,51)",
            "ticks": "outside"
           }
          },
          "scene": {
           "xaxis": {
            "backgroundcolor": "rgb(237,237,237)",
            "gridcolor": "white",
            "gridwidth": 2,
            "linecolor": "white",
            "showbackground": true,
            "showgrid": true,
            "tickcolor": "rgb(51,51,51)",
            "ticks": "outside",
            "zerolinecolor": "white"
           },
           "yaxis": {
            "backgroundcolor": "rgb(237,237,237)",
            "gridcolor": "white",
            "gridwidth": 2,
            "linecolor": "white",
            "showbackground": true,
            "showgrid": true,
            "tickcolor": "rgb(51,51,51)",
            "ticks": "outside",
            "zerolinecolor": "white"
           },
           "zaxis": {
            "backgroundcolor": "rgb(237,237,237)",
            "gridcolor": "white",
            "gridwidth": 2,
            "linecolor": "white",
            "showbackground": true,
            "showgrid": true,
            "tickcolor": "rgb(51,51,51)",
            "ticks": "outside",
            "zerolinecolor": "white"
           }
          },
          "shapedefaults": {
           "fillcolor": "black",
           "line": {
            "width": 0
           },
           "opacity": 0.3
          },
          "ternary": {
           "aaxis": {
            "gridcolor": "white",
            "linecolor": "white",
            "showgrid": true,
            "tickcolor": "rgb(51,51,51)",
            "ticks": "outside"
           },
           "baxis": {
            "gridcolor": "white",
            "linecolor": "white",
            "showgrid": true,
            "tickcolor": "rgb(51,51,51)",
            "ticks": "outside"
           },
           "bgcolor": "rgb(237,237,237)",
           "caxis": {
            "gridcolor": "white",
            "linecolor": "white",
            "showgrid": true,
            "tickcolor": "rgb(51,51,51)",
            "ticks": "outside"
           }
          },
          "xaxis": {
           "automargin": true,
           "gridcolor": "white",
           "linecolor": "white",
           "showgrid": true,
           "tickcolor": "rgb(51,51,51)",
           "ticks": "outside",
           "title": {
            "standoff": 15
           },
           "zerolinecolor": "white"
          },
          "yaxis": {
           "automargin": true,
           "gridcolor": "white",
           "linecolor": "white",
           "showgrid": true,
           "tickcolor": "rgb(51,51,51)",
           "ticks": "outside",
           "title": {
            "standoff": 15
           },
           "zerolinecolor": "white"
          }
         }
        },
        "title": {
         "text": "Unemployment rate in each region"
        }
       }
      },
      "text/html": [
       "<div>                            <div id=\"4626a2d6-5fcc-4b76-bdf1-f968b2f07a97\" class=\"plotly-graph-div\" style=\"height:1150px; width:100%;\"></div>            <script type=\"text/javascript\">                require([\"plotly\"], function(Plotly) {                    window.PLOTLYENV=window.PLOTLYENV || {};                                    if (document.getElementById(\"4626a2d6-5fcc-4b76-bdf1-f968b2f07a97\")) {                    Plotly.newPlot(                        \"4626a2d6-5fcc-4b76-bdf1-f968b2f07a97\",                        [{\"branchvalues\":\"total\",\"domain\":{\"x\":[0.0,1.0],\"y\":[0.0,1.0]},\"hovertemplate\":\"labels=%{label}<br>Estimated Unemployment Rate (%)=%{value}<br>parent=%{parent}<br>id=%{id}<extra></extra>\",\"ids\":[\"Andhra Pradesh/Rural\",\"Assam/Rural\",\"Bihar/Rural\",\"Chhattisgarh/Rural\",\"Delhi/Rural\",\"Goa/Rural\",\"Gujarat/Rural\",\"Haryana/Rural\",\"Himachal Pradesh/Rural\",\"Jammu & Kashmir/Rural\",\"Jharkhand/Rural\",\"Karnataka/Rural\",\"Kerala/Rural\",\"Madhya Pradesh/Rural\",\"Maharashtra/Rural\",\"Meghalaya/Rural\",\"Odisha/Rural\",\"Puducherry/Rural\",\"Punjab/Rural\",\"Rajasthan/Rural\",\"Sikkim/Rural\",\"Tamil Nadu/Rural\",\"Telangana/Rural\",\"Tripura/Rural\",\"Uttar Pradesh/Rural\",\"Uttarakhand/Rural\",\"West Bengal/Rural\",\"Andhra Pradesh/Urban\",\"Assam/Urban\",\"Bihar/Urban\",\"Chandigarh/Urban\",\"Chhattisgarh/Urban\",\"Delhi/Urban\",\"Goa/Urban\",\"Gujarat/Urban\",\"Haryana/Urban\",\"Himachal Pradesh/Urban\",\"Jammu & Kashmir/Urban\",\"Jharkhand/Urban\",\"Karnataka/Urban\",\"Kerala/Urban\",\"Madhya Pradesh/Urban\",\"Maharashtra/Urban\",\"Meghalaya/Urban\",\"Odisha/Urban\",\"Puducherry/Urban\",\"Punjab/Urban\",\"Rajasthan/Urban\",\"Sikkim/Urban\",\"Tamil Nadu/Urban\",\"Telangana/Urban\",\"Tripura/Urban\",\"Uttar Pradesh/Urban\",\"Uttarakhand/Urban\",\"West Bengal/Urban\",\"Andhra Pradesh\",\"Assam\",\"Bihar\",\"Chandigarh\",\"Chhattisgarh\",\"Delhi\",\"Goa\",\"Gujarat\",\"Haryana\",\"Himachal Pradesh\",\"Jammu & Kashmir\",\"Jharkhand\",\"Karnataka\",\"Kerala\",\"Madhya Pradesh\",\"Maharashtra\",\"Meghalaya\",\"Odisha\",\"Puducherry\",\"Punjab\",\"Rajasthan\",\"Sikkim\",\"Tamil Nadu\",\"Telangana\",\"Tripura\",\"Uttar Pradesh\",\"Uttarakhand\",\"West Bengal\"],\"labels\":[\"Rural\",\"Rural\",\"Rural\",\"Rural\",\"Rural\",\"Rural\",\"Rural\",\"Rural\",\"Rural\",\"Rural\",\"Rural\",\"Rural\",\"Rural\",\"Rural\",\"Rural\",\"Rural\",\"Rural\",\"Rural\",\"Rural\",\"Rural\",\"Rural\",\"Rural\",\"Rural\",\"Rural\",\"Rural\",\"Rural\",\"Rural\",\"Urban\",\"Urban\",\"Urban\",\"Urban\",\"Urban\",\"Urban\",\"Urban\",\"Urban\",\"Urban\",\"Urban\",\"Urban\",\"Urban\",\"Urban\",\"Urban\",\"Urban\",\"Urban\",\"Urban\",\"Urban\",\"Urban\",\"Urban\",\"Urban\",\"Urban\",\"Urban\",\"Urban\",\"Urban\",\"Urban\",\"Urban\",\"Urban\",\"Andhra Pradesh\",\"Assam\",\"Bihar\",\"Chandigarh\",\"Chhattisgarh\",\"Delhi\",\"Goa\",\"Gujarat\",\"Haryana\",\"Himachal Pradesh\",\"Jammu & Kashmir\",\"Jharkhand\",\"Karnataka\",\"Kerala\",\"Madhya Pradesh\",\"Maharashtra\",\"Meghalaya\",\"Odisha\",\"Puducherry\",\"Punjab\",\"Rajasthan\",\"Sikkim\",\"Tamil Nadu\",\"Telangana\",\"Tripura\",\"Uttar Pradesh\",\"Uttarakhand\",\"West Bengal\"],\"name\":\"\",\"parents\":[\"Andhra Pradesh\",\"Assam\",\"Bihar\",\"Chhattisgarh\",\"Delhi\",\"Goa\",\"Gujarat\",\"Haryana\",\"Himachal Pradesh\",\"Jammu & Kashmir\",\"Jharkhand\",\"Karnataka\",\"Kerala\",\"Madhya Pradesh\",\"Maharashtra\",\"Meghalaya\",\"Odisha\",\"Puducherry\",\"Punjab\",\"Rajasthan\",\"Sikkim\",\"Tamil Nadu\",\"Telangana\",\"Tripura\",\"Uttar Pradesh\",\"Uttarakhand\",\"West Bengal\",\"Andhra Pradesh\",\"Assam\",\"Bihar\",\"Chandigarh\",\"Chhattisgarh\",\"Delhi\",\"Goa\",\"Gujarat\",\"Haryana\",\"Himachal Pradesh\",\"Jammu & Kashmir\",\"Jharkhand\",\"Karnataka\",\"Kerala\",\"Madhya Pradesh\",\"Maharashtra\",\"Meghalaya\",\"Odisha\",\"Puducherry\",\"Punjab\",\"Rajasthan\",\"Sikkim\",\"Tamil Nadu\",\"Telangana\",\"Tripura\",\"Uttar Pradesh\",\"Uttarakhand\",\"West Bengal\",\"\",\"\",\"\",\"\",\"\",\"\",\"\",\"\",\"\",\"\",\"\",\"\",\"\",\"\",\"\",\"\",\"\",\"\",\"\",\"\",\"\",\"\",\"\",\"\",\"\",\"\",\"\",\"\"],\"values\":[5.526428571428572,4.490833333333334,16.77,6.628571428571428,15.258571428571429,8.39,5.917142857142857,25.012857142857143,15.504285714285714,14.951818181818181,15.221428571428572,7.224285714285714,10.34142857142857,5.653571428571429,6.8100000000000005,2.4750000000000005,6.612857142857143,7.263333333333333,11.924999999999999,10.927142857142856,5.08,8.775714285714285,7.863571428571428,27.166428571428572,10.20857142857143,4.882307692307692,7.5721428571428575,9.427857142857144,8.088571428571429,21.06642857142857,15.991666666666667,11.852142857142857,17.732142857142858,10.158333333333333,7.410714285714286,27.553571428571427,21.576428571428572,17.549,25.94857142857143,6.127857142857144,9.906428571428572,9.159285714285716,8.305,7.3015384615384615,4.702857142857143,12.745000000000001,12.137142857142859,17.189285714285713,8.153333333333334,9.792857142857143,7.6121428571428575,29.534285714285716,14.894285714285715,8.162142857142857,8.677142857142858,14.954285714285717,12.579404761904762,37.83642857142857,15.991666666666667,18.480714285714285,32.99071428571429,18.548333333333332,13.327857142857143,52.566428571428574,37.080714285714286,32.50081818181818,41.17,13.352142857142859,20.247857142857143,14.812857142857144,15.115,9.776538461538461,11.315714285714286,20.008333333333333,24.06214285714286,28.11642857142857,13.233333333333334,18.568571428571428,15.475714285714286,56.700714285714284,25.102857142857147,13.044450549450548,16.249285714285715],\"type\":\"sunburst\"}],                        {\"template\":{\"data\":{\"barpolar\":[{\"marker\":{\"line\":{\"color\":\"rgb(237,237,237)\",\"width\":0.5},\"pattern\":{\"fillmode\":\"overlay\",\"size\":10,\"solidity\":0.2}},\"type\":\"barpolar\"}],\"bar\":[{\"error_x\":{\"color\":\"rgb(51,51,51)\"},\"error_y\":{\"color\":\"rgb(51,51,51)\"},\"marker\":{\"line\":{\"color\":\"rgb(237,237,237)\",\"width\":0.5},\"pattern\":{\"fillmode\":\"overlay\",\"size\":10,\"solidity\":0.2}},\"type\":\"bar\"}],\"carpet\":[{\"aaxis\":{\"endlinecolor\":\"rgb(51,51,51)\",\"gridcolor\":\"white\",\"linecolor\":\"white\",\"minorgridcolor\":\"white\",\"startlinecolor\":\"rgb(51,51,51)\"},\"baxis\":{\"endlinecolor\":\"rgb(51,51,51)\",\"gridcolor\":\"white\",\"linecolor\":\"white\",\"minorgridcolor\":\"white\",\"startlinecolor\":\"rgb(51,51,51)\"},\"type\":\"carpet\"}],\"choropleth\":[{\"colorbar\":{\"outlinewidth\":0,\"tickcolor\":\"rgb(237,237,237)\",\"ticklen\":6,\"ticks\":\"inside\"},\"type\":\"choropleth\"}],\"contourcarpet\":[{\"colorbar\":{\"outlinewidth\":0,\"tickcolor\":\"rgb(237,237,237)\",\"ticklen\":6,\"ticks\":\"inside\"},\"type\":\"contourcarpet\"}],\"contour\":[{\"colorbar\":{\"outlinewidth\":0,\"tickcolor\":\"rgb(237,237,237)\",\"ticklen\":6,\"ticks\":\"inside\"},\"colorscale\":[[0,\"rgb(20,44,66)\"],[1,\"rgb(90,179,244)\"]],\"type\":\"contour\"}],\"heatmapgl\":[{\"colorbar\":{\"outlinewidth\":0,\"tickcolor\":\"rgb(237,237,237)\",\"ticklen\":6,\"ticks\":\"inside\"},\"colorscale\":[[0,\"rgb(20,44,66)\"],[1,\"rgb(90,179,244)\"]],\"type\":\"heatmapgl\"}],\"heatmap\":[{\"colorbar\":{\"outlinewidth\":0,\"tickcolor\":\"rgb(237,237,237)\",\"ticklen\":6,\"ticks\":\"inside\"},\"colorscale\":[[0,\"rgb(20,44,66)\"],[1,\"rgb(90,179,244)\"]],\"type\":\"heatmap\"}],\"histogram2dcontour\":[{\"colorbar\":{\"outlinewidth\":0,\"tickcolor\":\"rgb(237,237,237)\",\"ticklen\":6,\"ticks\":\"inside\"},\"colorscale\":[[0,\"rgb(20,44,66)\"],[1,\"rgb(90,179,244)\"]],\"type\":\"histogram2dcontour\"}],\"histogram2d\":[{\"colorbar\":{\"outlinewidth\":0,\"tickcolor\":\"rgb(237,237,237)\",\"ticklen\":6,\"ticks\":\"inside\"},\"colorscale\":[[0,\"rgb(20,44,66)\"],[1,\"rgb(90,179,244)\"]],\"type\":\"histogram2d\"}],\"histogram\":[{\"marker\":{\"pattern\":{\"fillmode\":\"overlay\",\"size\":10,\"solidity\":0.2}},\"type\":\"histogram\"}],\"mesh3d\":[{\"colorbar\":{\"outlinewidth\":0,\"tickcolor\":\"rgb(237,237,237)\",\"ticklen\":6,\"ticks\":\"inside\"},\"type\":\"mesh3d\"}],\"parcoords\":[{\"line\":{\"colorbar\":{\"outlinewidth\":0,\"tickcolor\":\"rgb(237,237,237)\",\"ticklen\":6,\"ticks\":\"inside\"}},\"type\":\"parcoords\"}],\"pie\":[{\"automargin\":true,\"type\":\"pie\"}],\"scatter3d\":[{\"line\":{\"colorbar\":{\"outlinewidth\":0,\"tickcolor\":\"rgb(237,237,237)\",\"ticklen\":6,\"ticks\":\"inside\"}},\"marker\":{\"colorbar\":{\"outlinewidth\":0,\"tickcolor\":\"rgb(237,237,237)\",\"ticklen\":6,\"ticks\":\"inside\"}},\"type\":\"scatter3d\"}],\"scattercarpet\":[{\"marker\":{\"colorbar\":{\"outlinewidth\":0,\"tickcolor\":\"rgb(237,237,237)\",\"ticklen\":6,\"ticks\":\"inside\"}},\"type\":\"scattercarpet\"}],\"scattergeo\":[{\"marker\":{\"colorbar\":{\"outlinewidth\":0,\"tickcolor\":\"rgb(237,237,237)\",\"ticklen\":6,\"ticks\":\"inside\"}},\"type\":\"scattergeo\"}],\"scattergl\":[{\"marker\":{\"colorbar\":{\"outlinewidth\":0,\"tickcolor\":\"rgb(237,237,237)\",\"ticklen\":6,\"ticks\":\"inside\"}},\"type\":\"scattergl\"}],\"scattermapbox\":[{\"marker\":{\"colorbar\":{\"outlinewidth\":0,\"tickcolor\":\"rgb(237,237,237)\",\"ticklen\":6,\"ticks\":\"inside\"}},\"type\":\"scattermapbox\"}],\"scatterpolargl\":[{\"marker\":{\"colorbar\":{\"outlinewidth\":0,\"tickcolor\":\"rgb(237,237,237)\",\"ticklen\":6,\"ticks\":\"inside\"}},\"type\":\"scatterpolargl\"}],\"scatterpolar\":[{\"marker\":{\"colorbar\":{\"outlinewidth\":0,\"tickcolor\":\"rgb(237,237,237)\",\"ticklen\":6,\"ticks\":\"inside\"}},\"type\":\"scatterpolar\"}],\"scatter\":[{\"fillpattern\":{\"fillmode\":\"overlay\",\"size\":10,\"solidity\":0.2},\"type\":\"scatter\"}],\"scatterternary\":[{\"marker\":{\"colorbar\":{\"outlinewidth\":0,\"tickcolor\":\"rgb(237,237,237)\",\"ticklen\":6,\"ticks\":\"inside\"}},\"type\":\"scatterternary\"}],\"surface\":[{\"colorbar\":{\"outlinewidth\":0,\"tickcolor\":\"rgb(237,237,237)\",\"ticklen\":6,\"ticks\":\"inside\"},\"colorscale\":[[0,\"rgb(20,44,66)\"],[1,\"rgb(90,179,244)\"]],\"type\":\"surface\"}],\"table\":[{\"cells\":{\"fill\":{\"color\":\"rgb(237,237,237)\"},\"line\":{\"color\":\"white\"}},\"header\":{\"fill\":{\"color\":\"rgb(217,217,217)\"},\"line\":{\"color\":\"white\"}},\"type\":\"table\"}]},\"layout\":{\"annotationdefaults\":{\"arrowhead\":0,\"arrowwidth\":1},\"autotypenumbers\":\"strict\",\"coloraxis\":{\"colorbar\":{\"outlinewidth\":0,\"tickcolor\":\"rgb(237,237,237)\",\"ticklen\":6,\"ticks\":\"inside\"}},\"colorscale\":{\"sequential\":[[0,\"rgb(20,44,66)\"],[1,\"rgb(90,179,244)\"]],\"sequentialminus\":[[0,\"rgb(20,44,66)\"],[1,\"rgb(90,179,244)\"]]},\"colorway\":[\"#F8766D\",\"#A3A500\",\"#00BF7D\",\"#00B0F6\",\"#E76BF3\"],\"font\":{\"color\":\"rgb(51,51,51)\"},\"geo\":{\"bgcolor\":\"white\",\"lakecolor\":\"white\",\"landcolor\":\"rgb(237,237,237)\",\"showlakes\":true,\"showland\":true,\"subunitcolor\":\"white\"},\"hoverlabel\":{\"align\":\"left\"},\"hovermode\":\"closest\",\"paper_bgcolor\":\"white\",\"plot_bgcolor\":\"rgb(237,237,237)\",\"polar\":{\"angularaxis\":{\"gridcolor\":\"white\",\"linecolor\":\"white\",\"showgrid\":true,\"tickcolor\":\"rgb(51,51,51)\",\"ticks\":\"outside\"},\"bgcolor\":\"rgb(237,237,237)\",\"radialaxis\":{\"gridcolor\":\"white\",\"linecolor\":\"white\",\"showgrid\":true,\"tickcolor\":\"rgb(51,51,51)\",\"ticks\":\"outside\"}},\"scene\":{\"xaxis\":{\"backgroundcolor\":\"rgb(237,237,237)\",\"gridcolor\":\"white\",\"gridwidth\":2,\"linecolor\":\"white\",\"showbackground\":true,\"showgrid\":true,\"tickcolor\":\"rgb(51,51,51)\",\"ticks\":\"outside\",\"zerolinecolor\":\"white\"},\"yaxis\":{\"backgroundcolor\":\"rgb(237,237,237)\",\"gridcolor\":\"white\",\"gridwidth\":2,\"linecolor\":\"white\",\"showbackground\":true,\"showgrid\":true,\"tickcolor\":\"rgb(51,51,51)\",\"ticks\":\"outside\",\"zerolinecolor\":\"white\"},\"zaxis\":{\"backgroundcolor\":\"rgb(237,237,237)\",\"gridcolor\":\"white\",\"gridwidth\":2,\"linecolor\":\"white\",\"showbackground\":true,\"showgrid\":true,\"tickcolor\":\"rgb(51,51,51)\",\"ticks\":\"outside\",\"zerolinecolor\":\"white\"}},\"shapedefaults\":{\"fillcolor\":\"black\",\"line\":{\"width\":0},\"opacity\":0.3},\"ternary\":{\"aaxis\":{\"gridcolor\":\"white\",\"linecolor\":\"white\",\"showgrid\":true,\"tickcolor\":\"rgb(51,51,51)\",\"ticks\":\"outside\"},\"baxis\":{\"gridcolor\":\"white\",\"linecolor\":\"white\",\"showgrid\":true,\"tickcolor\":\"rgb(51,51,51)\",\"ticks\":\"outside\"},\"bgcolor\":\"rgb(237,237,237)\",\"caxis\":{\"gridcolor\":\"white\",\"linecolor\":\"white\",\"showgrid\":true,\"tickcolor\":\"rgb(51,51,51)\",\"ticks\":\"outside\"}},\"xaxis\":{\"automargin\":true,\"gridcolor\":\"white\",\"linecolor\":\"white\",\"showgrid\":true,\"tickcolor\":\"rgb(51,51,51)\",\"ticks\":\"outside\",\"title\":{\"standoff\":15},\"zerolinecolor\":\"white\"},\"yaxis\":{\"automargin\":true,\"gridcolor\":\"white\",\"linecolor\":\"white\",\"showgrid\":true,\"tickcolor\":\"rgb(51,51,51)\",\"ticks\":\"outside\",\"title\":{\"standoff\":15},\"zerolinecolor\":\"white\"}}},\"legend\":{\"tracegroupgap\":0},\"title\":{\"text\":\"Unemployment rate in each region\"},\"height\":1150},                        {\"responsive\": true}                    ).then(function(){\n",
       "                            \n",
       "var gd = document.getElementById('4626a2d6-5fcc-4b76-bdf1-f968b2f07a97');\n",
       "var x = new MutationObserver(function (mutations, observer) {{\n",
       "        var display = window.getComputedStyle(gd).display;\n",
       "        if (!display || display === 'none') {{\n",
       "            console.log([gd, 'removed!']);\n",
       "            Plotly.purge(gd);\n",
       "            observer.disconnect();\n",
       "        }}\n",
       "}});\n",
       "\n",
       "// Listen for the removal of the full notebook cells\n",
       "var notebookContainer = gd.closest('#notebook-container');\n",
       "if (notebookContainer) {{\n",
       "    x.observe(notebookContainer, {childList: true});\n",
       "}}\n",
       "\n",
       "// Listen for the clearing of the current output cell\n",
       "var outputEl = gd.closest('.output');\n",
       "if (outputEl) {{\n",
       "    x.observe(outputEl, {childList: true});\n",
       "}}\n",
       "\n",
       "                        })                };                });            </script>        </div>"
      ]
     },
     "metadata": {},
     "output_type": "display_data"
    }
   ],
   "source": [
    "unemployData = data1[[\"Area\",\"Region\",\"Estimated Unemployment Rate (%)\" , \"Estimated Employed\" , \"Estimated Labour Participation Rate (%)\"]]\n",
    "unemploy = unemployData.groupby([\"Region\",\"Area\"])[\"Estimated Unemployment Rate (%)\"].mean().reset_index()\n",
    "fig = px.sunburst(unemploy, path=[\"Region\",\"Area\"], values=\"Estimated Unemployment Rate (%)\",\n",
    "                  color_continuous_scale='Plasma', title='Unemployment rate in each region',\n",
    "                  height=1150, template='ggplot2')\n",
    "fig.show()\n"
   ]
  },
  {
   "cell_type": "code",
   "execution_count": 3,
   "id": "2d481e25",
   "metadata": {},
   "outputs": [
    {
     "data": {
      "text/html": [
       "<div>\n",
       "<style scoped>\n",
       "    .dataframe tbody tr th:only-of-type {\n",
       "        vertical-align: middle;\n",
       "    }\n",
       "\n",
       "    .dataframe tbody tr th {\n",
       "        vertical-align: top;\n",
       "    }\n",
       "\n",
       "    .dataframe thead th {\n",
       "        text-align: right;\n",
       "    }\n",
       "</style>\n",
       "<table border=\"1\" class=\"dataframe\">\n",
       "  <thead>\n",
       "    <tr style=\"text-align: right;\">\n",
       "      <th></th>\n",
       "      <th>Region</th>\n",
       "      <th>Date</th>\n",
       "      <th>Frequency</th>\n",
       "      <th>Estimated Unemployment Rate (%)</th>\n",
       "      <th>Estimated Employed</th>\n",
       "      <th>Estimated Labour Participation Rate (%)</th>\n",
       "      <th>Region.1</th>\n",
       "      <th>Longitude</th>\n",
       "      <th>Latitude</th>\n",
       "    </tr>\n",
       "  </thead>\n",
       "  <tbody>\n",
       "    <tr>\n",
       "      <th>0</th>\n",
       "      <td>Andhra Pradesh</td>\n",
       "      <td>31-01-2020</td>\n",
       "      <td>M</td>\n",
       "      <td>5.48</td>\n",
       "      <td>16635535</td>\n",
       "      <td>41.02</td>\n",
       "      <td>South</td>\n",
       "      <td>15.9129</td>\n",
       "      <td>79.74</td>\n",
       "    </tr>\n",
       "    <tr>\n",
       "      <th>1</th>\n",
       "      <td>Andhra Pradesh</td>\n",
       "      <td>29-02-2020</td>\n",
       "      <td>M</td>\n",
       "      <td>5.83</td>\n",
       "      <td>16545652</td>\n",
       "      <td>40.90</td>\n",
       "      <td>South</td>\n",
       "      <td>15.9129</td>\n",
       "      <td>79.74</td>\n",
       "    </tr>\n",
       "    <tr>\n",
       "      <th>2</th>\n",
       "      <td>Andhra Pradesh</td>\n",
       "      <td>31-03-2020</td>\n",
       "      <td>M</td>\n",
       "      <td>5.79</td>\n",
       "      <td>15881197</td>\n",
       "      <td>39.18</td>\n",
       "      <td>South</td>\n",
       "      <td>15.9129</td>\n",
       "      <td>79.74</td>\n",
       "    </tr>\n",
       "    <tr>\n",
       "      <th>3</th>\n",
       "      <td>Andhra Pradesh</td>\n",
       "      <td>30-04-2020</td>\n",
       "      <td>M</td>\n",
       "      <td>20.51</td>\n",
       "      <td>11336911</td>\n",
       "      <td>33.10</td>\n",
       "      <td>South</td>\n",
       "      <td>15.9129</td>\n",
       "      <td>79.74</td>\n",
       "    </tr>\n",
       "    <tr>\n",
       "      <th>4</th>\n",
       "      <td>Andhra Pradesh</td>\n",
       "      <td>31-05-2020</td>\n",
       "      <td>M</td>\n",
       "      <td>17.43</td>\n",
       "      <td>12988845</td>\n",
       "      <td>36.46</td>\n",
       "      <td>South</td>\n",
       "      <td>15.9129</td>\n",
       "      <td>79.74</td>\n",
       "    </tr>\n",
       "  </tbody>\n",
       "</table>\n",
       "</div>"
      ],
      "text/plain": [
       "           Region        Date Frequency  Estimated Unemployment Rate (%)  \\\n",
       "0  Andhra Pradesh  31-01-2020         M                             5.48   \n",
       "1  Andhra Pradesh  29-02-2020         M                             5.83   \n",
       "2  Andhra Pradesh  31-03-2020         M                             5.79   \n",
       "3  Andhra Pradesh  30-04-2020         M                            20.51   \n",
       "4  Andhra Pradesh  31-05-2020         M                            17.43   \n",
       "\n",
       "   Estimated Employed  Estimated Labour Participation Rate (%) Region.1  \\\n",
       "0            16635535                                    41.02    South   \n",
       "1            16545652                                    40.90    South   \n",
       "2            15881197                                    39.18    South   \n",
       "3            11336911                                    33.10    South   \n",
       "4            12988845                                    36.46    South   \n",
       "\n",
       "   Longitude  Latitude  \n",
       "0    15.9129     79.74  \n",
       "1    15.9129     79.74  \n",
       "2    15.9129     79.74  \n",
       "3    15.9129     79.74  \n",
       "4    15.9129     79.74  "
      ]
     },
     "execution_count": 3,
     "metadata": {},
     "output_type": "execute_result"
    }
   ],
   "source": [
    "data2=pd.read_csv(\"Unemployment_Rate_upto_11_2020 - Unemployment_Rate_upto_11_2020.csv\")\n",
    "data2.head()"
   ]
  },
  {
   "cell_type": "code",
   "execution_count": 4,
   "id": "6e0bdd01",
   "metadata": {},
   "outputs": [
    {
     "data": {
      "text/plain": [
       "(267, 9)"
      ]
     },
     "execution_count": 4,
     "metadata": {},
     "output_type": "execute_result"
    }
   ],
   "source": [
    "data2.shape"
   ]
  },
  {
   "cell_type": "code",
   "execution_count": 5,
   "id": "6e942462",
   "metadata": {},
   "outputs": [
    {
     "data": {
      "text/plain": [
       "Index(['Region', 'Date', 'Frequency', 'Estimated Unemployment Rate (%)',\n",
       "       'Estimated Employed', 'Estimated Labour Participation Rate (%)',\n",
       "       'Region.1', 'Longitude', 'Latitude'],\n",
       "      dtype='object')"
      ]
     },
     "execution_count": 5,
     "metadata": {},
     "output_type": "execute_result"
    }
   ],
   "source": [
    "data2.columns"
   ]
  },
  {
   "cell_type": "code",
   "execution_count": 6,
   "id": "9af0f015",
   "metadata": {},
   "outputs": [
    {
     "data": {
      "text/html": [
       "<div>\n",
       "<style scoped>\n",
       "    .dataframe tbody tr th:only-of-type {\n",
       "        vertical-align: middle;\n",
       "    }\n",
       "\n",
       "    .dataframe tbody tr th {\n",
       "        vertical-align: top;\n",
       "    }\n",
       "\n",
       "    .dataframe thead th {\n",
       "        text-align: right;\n",
       "    }\n",
       "</style>\n",
       "<table border=\"1\" class=\"dataframe\">\n",
       "  <thead>\n",
       "    <tr style=\"text-align: right;\">\n",
       "      <th></th>\n",
       "      <th>Estimated Unemployment Rate (%)</th>\n",
       "      <th>Estimated Employed</th>\n",
       "      <th>Estimated Labour Participation Rate (%)</th>\n",
       "      <th>Longitude</th>\n",
       "      <th>Latitude</th>\n",
       "    </tr>\n",
       "  </thead>\n",
       "  <tbody>\n",
       "    <tr>\n",
       "      <th>count</th>\n",
       "      <td>267.000000</td>\n",
       "      <td>2.670000e+02</td>\n",
       "      <td>267.000000</td>\n",
       "      <td>267.000000</td>\n",
       "      <td>267.000000</td>\n",
       "    </tr>\n",
       "    <tr>\n",
       "      <th>mean</th>\n",
       "      <td>12.236929</td>\n",
       "      <td>1.396211e+07</td>\n",
       "      <td>41.681573</td>\n",
       "      <td>22.826048</td>\n",
       "      <td>80.532425</td>\n",
       "    </tr>\n",
       "    <tr>\n",
       "      <th>std</th>\n",
       "      <td>10.803283</td>\n",
       "      <td>1.336632e+07</td>\n",
       "      <td>7.845419</td>\n",
       "      <td>6.270731</td>\n",
       "      <td>5.831738</td>\n",
       "    </tr>\n",
       "    <tr>\n",
       "      <th>min</th>\n",
       "      <td>0.500000</td>\n",
       "      <td>1.175420e+05</td>\n",
       "      <td>16.770000</td>\n",
       "      <td>10.850500</td>\n",
       "      <td>71.192400</td>\n",
       "    </tr>\n",
       "    <tr>\n",
       "      <th>25%</th>\n",
       "      <td>4.845000</td>\n",
       "      <td>2.838930e+06</td>\n",
       "      <td>37.265000</td>\n",
       "      <td>18.112400</td>\n",
       "      <td>76.085600</td>\n",
       "    </tr>\n",
       "    <tr>\n",
       "      <th>50%</th>\n",
       "      <td>9.650000</td>\n",
       "      <td>9.732417e+06</td>\n",
       "      <td>40.390000</td>\n",
       "      <td>23.610200</td>\n",
       "      <td>79.019300</td>\n",
       "    </tr>\n",
       "    <tr>\n",
       "      <th>75%</th>\n",
       "      <td>16.755000</td>\n",
       "      <td>2.187869e+07</td>\n",
       "      <td>44.055000</td>\n",
       "      <td>27.278400</td>\n",
       "      <td>85.279900</td>\n",
       "    </tr>\n",
       "    <tr>\n",
       "      <th>max</th>\n",
       "      <td>75.850000</td>\n",
       "      <td>5.943376e+07</td>\n",
       "      <td>69.690000</td>\n",
       "      <td>33.778200</td>\n",
       "      <td>92.937600</td>\n",
       "    </tr>\n",
       "  </tbody>\n",
       "</table>\n",
       "</div>"
      ],
      "text/plain": [
       "       Estimated Unemployment Rate (%)  Estimated Employed  \\\n",
       "count                       267.000000        2.670000e+02   \n",
       "mean                         12.236929        1.396211e+07   \n",
       "std                          10.803283        1.336632e+07   \n",
       "min                           0.500000        1.175420e+05   \n",
       "25%                           4.845000        2.838930e+06   \n",
       "50%                           9.650000        9.732417e+06   \n",
       "75%                          16.755000        2.187869e+07   \n",
       "max                          75.850000        5.943376e+07   \n",
       "\n",
       "       Estimated Labour Participation Rate (%)   Longitude    Latitude  \n",
       "count                               267.000000  267.000000  267.000000  \n",
       "mean                                 41.681573   22.826048   80.532425  \n",
       "std                                   7.845419    6.270731    5.831738  \n",
       "min                                  16.770000   10.850500   71.192400  \n",
       "25%                                  37.265000   18.112400   76.085600  \n",
       "50%                                  40.390000   23.610200   79.019300  \n",
       "75%                                  44.055000   27.278400   85.279900  \n",
       "max                                  69.690000   33.778200   92.937600  "
      ]
     },
     "execution_count": 6,
     "metadata": {},
     "output_type": "execute_result"
    }
   ],
   "source": [
    "data2.describe()"
   ]
  },
  {
   "cell_type": "code",
   "execution_count": 7,
   "id": "a5c4287d",
   "metadata": {},
   "outputs": [
    {
     "data": {
      "text/plain": [
       "Region                                     0\n",
       "Date                                       0\n",
       "Frequency                                  0\n",
       "Estimated Unemployment Rate (%)            0\n",
       "Estimated Employed                         0\n",
       "Estimated Labour Participation Rate (%)    0\n",
       "Region.1                                   0\n",
       "Longitude                                  0\n",
       "Latitude                                   0\n",
       "dtype: int64"
      ]
     },
     "execution_count": 7,
     "metadata": {},
     "output_type": "execute_result"
    }
   ],
   "source": [
    "data2.isnull().sum()"
   ]
  },
  {
   "cell_type": "code",
   "execution_count": 9,
   "id": "4dc8b411",
   "metadata": {},
   "outputs": [
    {
     "data": {
      "text/plain": [
       "Andhra Pradesh      10\n",
       "Assam               10\n",
       "Uttarakhand         10\n",
       "Uttar Pradesh       10\n",
       "Tripura             10\n",
       "Telangana           10\n",
       "Tamil Nadu          10\n",
       "Rajasthan           10\n",
       "Punjab              10\n",
       "Puducherry          10\n",
       "Odisha              10\n",
       "Meghalaya           10\n",
       "Maharashtra         10\n",
       "Madhya Pradesh      10\n",
       "Kerala              10\n",
       "Karnataka           10\n",
       "Jharkhand           10\n",
       "Himachal Pradesh    10\n",
       "Haryana             10\n",
       "Gujarat             10\n",
       "Goa                 10\n",
       "Delhi               10\n",
       "Chhattisgarh        10\n",
       "Bihar               10\n",
       "West Bengal         10\n",
       "Jammu & Kashmir      9\n",
       "Sikkim               8\n",
       "Name: Region, dtype: int64"
      ]
     },
     "execution_count": 9,
     "metadata": {},
     "output_type": "execute_result"
    }
   ],
   "source": [
    "data2.Region.value_counts()"
   ]
  },
  {
   "cell_type": "code",
   "execution_count": 10,
   "id": "43487bf2",
   "metadata": {},
   "outputs": [
    {
     "data": {
      "text/html": [
       "<div>\n",
       "<style scoped>\n",
       "    .dataframe tbody tr th:only-of-type {\n",
       "        vertical-align: middle;\n",
       "    }\n",
       "\n",
       "    .dataframe tbody tr th {\n",
       "        vertical-align: top;\n",
       "    }\n",
       "\n",
       "    .dataframe thead th {\n",
       "        text-align: right;\n",
       "    }\n",
       "</style>\n",
       "<table border=\"1\" class=\"dataframe\">\n",
       "  <thead>\n",
       "    <tr style=\"text-align: right;\">\n",
       "      <th></th>\n",
       "      <th>Estimated Unemployment Rate (%)</th>\n",
       "      <th>Estimated Employed</th>\n",
       "      <th>Estimated Labour Participation Rate (%)</th>\n",
       "    </tr>\n",
       "  </thead>\n",
       "  <tbody>\n",
       "    <tr>\n",
       "      <th>0</th>\n",
       "      <td>5.48</td>\n",
       "      <td>16635535</td>\n",
       "      <td>41.02</td>\n",
       "    </tr>\n",
       "    <tr>\n",
       "      <th>1</th>\n",
       "      <td>5.83</td>\n",
       "      <td>16545652</td>\n",
       "      <td>40.90</td>\n",
       "    </tr>\n",
       "    <tr>\n",
       "      <th>2</th>\n",
       "      <td>5.79</td>\n",
       "      <td>15881197</td>\n",
       "      <td>39.18</td>\n",
       "    </tr>\n",
       "    <tr>\n",
       "      <th>3</th>\n",
       "      <td>20.51</td>\n",
       "      <td>11336911</td>\n",
       "      <td>33.10</td>\n",
       "    </tr>\n",
       "    <tr>\n",
       "      <th>4</th>\n",
       "      <td>17.43</td>\n",
       "      <td>12988845</td>\n",
       "      <td>36.46</td>\n",
       "    </tr>\n",
       "    <tr>\n",
       "      <th>...</th>\n",
       "      <td>...</td>\n",
       "      <td>...</td>\n",
       "      <td>...</td>\n",
       "    </tr>\n",
       "    <tr>\n",
       "      <th>262</th>\n",
       "      <td>7.29</td>\n",
       "      <td>30726310</td>\n",
       "      <td>40.39</td>\n",
       "    </tr>\n",
       "    <tr>\n",
       "      <th>263</th>\n",
       "      <td>6.83</td>\n",
       "      <td>35372506</td>\n",
       "      <td>46.17</td>\n",
       "    </tr>\n",
       "    <tr>\n",
       "      <th>264</th>\n",
       "      <td>14.87</td>\n",
       "      <td>33298644</td>\n",
       "      <td>47.48</td>\n",
       "    </tr>\n",
       "    <tr>\n",
       "      <th>265</th>\n",
       "      <td>9.35</td>\n",
       "      <td>35707239</td>\n",
       "      <td>47.73</td>\n",
       "    </tr>\n",
       "    <tr>\n",
       "      <th>266</th>\n",
       "      <td>9.98</td>\n",
       "      <td>33962549</td>\n",
       "      <td>45.63</td>\n",
       "    </tr>\n",
       "  </tbody>\n",
       "</table>\n",
       "<p>267 rows × 3 columns</p>\n",
       "</div>"
      ],
      "text/plain": [
       "     Estimated Unemployment Rate (%)  Estimated Employed  \\\n",
       "0                               5.48            16635535   \n",
       "1                               5.83            16545652   \n",
       "2                               5.79            15881197   \n",
       "3                              20.51            11336911   \n",
       "4                              17.43            12988845   \n",
       "..                               ...                 ...   \n",
       "262                             7.29            30726310   \n",
       "263                             6.83            35372506   \n",
       "264                            14.87            33298644   \n",
       "265                             9.35            35707239   \n",
       "266                             9.98            33962549   \n",
       "\n",
       "     Estimated Labour Participation Rate (%)  \n",
       "0                                      41.02  \n",
       "1                                      40.90  \n",
       "2                                      39.18  \n",
       "3                                      33.10  \n",
       "4                                      36.46  \n",
       "..                                       ...  \n",
       "262                                    40.39  \n",
       "263                                    46.17  \n",
       "264                                    47.48  \n",
       "265                                    47.73  \n",
       "266                                    45.63  \n",
       "\n",
       "[267 rows x 3 columns]"
      ]
     },
     "execution_count": 10,
     "metadata": {},
     "output_type": "execute_result"
    }
   ],
   "source": [
    "statData = data2[[\"Estimated Unemployment Rate (%)\" , \"Estimated Employed\" , \"Estimated Labour Participation Rate (%)\"]]\n",
    "statData"
   ]
  },
  {
   "cell_type": "code",
   "execution_count": 12,
   "id": "5a640bb8",
   "metadata": {},
   "outputs": [
    {
     "data": {
      "text/html": [
       "<div>\n",
       "<style scoped>\n",
       "    .dataframe tbody tr th:only-of-type {\n",
       "        vertical-align: middle;\n",
       "    }\n",
       "\n",
       "    .dataframe tbody tr th {\n",
       "        vertical-align: top;\n",
       "    }\n",
       "\n",
       "    .dataframe thead th {\n",
       "        text-align: right;\n",
       "    }\n",
       "</style>\n",
       "<table border=\"1\" class=\"dataframe\">\n",
       "  <thead>\n",
       "    <tr style=\"text-align: right;\">\n",
       "      <th></th>\n",
       "      <th>count</th>\n",
       "      <th>mean</th>\n",
       "      <th>std</th>\n",
       "      <th>min</th>\n",
       "      <th>25%</th>\n",
       "      <th>50%</th>\n",
       "      <th>75%</th>\n",
       "      <th>max</th>\n",
       "    </tr>\n",
       "  </thead>\n",
       "  <tbody>\n",
       "    <tr>\n",
       "      <th>Estimated Unemployment Rate (%)</th>\n",
       "      <td>267.0</td>\n",
       "      <td>12.24</td>\n",
       "      <td>10.80</td>\n",
       "      <td>0.50</td>\n",
       "      <td>4.84</td>\n",
       "      <td>9.65</td>\n",
       "      <td>16.76</td>\n",
       "      <td>75.85</td>\n",
       "    </tr>\n",
       "    <tr>\n",
       "      <th>Estimated Employed</th>\n",
       "      <td>267.0</td>\n",
       "      <td>13962105.72</td>\n",
       "      <td>13366318.36</td>\n",
       "      <td>117542.00</td>\n",
       "      <td>2838930.50</td>\n",
       "      <td>9732417.00</td>\n",
       "      <td>21878686.00</td>\n",
       "      <td>59433759.00</td>\n",
       "    </tr>\n",
       "    <tr>\n",
       "      <th>Estimated Labour Participation Rate (%)</th>\n",
       "      <td>267.0</td>\n",
       "      <td>41.68</td>\n",
       "      <td>7.85</td>\n",
       "      <td>16.77</td>\n",
       "      <td>37.26</td>\n",
       "      <td>40.39</td>\n",
       "      <td>44.06</td>\n",
       "      <td>69.69</td>\n",
       "    </tr>\n",
       "  </tbody>\n",
       "</table>\n",
       "</div>"
      ],
      "text/plain": [
       "                                         count         mean          std  \\\n",
       "Estimated Unemployment Rate (%)          267.0        12.24        10.80   \n",
       "Estimated Employed                       267.0  13962105.72  13366318.36   \n",
       "Estimated Labour Participation Rate (%)  267.0        41.68         7.85   \n",
       "\n",
       "                                               min         25%         50%  \\\n",
       "Estimated Unemployment Rate (%)               0.50        4.84        9.65   \n",
       "Estimated Employed                       117542.00  2838930.50  9732417.00   \n",
       "Estimated Labour Participation Rate (%)      16.77       37.26       40.39   \n",
       "\n",
       "                                                 75%          max  \n",
       "Estimated Unemployment Rate (%)                16.76        75.85  \n",
       "Estimated Employed                       21878686.00  59433759.00  \n",
       "Estimated Labour Participation Rate (%)        44.06        69.69  "
      ]
     },
     "execution_count": 12,
     "metadata": {},
     "output_type": "execute_result"
    }
   ],
   "source": [
    "round(statData.describe().T, 2)"
   ]
  },
  {
   "cell_type": "code",
   "execution_count": 15,
   "id": "02c25427",
   "metadata": {},
   "outputs": [],
   "source": [
    "regionStatistics2 = data2.groupby(['Region',\"Region.1\"])[[\"Estimated Unemployment Rate (%)\" , \"Estimated Employed\" , \"Estimated Labour Participation Rate (%)\"]].mean().reset_index()"
   ]
  },
  {
   "cell_type": "code",
   "execution_count": 16,
   "id": "3038c771",
   "metadata": {},
   "outputs": [
    {
     "data": {
      "text/html": [
       "<div>\n",
       "<style scoped>\n",
       "    .dataframe tbody tr th:only-of-type {\n",
       "        vertical-align: middle;\n",
       "    }\n",
       "\n",
       "    .dataframe tbody tr th {\n",
       "        vertical-align: top;\n",
       "    }\n",
       "\n",
       "    .dataframe thead th {\n",
       "        text-align: right;\n",
       "    }\n",
       "</style>\n",
       "<table border=\"1\" class=\"dataframe\">\n",
       "  <thead>\n",
       "    <tr style=\"text-align: right;\">\n",
       "      <th></th>\n",
       "      <th>Region</th>\n",
       "      <th>Region.1</th>\n",
       "      <th>Estimated Unemployment Rate (%)</th>\n",
       "      <th>Estimated Employed</th>\n",
       "      <th>Estimated Labour Participation Rate (%)</th>\n",
       "    </tr>\n",
       "  </thead>\n",
       "  <tbody>\n",
       "    <tr>\n",
       "      <th>0</th>\n",
       "      <td>Andhra Pradesh</td>\n",
       "      <td>South</td>\n",
       "      <td>8.664000</td>\n",
       "      <td>1.542548e+07</td>\n",
       "      <td>38.962000</td>\n",
       "    </tr>\n",
       "    <tr>\n",
       "      <th>1</th>\n",
       "      <td>Assam</td>\n",
       "      <td>Northeast</td>\n",
       "      <td>4.856000</td>\n",
       "      <td>1.081028e+07</td>\n",
       "      <td>43.498000</td>\n",
       "    </tr>\n",
       "    <tr>\n",
       "      <th>2</th>\n",
       "      <td>Bihar</td>\n",
       "      <td>East</td>\n",
       "      <td>19.471000</td>\n",
       "      <td>2.360683e+07</td>\n",
       "      <td>37.173000</td>\n",
       "    </tr>\n",
       "    <tr>\n",
       "      <th>3</th>\n",
       "      <td>Chhattisgarh</td>\n",
       "      <td>West</td>\n",
       "      <td>7.819000</td>\n",
       "      <td>8.421349e+06</td>\n",
       "      <td>41.161000</td>\n",
       "    </tr>\n",
       "    <tr>\n",
       "      <th>4</th>\n",
       "      <td>Delhi</td>\n",
       "      <td>North</td>\n",
       "      <td>18.414000</td>\n",
       "      <td>4.632822e+06</td>\n",
       "      <td>35.857000</td>\n",
       "    </tr>\n",
       "    <tr>\n",
       "      <th>5</th>\n",
       "      <td>Goa</td>\n",
       "      <td>West</td>\n",
       "      <td>12.167000</td>\n",
       "      <td>4.423748e+05</td>\n",
       "      <td>39.242000</td>\n",
       "    </tr>\n",
       "    <tr>\n",
       "      <th>6</th>\n",
       "      <td>Gujarat</td>\n",
       "      <td>West</td>\n",
       "      <td>6.376000</td>\n",
       "      <td>2.273075e+07</td>\n",
       "      <td>45.490000</td>\n",
       "    </tr>\n",
       "    <tr>\n",
       "      <th>7</th>\n",
       "      <td>Haryana</td>\n",
       "      <td>North</td>\n",
       "      <td>27.477000</td>\n",
       "      <td>6.844059e+06</td>\n",
       "      <td>42.100000</td>\n",
       "    </tr>\n",
       "    <tr>\n",
       "      <th>8</th>\n",
       "      <td>Himachal Pradesh</td>\n",
       "      <td>North</td>\n",
       "      <td>16.065000</td>\n",
       "      <td>2.033885e+06</td>\n",
       "      <td>40.252000</td>\n",
       "    </tr>\n",
       "    <tr>\n",
       "      <th>9</th>\n",
       "      <td>Jammu &amp; Kashmir</td>\n",
       "      <td>North</td>\n",
       "      <td>16.477778</td>\n",
       "      <td>3.310032e+06</td>\n",
       "      <td>37.894444</td>\n",
       "    </tr>\n",
       "    <tr>\n",
       "      <th>10</th>\n",
       "      <td>Jharkhand</td>\n",
       "      <td>East</td>\n",
       "      <td>19.539000</td>\n",
       "      <td>8.770642e+06</td>\n",
       "      <td>40.356000</td>\n",
       "    </tr>\n",
       "    <tr>\n",
       "      <th>11</th>\n",
       "      <td>Karnataka</td>\n",
       "      <td>South</td>\n",
       "      <td>7.668000</td>\n",
       "      <td>2.162402e+07</td>\n",
       "      <td>42.000000</td>\n",
       "    </tr>\n",
       "    <tr>\n",
       "      <th>12</th>\n",
       "      <td>Kerala</td>\n",
       "      <td>South</td>\n",
       "      <td>9.434000</td>\n",
       "      <td>8.596795e+06</td>\n",
       "      <td>33.382000</td>\n",
       "    </tr>\n",
       "    <tr>\n",
       "      <th>13</th>\n",
       "      <td>Madhya Pradesh</td>\n",
       "      <td>West</td>\n",
       "      <td>6.854000</td>\n",
       "      <td>2.231834e+07</td>\n",
       "      <td>38.926000</td>\n",
       "    </tr>\n",
       "    <tr>\n",
       "      <th>14</th>\n",
       "      <td>Maharashtra</td>\n",
       "      <td>West</td>\n",
       "      <td>7.979000</td>\n",
       "      <td>3.920476e+07</td>\n",
       "      <td>41.466000</td>\n",
       "    </tr>\n",
       "    <tr>\n",
       "      <th>15</th>\n",
       "      <td>Meghalaya</td>\n",
       "      <td>Northeast</td>\n",
       "      <td>3.866000</td>\n",
       "      <td>1.349815e+06</td>\n",
       "      <td>59.859000</td>\n",
       "    </tr>\n",
       "    <tr>\n",
       "      <th>16</th>\n",
       "      <td>Odisha</td>\n",
       "      <td>East</td>\n",
       "      <td>6.462000</td>\n",
       "      <td>1.272683e+07</td>\n",
       "      <td>37.748000</td>\n",
       "    </tr>\n",
       "    <tr>\n",
       "      <th>17</th>\n",
       "      <td>Puducherry</td>\n",
       "      <td>South</td>\n",
       "      <td>17.942000</td>\n",
       "      <td>3.652629e+05</td>\n",
       "      <td>35.918000</td>\n",
       "    </tr>\n",
       "    <tr>\n",
       "      <th>18</th>\n",
       "      <td>Punjab</td>\n",
       "      <td>North</td>\n",
       "      <td>11.981000</td>\n",
       "      <td>8.783034e+06</td>\n",
       "      <td>39.979000</td>\n",
       "    </tr>\n",
       "    <tr>\n",
       "      <th>19</th>\n",
       "      <td>Rajasthan</td>\n",
       "      <td>North</td>\n",
       "      <td>15.868000</td>\n",
       "      <td>1.973175e+07</td>\n",
       "      <td>40.591000</td>\n",
       "    </tr>\n",
       "    <tr>\n",
       "      <th>20</th>\n",
       "      <td>Sikkim</td>\n",
       "      <td>Northeast</td>\n",
       "      <td>9.792500</td>\n",
       "      <td>2.345232e+05</td>\n",
       "      <td>45.756250</td>\n",
       "    </tr>\n",
       "    <tr>\n",
       "      <th>21</th>\n",
       "      <td>Tamil Nadu</td>\n",
       "      <td>South</td>\n",
       "      <td>12.187000</td>\n",
       "      <td>2.198790e+07</td>\n",
       "      <td>37.383000</td>\n",
       "    </tr>\n",
       "    <tr>\n",
       "      <th>22</th>\n",
       "      <td>Telangana</td>\n",
       "      <td>South</td>\n",
       "      <td>6.833000</td>\n",
       "      <td>1.624408e+07</td>\n",
       "      <td>54.972000</td>\n",
       "    </tr>\n",
       "    <tr>\n",
       "      <th>23</th>\n",
       "      <td>Tripura</td>\n",
       "      <td>Northeast</td>\n",
       "      <td>25.055000</td>\n",
       "      <td>1.397292e+06</td>\n",
       "      <td>57.848000</td>\n",
       "    </tr>\n",
       "    <tr>\n",
       "      <th>24</th>\n",
       "      <td>Uttar Pradesh</td>\n",
       "      <td>North</td>\n",
       "      <td>9.737000</td>\n",
       "      <td>5.552480e+07</td>\n",
       "      <td>37.608000</td>\n",
       "    </tr>\n",
       "    <tr>\n",
       "      <th>25</th>\n",
       "      <td>Uttarakhand</td>\n",
       "      <td>North</td>\n",
       "      <td>11.156000</td>\n",
       "      <td>2.743275e+06</td>\n",
       "      <td>35.259000</td>\n",
       "    </tr>\n",
       "    <tr>\n",
       "      <th>26</th>\n",
       "      <td>West Bengal</td>\n",
       "      <td>East</td>\n",
       "      <td>10.192000</td>\n",
       "      <td>3.330516e+07</td>\n",
       "      <td>45.158000</td>\n",
       "    </tr>\n",
       "  </tbody>\n",
       "</table>\n",
       "</div>"
      ],
      "text/plain": [
       "              Region   Region.1  Estimated Unemployment Rate (%)  \\\n",
       "0     Andhra Pradesh      South                         8.664000   \n",
       "1              Assam  Northeast                         4.856000   \n",
       "2              Bihar       East                        19.471000   \n",
       "3       Chhattisgarh       West                         7.819000   \n",
       "4              Delhi      North                        18.414000   \n",
       "5                Goa       West                        12.167000   \n",
       "6            Gujarat       West                         6.376000   \n",
       "7            Haryana      North                        27.477000   \n",
       "8   Himachal Pradesh      North                        16.065000   \n",
       "9    Jammu & Kashmir      North                        16.477778   \n",
       "10         Jharkhand       East                        19.539000   \n",
       "11         Karnataka      South                         7.668000   \n",
       "12            Kerala      South                         9.434000   \n",
       "13    Madhya Pradesh       West                         6.854000   \n",
       "14       Maharashtra       West                         7.979000   \n",
       "15         Meghalaya  Northeast                         3.866000   \n",
       "16            Odisha       East                         6.462000   \n",
       "17        Puducherry      South                        17.942000   \n",
       "18            Punjab      North                        11.981000   \n",
       "19         Rajasthan      North                        15.868000   \n",
       "20            Sikkim  Northeast                         9.792500   \n",
       "21        Tamil Nadu      South                        12.187000   \n",
       "22         Telangana      South                         6.833000   \n",
       "23           Tripura  Northeast                        25.055000   \n",
       "24     Uttar Pradesh      North                         9.737000   \n",
       "25       Uttarakhand      North                        11.156000   \n",
       "26       West Bengal       East                        10.192000   \n",
       "\n",
       "    Estimated Employed  Estimated Labour Participation Rate (%)  \n",
       "0         1.542548e+07                                38.962000  \n",
       "1         1.081028e+07                                43.498000  \n",
       "2         2.360683e+07                                37.173000  \n",
       "3         8.421349e+06                                41.161000  \n",
       "4         4.632822e+06                                35.857000  \n",
       "5         4.423748e+05                                39.242000  \n",
       "6         2.273075e+07                                45.490000  \n",
       "7         6.844059e+06                                42.100000  \n",
       "8         2.033885e+06                                40.252000  \n",
       "9         3.310032e+06                                37.894444  \n",
       "10        8.770642e+06                                40.356000  \n",
       "11        2.162402e+07                                42.000000  \n",
       "12        8.596795e+06                                33.382000  \n",
       "13        2.231834e+07                                38.926000  \n",
       "14        3.920476e+07                                41.466000  \n",
       "15        1.349815e+06                                59.859000  \n",
       "16        1.272683e+07                                37.748000  \n",
       "17        3.652629e+05                                35.918000  \n",
       "18        8.783034e+06                                39.979000  \n",
       "19        1.973175e+07                                40.591000  \n",
       "20        2.345232e+05                                45.756250  \n",
       "21        2.198790e+07                                37.383000  \n",
       "22        1.624408e+07                                54.972000  \n",
       "23        1.397292e+06                                57.848000  \n",
       "24        5.552480e+07                                37.608000  \n",
       "25        2.743275e+06                                35.259000  \n",
       "26        3.330516e+07                                45.158000  "
      ]
     },
     "execution_count": 16,
     "metadata": {},
     "output_type": "execute_result"
    }
   ],
   "source": [
    "regionStatistics2"
   ]
  },
  {
   "cell_type": "code",
   "execution_count": 23,
   "id": "f5837e29",
   "metadata": {},
   "outputs": [
    {
     "data": {
      "application/vnd.plotly.v1+json": {
       "config": {
        "plotlyServerURL": "https://plot.ly"
       },
       "data": [
        {
         "branchvalues": "total",
         "domain": {
          "x": [
           0,
           1
          ],
          "y": [
           0,
           1
          ]
         },
         "hovertemplate": "labels=%{label}<br>Estimated Unemployment Rate (%)=%{value}<br>parent=%{parent}<br>id=%{id}<extra></extra>",
         "ids": [
          "South/Andhra Pradesh",
          "Northeast/Assam",
          "East/Bihar",
          "West/Chhattisgarh",
          "North/Delhi",
          "West/Goa",
          "West/Gujarat",
          "North/Haryana",
          "North/Himachal Pradesh",
          "North/Jammu & Kashmir",
          "East/Jharkhand",
          "South/Karnataka",
          "South/Kerala",
          "West/Madhya Pradesh",
          "West/Maharashtra",
          "Northeast/Meghalaya",
          "East/Odisha",
          "South/Puducherry",
          "North/Punjab",
          "North/Rajasthan",
          "Northeast/Sikkim",
          "South/Tamil Nadu",
          "South/Telangana",
          "Northeast/Tripura",
          "North/Uttar Pradesh",
          "North/Uttarakhand",
          "East/West Bengal",
          "East",
          "North",
          "Northeast",
          "South",
          "West"
         ],
         "labels": [
          "Andhra Pradesh",
          "Assam",
          "Bihar",
          "Chhattisgarh",
          "Delhi",
          "Goa",
          "Gujarat",
          "Haryana",
          "Himachal Pradesh",
          "Jammu & Kashmir",
          "Jharkhand",
          "Karnataka",
          "Kerala",
          "Madhya Pradesh",
          "Maharashtra",
          "Meghalaya",
          "Odisha",
          "Puducherry",
          "Punjab",
          "Rajasthan",
          "Sikkim",
          "Tamil Nadu",
          "Telangana",
          "Tripura",
          "Uttar Pradesh",
          "Uttarakhand",
          "West Bengal",
          "East",
          "North",
          "Northeast",
          "South",
          "West"
         ],
         "name": "",
         "parents": [
          "South",
          "Northeast",
          "East",
          "West",
          "North",
          "West",
          "West",
          "North",
          "North",
          "North",
          "East",
          "South",
          "South",
          "West",
          "West",
          "Northeast",
          "East",
          "South",
          "North",
          "North",
          "Northeast",
          "South",
          "South",
          "Northeast",
          "North",
          "North",
          "East",
          "",
          "",
          "",
          "",
          ""
         ],
         "type": "sunburst",
         "values": [
          8.664,
          4.856,
          19.471,
          7.819,
          18.414,
          12.167,
          6.3759999999999994,
          27.476999999999997,
          16.065,
          16.477777777777778,
          19.538999999999998,
          7.667999999999999,
          9.434000000000001,
          6.854000000000001,
          7.979000000000001,
          3.8659999999999997,
          6.462000000000001,
          17.942,
          11.981,
          15.868,
          9.7925,
          12.187,
          6.833,
          25.055,
          9.737,
          11.156,
          10.192,
          55.664,
          127.17577777777778,
          43.5695,
          62.727999999999994,
          41.195
         ]
        }
       ],
       "layout": {
        "height": 1150,
        "legend": {
         "tracegroupgap": 0
        },
        "template": {
         "data": {
          "bar": [
           {
            "error_x": {
             "color": "rgb(51,51,51)"
            },
            "error_y": {
             "color": "rgb(51,51,51)"
            },
            "marker": {
             "line": {
              "color": "rgb(237,237,237)",
              "width": 0.5
             },
             "pattern": {
              "fillmode": "overlay",
              "size": 10,
              "solidity": 0.2
             }
            },
            "type": "bar"
           }
          ],
          "barpolar": [
           {
            "marker": {
             "line": {
              "color": "rgb(237,237,237)",
              "width": 0.5
             },
             "pattern": {
              "fillmode": "overlay",
              "size": 10,
              "solidity": 0.2
             }
            },
            "type": "barpolar"
           }
          ],
          "carpet": [
           {
            "aaxis": {
             "endlinecolor": "rgb(51,51,51)",
             "gridcolor": "white",
             "linecolor": "white",
             "minorgridcolor": "white",
             "startlinecolor": "rgb(51,51,51)"
            },
            "baxis": {
             "endlinecolor": "rgb(51,51,51)",
             "gridcolor": "white",
             "linecolor": "white",
             "minorgridcolor": "white",
             "startlinecolor": "rgb(51,51,51)"
            },
            "type": "carpet"
           }
          ],
          "choropleth": [
           {
            "colorbar": {
             "outlinewidth": 0,
             "tickcolor": "rgb(237,237,237)",
             "ticklen": 6,
             "ticks": "inside"
            },
            "type": "choropleth"
           }
          ],
          "contour": [
           {
            "colorbar": {
             "outlinewidth": 0,
             "tickcolor": "rgb(237,237,237)",
             "ticklen": 6,
             "ticks": "inside"
            },
            "colorscale": [
             [
              0,
              "rgb(20,44,66)"
             ],
             [
              1,
              "rgb(90,179,244)"
             ]
            ],
            "type": "contour"
           }
          ],
          "contourcarpet": [
           {
            "colorbar": {
             "outlinewidth": 0,
             "tickcolor": "rgb(237,237,237)",
             "ticklen": 6,
             "ticks": "inside"
            },
            "type": "contourcarpet"
           }
          ],
          "heatmap": [
           {
            "colorbar": {
             "outlinewidth": 0,
             "tickcolor": "rgb(237,237,237)",
             "ticklen": 6,
             "ticks": "inside"
            },
            "colorscale": [
             [
              0,
              "rgb(20,44,66)"
             ],
             [
              1,
              "rgb(90,179,244)"
             ]
            ],
            "type": "heatmap"
           }
          ],
          "heatmapgl": [
           {
            "colorbar": {
             "outlinewidth": 0,
             "tickcolor": "rgb(237,237,237)",
             "ticklen": 6,
             "ticks": "inside"
            },
            "colorscale": [
             [
              0,
              "rgb(20,44,66)"
             ],
             [
              1,
              "rgb(90,179,244)"
             ]
            ],
            "type": "heatmapgl"
           }
          ],
          "histogram": [
           {
            "marker": {
             "pattern": {
              "fillmode": "overlay",
              "size": 10,
              "solidity": 0.2
             }
            },
            "type": "histogram"
           }
          ],
          "histogram2d": [
           {
            "colorbar": {
             "outlinewidth": 0,
             "tickcolor": "rgb(237,237,237)",
             "ticklen": 6,
             "ticks": "inside"
            },
            "colorscale": [
             [
              0,
              "rgb(20,44,66)"
             ],
             [
              1,
              "rgb(90,179,244)"
             ]
            ],
            "type": "histogram2d"
           }
          ],
          "histogram2dcontour": [
           {
            "colorbar": {
             "outlinewidth": 0,
             "tickcolor": "rgb(237,237,237)",
             "ticklen": 6,
             "ticks": "inside"
            },
            "colorscale": [
             [
              0,
              "rgb(20,44,66)"
             ],
             [
              1,
              "rgb(90,179,244)"
             ]
            ],
            "type": "histogram2dcontour"
           }
          ],
          "mesh3d": [
           {
            "colorbar": {
             "outlinewidth": 0,
             "tickcolor": "rgb(237,237,237)",
             "ticklen": 6,
             "ticks": "inside"
            },
            "type": "mesh3d"
           }
          ],
          "parcoords": [
           {
            "line": {
             "colorbar": {
              "outlinewidth": 0,
              "tickcolor": "rgb(237,237,237)",
              "ticklen": 6,
              "ticks": "inside"
             }
            },
            "type": "parcoords"
           }
          ],
          "pie": [
           {
            "automargin": true,
            "type": "pie"
           }
          ],
          "scatter": [
           {
            "fillpattern": {
             "fillmode": "overlay",
             "size": 10,
             "solidity": 0.2
            },
            "type": "scatter"
           }
          ],
          "scatter3d": [
           {
            "line": {
             "colorbar": {
              "outlinewidth": 0,
              "tickcolor": "rgb(237,237,237)",
              "ticklen": 6,
              "ticks": "inside"
             }
            },
            "marker": {
             "colorbar": {
              "outlinewidth": 0,
              "tickcolor": "rgb(237,237,237)",
              "ticklen": 6,
              "ticks": "inside"
             }
            },
            "type": "scatter3d"
           }
          ],
          "scattercarpet": [
           {
            "marker": {
             "colorbar": {
              "outlinewidth": 0,
              "tickcolor": "rgb(237,237,237)",
              "ticklen": 6,
              "ticks": "inside"
             }
            },
            "type": "scattercarpet"
           }
          ],
          "scattergeo": [
           {
            "marker": {
             "colorbar": {
              "outlinewidth": 0,
              "tickcolor": "rgb(237,237,237)",
              "ticklen": 6,
              "ticks": "inside"
             }
            },
            "type": "scattergeo"
           }
          ],
          "scattergl": [
           {
            "marker": {
             "colorbar": {
              "outlinewidth": 0,
              "tickcolor": "rgb(237,237,237)",
              "ticklen": 6,
              "ticks": "inside"
             }
            },
            "type": "scattergl"
           }
          ],
          "scattermapbox": [
           {
            "marker": {
             "colorbar": {
              "outlinewidth": 0,
              "tickcolor": "rgb(237,237,237)",
              "ticklen": 6,
              "ticks": "inside"
             }
            },
            "type": "scattermapbox"
           }
          ],
          "scatterpolar": [
           {
            "marker": {
             "colorbar": {
              "outlinewidth": 0,
              "tickcolor": "rgb(237,237,237)",
              "ticklen": 6,
              "ticks": "inside"
             }
            },
            "type": "scatterpolar"
           }
          ],
          "scatterpolargl": [
           {
            "marker": {
             "colorbar": {
              "outlinewidth": 0,
              "tickcolor": "rgb(237,237,237)",
              "ticklen": 6,
              "ticks": "inside"
             }
            },
            "type": "scatterpolargl"
           }
          ],
          "scatterternary": [
           {
            "marker": {
             "colorbar": {
              "outlinewidth": 0,
              "tickcolor": "rgb(237,237,237)",
              "ticklen": 6,
              "ticks": "inside"
             }
            },
            "type": "scatterternary"
           }
          ],
          "surface": [
           {
            "colorbar": {
             "outlinewidth": 0,
             "tickcolor": "rgb(237,237,237)",
             "ticklen": 6,
             "ticks": "inside"
            },
            "colorscale": [
             [
              0,
              "rgb(20,44,66)"
             ],
             [
              1,
              "rgb(90,179,244)"
             ]
            ],
            "type": "surface"
           }
          ],
          "table": [
           {
            "cells": {
             "fill": {
              "color": "rgb(237,237,237)"
             },
             "line": {
              "color": "white"
             }
            },
            "header": {
             "fill": {
              "color": "rgb(217,217,217)"
             },
             "line": {
              "color": "white"
             }
            },
            "type": "table"
           }
          ]
         },
         "layout": {
          "annotationdefaults": {
           "arrowhead": 0,
           "arrowwidth": 1
          },
          "autotypenumbers": "strict",
          "coloraxis": {
           "colorbar": {
            "outlinewidth": 0,
            "tickcolor": "rgb(237,237,237)",
            "ticklen": 6,
            "ticks": "inside"
           }
          },
          "colorscale": {
           "sequential": [
            [
             0,
             "rgb(20,44,66)"
            ],
            [
             1,
             "rgb(90,179,244)"
            ]
           ],
           "sequentialminus": [
            [
             0,
             "rgb(20,44,66)"
            ],
            [
             1,
             "rgb(90,179,244)"
            ]
           ]
          },
          "colorway": [
           "#F8766D",
           "#A3A500",
           "#00BF7D",
           "#00B0F6",
           "#E76BF3"
          ],
          "font": {
           "color": "rgb(51,51,51)"
          },
          "geo": {
           "bgcolor": "white",
           "lakecolor": "white",
           "landcolor": "rgb(237,237,237)",
           "showlakes": true,
           "showland": true,
           "subunitcolor": "white"
          },
          "hoverlabel": {
           "align": "left"
          },
          "hovermode": "closest",
          "paper_bgcolor": "white",
          "plot_bgcolor": "rgb(237,237,237)",
          "polar": {
           "angularaxis": {
            "gridcolor": "white",
            "linecolor": "white",
            "showgrid": true,
            "tickcolor": "rgb(51,51,51)",
            "ticks": "outside"
           },
           "bgcolor": "rgb(237,237,237)",
           "radialaxis": {
            "gridcolor": "white",
            "linecolor": "white",
            "showgrid": true,
            "tickcolor": "rgb(51,51,51)",
            "ticks": "outside"
           }
          },
          "scene": {
           "xaxis": {
            "backgroundcolor": "rgb(237,237,237)",
            "gridcolor": "white",
            "gridwidth": 2,
            "linecolor": "white",
            "showbackground": true,
            "showgrid": true,
            "tickcolor": "rgb(51,51,51)",
            "ticks": "outside",
            "zerolinecolor": "white"
           },
           "yaxis": {
            "backgroundcolor": "rgb(237,237,237)",
            "gridcolor": "white",
            "gridwidth": 2,
            "linecolor": "white",
            "showbackground": true,
            "showgrid": true,
            "tickcolor": "rgb(51,51,51)",
            "ticks": "outside",
            "zerolinecolor": "white"
           },
           "zaxis": {
            "backgroundcolor": "rgb(237,237,237)",
            "gridcolor": "white",
            "gridwidth": 2,
            "linecolor": "white",
            "showbackground": true,
            "showgrid": true,
            "tickcolor": "rgb(51,51,51)",
            "ticks": "outside",
            "zerolinecolor": "white"
           }
          },
          "shapedefaults": {
           "fillcolor": "black",
           "line": {
            "width": 0
           },
           "opacity": 0.3
          },
          "ternary": {
           "aaxis": {
            "gridcolor": "white",
            "linecolor": "white",
            "showgrid": true,
            "tickcolor": "rgb(51,51,51)",
            "ticks": "outside"
           },
           "baxis": {
            "gridcolor": "white",
            "linecolor": "white",
            "showgrid": true,
            "tickcolor": "rgb(51,51,51)",
            "ticks": "outside"
           },
           "bgcolor": "rgb(237,237,237)",
           "caxis": {
            "gridcolor": "white",
            "linecolor": "white",
            "showgrid": true,
            "tickcolor": "rgb(51,51,51)",
            "ticks": "outside"
           }
          },
          "xaxis": {
           "automargin": true,
           "gridcolor": "white",
           "linecolor": "white",
           "showgrid": true,
           "tickcolor": "rgb(51,51,51)",
           "ticks": "outside",
           "title": {
            "standoff": 15
           },
           "zerolinecolor": "white"
          },
          "yaxis": {
           "automargin": true,
           "gridcolor": "white",
           "linecolor": "white",
           "showgrid": true,
           "tickcolor": "rgb(51,51,51)",
           "ticks": "outside",
           "title": {
            "standoff": 15
           },
           "zerolinecolor": "white"
          }
         }
        },
        "title": {
         "text": "Unemployment rate in each region"
        }
       }
      },
      "text/html": [
       "<div>                            <div id=\"dc657347-03c7-46da-b3ae-0978c9a06629\" class=\"plotly-graph-div\" style=\"height:1150px; width:100%;\"></div>            <script type=\"text/javascript\">                require([\"plotly\"], function(Plotly) {                    window.PLOTLYENV=window.PLOTLYENV || {};                                    if (document.getElementById(\"dc657347-03c7-46da-b3ae-0978c9a06629\")) {                    Plotly.newPlot(                        \"dc657347-03c7-46da-b3ae-0978c9a06629\",                        [{\"branchvalues\":\"total\",\"domain\":{\"x\":[0.0,1.0],\"y\":[0.0,1.0]},\"hovertemplate\":\"labels=%{label}<br>Estimated Unemployment Rate (%)=%{value}<br>parent=%{parent}<br>id=%{id}<extra></extra>\",\"ids\":[\"South/Andhra Pradesh\",\"Northeast/Assam\",\"East/Bihar\",\"West/Chhattisgarh\",\"North/Delhi\",\"West/Goa\",\"West/Gujarat\",\"North/Haryana\",\"North/Himachal Pradesh\",\"North/Jammu & Kashmir\",\"East/Jharkhand\",\"South/Karnataka\",\"South/Kerala\",\"West/Madhya Pradesh\",\"West/Maharashtra\",\"Northeast/Meghalaya\",\"East/Odisha\",\"South/Puducherry\",\"North/Punjab\",\"North/Rajasthan\",\"Northeast/Sikkim\",\"South/Tamil Nadu\",\"South/Telangana\",\"Northeast/Tripura\",\"North/Uttar Pradesh\",\"North/Uttarakhand\",\"East/West Bengal\",\"East\",\"North\",\"Northeast\",\"South\",\"West\"],\"labels\":[\"Andhra Pradesh\",\"Assam\",\"Bihar\",\"Chhattisgarh\",\"Delhi\",\"Goa\",\"Gujarat\",\"Haryana\",\"Himachal Pradesh\",\"Jammu & Kashmir\",\"Jharkhand\",\"Karnataka\",\"Kerala\",\"Madhya Pradesh\",\"Maharashtra\",\"Meghalaya\",\"Odisha\",\"Puducherry\",\"Punjab\",\"Rajasthan\",\"Sikkim\",\"Tamil Nadu\",\"Telangana\",\"Tripura\",\"Uttar Pradesh\",\"Uttarakhand\",\"West Bengal\",\"East\",\"North\",\"Northeast\",\"South\",\"West\"],\"name\":\"\",\"parents\":[\"South\",\"Northeast\",\"East\",\"West\",\"North\",\"West\",\"West\",\"North\",\"North\",\"North\",\"East\",\"South\",\"South\",\"West\",\"West\",\"Northeast\",\"East\",\"South\",\"North\",\"North\",\"Northeast\",\"South\",\"South\",\"Northeast\",\"North\",\"North\",\"East\",\"\",\"\",\"\",\"\",\"\"],\"values\":[8.664,4.856,19.471,7.819,18.414,12.167,6.3759999999999994,27.476999999999997,16.065,16.477777777777778,19.538999999999998,7.667999999999999,9.434000000000001,6.854000000000001,7.979000000000001,3.8659999999999997,6.462000000000001,17.942,11.981,15.868,9.7925,12.187,6.833,25.055,9.737,11.156,10.192,55.664,127.17577777777778,43.5695,62.727999999999994,41.195],\"type\":\"sunburst\"}],                        {\"template\":{\"data\":{\"barpolar\":[{\"marker\":{\"line\":{\"color\":\"rgb(237,237,237)\",\"width\":0.5},\"pattern\":{\"fillmode\":\"overlay\",\"size\":10,\"solidity\":0.2}},\"type\":\"barpolar\"}],\"bar\":[{\"error_x\":{\"color\":\"rgb(51,51,51)\"},\"error_y\":{\"color\":\"rgb(51,51,51)\"},\"marker\":{\"line\":{\"color\":\"rgb(237,237,237)\",\"width\":0.5},\"pattern\":{\"fillmode\":\"overlay\",\"size\":10,\"solidity\":0.2}},\"type\":\"bar\"}],\"carpet\":[{\"aaxis\":{\"endlinecolor\":\"rgb(51,51,51)\",\"gridcolor\":\"white\",\"linecolor\":\"white\",\"minorgridcolor\":\"white\",\"startlinecolor\":\"rgb(51,51,51)\"},\"baxis\":{\"endlinecolor\":\"rgb(51,51,51)\",\"gridcolor\":\"white\",\"linecolor\":\"white\",\"minorgridcolor\":\"white\",\"startlinecolor\":\"rgb(51,51,51)\"},\"type\":\"carpet\"}],\"choropleth\":[{\"colorbar\":{\"outlinewidth\":0,\"tickcolor\":\"rgb(237,237,237)\",\"ticklen\":6,\"ticks\":\"inside\"},\"type\":\"choropleth\"}],\"contourcarpet\":[{\"colorbar\":{\"outlinewidth\":0,\"tickcolor\":\"rgb(237,237,237)\",\"ticklen\":6,\"ticks\":\"inside\"},\"type\":\"contourcarpet\"}],\"contour\":[{\"colorbar\":{\"outlinewidth\":0,\"tickcolor\":\"rgb(237,237,237)\",\"ticklen\":6,\"ticks\":\"inside\"},\"colorscale\":[[0,\"rgb(20,44,66)\"],[1,\"rgb(90,179,244)\"]],\"type\":\"contour\"}],\"heatmapgl\":[{\"colorbar\":{\"outlinewidth\":0,\"tickcolor\":\"rgb(237,237,237)\",\"ticklen\":6,\"ticks\":\"inside\"},\"colorscale\":[[0,\"rgb(20,44,66)\"],[1,\"rgb(90,179,244)\"]],\"type\":\"heatmapgl\"}],\"heatmap\":[{\"colorbar\":{\"outlinewidth\":0,\"tickcolor\":\"rgb(237,237,237)\",\"ticklen\":6,\"ticks\":\"inside\"},\"colorscale\":[[0,\"rgb(20,44,66)\"],[1,\"rgb(90,179,244)\"]],\"type\":\"heatmap\"}],\"histogram2dcontour\":[{\"colorbar\":{\"outlinewidth\":0,\"tickcolor\":\"rgb(237,237,237)\",\"ticklen\":6,\"ticks\":\"inside\"},\"colorscale\":[[0,\"rgb(20,44,66)\"],[1,\"rgb(90,179,244)\"]],\"type\":\"histogram2dcontour\"}],\"histogram2d\":[{\"colorbar\":{\"outlinewidth\":0,\"tickcolor\":\"rgb(237,237,237)\",\"ticklen\":6,\"ticks\":\"inside\"},\"colorscale\":[[0,\"rgb(20,44,66)\"],[1,\"rgb(90,179,244)\"]],\"type\":\"histogram2d\"}],\"histogram\":[{\"marker\":{\"pattern\":{\"fillmode\":\"overlay\",\"size\":10,\"solidity\":0.2}},\"type\":\"histogram\"}],\"mesh3d\":[{\"colorbar\":{\"outlinewidth\":0,\"tickcolor\":\"rgb(237,237,237)\",\"ticklen\":6,\"ticks\":\"inside\"},\"type\":\"mesh3d\"}],\"parcoords\":[{\"line\":{\"colorbar\":{\"outlinewidth\":0,\"tickcolor\":\"rgb(237,237,237)\",\"ticklen\":6,\"ticks\":\"inside\"}},\"type\":\"parcoords\"}],\"pie\":[{\"automargin\":true,\"type\":\"pie\"}],\"scatter3d\":[{\"line\":{\"colorbar\":{\"outlinewidth\":0,\"tickcolor\":\"rgb(237,237,237)\",\"ticklen\":6,\"ticks\":\"inside\"}},\"marker\":{\"colorbar\":{\"outlinewidth\":0,\"tickcolor\":\"rgb(237,237,237)\",\"ticklen\":6,\"ticks\":\"inside\"}},\"type\":\"scatter3d\"}],\"scattercarpet\":[{\"marker\":{\"colorbar\":{\"outlinewidth\":0,\"tickcolor\":\"rgb(237,237,237)\",\"ticklen\":6,\"ticks\":\"inside\"}},\"type\":\"scattercarpet\"}],\"scattergeo\":[{\"marker\":{\"colorbar\":{\"outlinewidth\":0,\"tickcolor\":\"rgb(237,237,237)\",\"ticklen\":6,\"ticks\":\"inside\"}},\"type\":\"scattergeo\"}],\"scattergl\":[{\"marker\":{\"colorbar\":{\"outlinewidth\":0,\"tickcolor\":\"rgb(237,237,237)\",\"ticklen\":6,\"ticks\":\"inside\"}},\"type\":\"scattergl\"}],\"scattermapbox\":[{\"marker\":{\"colorbar\":{\"outlinewidth\":0,\"tickcolor\":\"rgb(237,237,237)\",\"ticklen\":6,\"ticks\":\"inside\"}},\"type\":\"scattermapbox\"}],\"scatterpolargl\":[{\"marker\":{\"colorbar\":{\"outlinewidth\":0,\"tickcolor\":\"rgb(237,237,237)\",\"ticklen\":6,\"ticks\":\"inside\"}},\"type\":\"scatterpolargl\"}],\"scatterpolar\":[{\"marker\":{\"colorbar\":{\"outlinewidth\":0,\"tickcolor\":\"rgb(237,237,237)\",\"ticklen\":6,\"ticks\":\"inside\"}},\"type\":\"scatterpolar\"}],\"scatter\":[{\"fillpattern\":{\"fillmode\":\"overlay\",\"size\":10,\"solidity\":0.2},\"type\":\"scatter\"}],\"scatterternary\":[{\"marker\":{\"colorbar\":{\"outlinewidth\":0,\"tickcolor\":\"rgb(237,237,237)\",\"ticklen\":6,\"ticks\":\"inside\"}},\"type\":\"scatterternary\"}],\"surface\":[{\"colorbar\":{\"outlinewidth\":0,\"tickcolor\":\"rgb(237,237,237)\",\"ticklen\":6,\"ticks\":\"inside\"},\"colorscale\":[[0,\"rgb(20,44,66)\"],[1,\"rgb(90,179,244)\"]],\"type\":\"surface\"}],\"table\":[{\"cells\":{\"fill\":{\"color\":\"rgb(237,237,237)\"},\"line\":{\"color\":\"white\"}},\"header\":{\"fill\":{\"color\":\"rgb(217,217,217)\"},\"line\":{\"color\":\"white\"}},\"type\":\"table\"}]},\"layout\":{\"annotationdefaults\":{\"arrowhead\":0,\"arrowwidth\":1},\"autotypenumbers\":\"strict\",\"coloraxis\":{\"colorbar\":{\"outlinewidth\":0,\"tickcolor\":\"rgb(237,237,237)\",\"ticklen\":6,\"ticks\":\"inside\"}},\"colorscale\":{\"sequential\":[[0,\"rgb(20,44,66)\"],[1,\"rgb(90,179,244)\"]],\"sequentialminus\":[[0,\"rgb(20,44,66)\"],[1,\"rgb(90,179,244)\"]]},\"colorway\":[\"#F8766D\",\"#A3A500\",\"#00BF7D\",\"#00B0F6\",\"#E76BF3\"],\"font\":{\"color\":\"rgb(51,51,51)\"},\"geo\":{\"bgcolor\":\"white\",\"lakecolor\":\"white\",\"landcolor\":\"rgb(237,237,237)\",\"showlakes\":true,\"showland\":true,\"subunitcolor\":\"white\"},\"hoverlabel\":{\"align\":\"left\"},\"hovermode\":\"closest\",\"paper_bgcolor\":\"white\",\"plot_bgcolor\":\"rgb(237,237,237)\",\"polar\":{\"angularaxis\":{\"gridcolor\":\"white\",\"linecolor\":\"white\",\"showgrid\":true,\"tickcolor\":\"rgb(51,51,51)\",\"ticks\":\"outside\"},\"bgcolor\":\"rgb(237,237,237)\",\"radialaxis\":{\"gridcolor\":\"white\",\"linecolor\":\"white\",\"showgrid\":true,\"tickcolor\":\"rgb(51,51,51)\",\"ticks\":\"outside\"}},\"scene\":{\"xaxis\":{\"backgroundcolor\":\"rgb(237,237,237)\",\"gridcolor\":\"white\",\"gridwidth\":2,\"linecolor\":\"white\",\"showbackground\":true,\"showgrid\":true,\"tickcolor\":\"rgb(51,51,51)\",\"ticks\":\"outside\",\"zerolinecolor\":\"white\"},\"yaxis\":{\"backgroundcolor\":\"rgb(237,237,237)\",\"gridcolor\":\"white\",\"gridwidth\":2,\"linecolor\":\"white\",\"showbackground\":true,\"showgrid\":true,\"tickcolor\":\"rgb(51,51,51)\",\"ticks\":\"outside\",\"zerolinecolor\":\"white\"},\"zaxis\":{\"backgroundcolor\":\"rgb(237,237,237)\",\"gridcolor\":\"white\",\"gridwidth\":2,\"linecolor\":\"white\",\"showbackground\":true,\"showgrid\":true,\"tickcolor\":\"rgb(51,51,51)\",\"ticks\":\"outside\",\"zerolinecolor\":\"white\"}},\"shapedefaults\":{\"fillcolor\":\"black\",\"line\":{\"width\":0},\"opacity\":0.3},\"ternary\":{\"aaxis\":{\"gridcolor\":\"white\",\"linecolor\":\"white\",\"showgrid\":true,\"tickcolor\":\"rgb(51,51,51)\",\"ticks\":\"outside\"},\"baxis\":{\"gridcolor\":\"white\",\"linecolor\":\"white\",\"showgrid\":true,\"tickcolor\":\"rgb(51,51,51)\",\"ticks\":\"outside\"},\"bgcolor\":\"rgb(237,237,237)\",\"caxis\":{\"gridcolor\":\"white\",\"linecolor\":\"white\",\"showgrid\":true,\"tickcolor\":\"rgb(51,51,51)\",\"ticks\":\"outside\"}},\"xaxis\":{\"automargin\":true,\"gridcolor\":\"white\",\"linecolor\":\"white\",\"showgrid\":true,\"tickcolor\":\"rgb(51,51,51)\",\"ticks\":\"outside\",\"title\":{\"standoff\":15},\"zerolinecolor\":\"white\"},\"yaxis\":{\"automargin\":true,\"gridcolor\":\"white\",\"linecolor\":\"white\",\"showgrid\":true,\"tickcolor\":\"rgb(51,51,51)\",\"ticks\":\"outside\",\"title\":{\"standoff\":15},\"zerolinecolor\":\"white\"}}},\"legend\":{\"tracegroupgap\":0},\"title\":{\"text\":\"Unemployment rate in each region\"},\"height\":1150},                        {\"responsive\": true}                    ).then(function(){\n",
       "                            \n",
       "var gd = document.getElementById('dc657347-03c7-46da-b3ae-0978c9a06629');\n",
       "var x = new MutationObserver(function (mutations, observer) {{\n",
       "        var display = window.getComputedStyle(gd).display;\n",
       "        if (!display || display === 'none') {{\n",
       "            console.log([gd, 'removed!']);\n",
       "            Plotly.purge(gd);\n",
       "            observer.disconnect();\n",
       "        }}\n",
       "}});\n",
       "\n",
       "// Listen for the removal of the full notebook cells\n",
       "var notebookContainer = gd.closest('#notebook-container');\n",
       "if (notebookContainer) {{\n",
       "    x.observe(notebookContainer, {childList: true});\n",
       "}}\n",
       "\n",
       "// Listen for the clearing of the current output cell\n",
       "var outputEl = gd.closest('.output');\n",
       "if (outputEl) {{\n",
       "    x.observe(outputEl, {childList: true});\n",
       "}}\n",
       "\n",
       "                        })                };                });            </script>        </div>"
      ]
     },
     "metadata": {},
     "output_type": "display_data"
    }
   ],
   "source": [
    "unemployData2 = data2[[\"Region.1\",\"Region\",\"Estimated Unemployment Rate (%)\" , \"Estimated Employed\" , \"Estimated Labour Participation Rate (%)\"]]\n",
    "unemploy2 = unemployData2.groupby([\"Region.1\",\"Region\"])[\"Estimated Unemployment Rate (%)\"].mean().reset_index()\n",
    "fig = px.sunburst(unemploy2, path=[\"Region.1\",\"Region\"], values=\"Estimated Unemployment Rate (%)\",\n",
    "                  color_continuous_scale='Plasma', title='Unemployment rate in each region',\n",
    "                  height=1150, template='ggplot2')\n",
    "fig.show()"
   ]
  },
  {
   "cell_type": "code",
   "execution_count": 42,
   "id": "e7569960",
   "metadata": {},
   "outputs": [],
   "source": [
    "data_list=[data1,data2]"
   ]
  },
  {
   "cell_type": "code",
   "execution_count": 43,
   "id": "cdede759",
   "metadata": {},
   "outputs": [
    {
     "data": {
      "text/plain": [
       "[             Region        Date Frequency  Estimated Unemployment Rate (%)  \\\n",
       " 0    Andhra Pradesh  31-05-2019   Monthly                             3.65   \n",
       " 1    Andhra Pradesh  30-06-2019   Monthly                             3.05   \n",
       " 2    Andhra Pradesh  31-07-2019   Monthly                             3.75   \n",
       " 3    Andhra Pradesh  31-08-2019   Monthly                             3.32   \n",
       " 4    Andhra Pradesh  30-09-2019   Monthly                             5.17   \n",
       " ..              ...         ...       ...                              ...   \n",
       " 749     West Bengal  29-02-2020   Monthly                             7.55   \n",
       " 750     West Bengal  31-03-2020   Monthly                             6.67   \n",
       " 751     West Bengal  30-04-2020   Monthly                            15.63   \n",
       " 752     West Bengal  31-05-2020   Monthly                            15.22   \n",
       " 753     West Bengal  30-06-2020   Monthly                             9.86   \n",
       " \n",
       "      Estimated Employed  Estimated Labour Participation Rate (%)   Area  \n",
       " 0            11999139.0                                    43.24  Rural  \n",
       " 1            11755881.0                                    42.05  Rural  \n",
       " 2            12086707.0                                    43.50  Rural  \n",
       " 3            12285693.0                                    43.97  Rural  \n",
       " 4            12256762.0                                    44.68  Rural  \n",
       " ..                  ...                                      ...    ...  \n",
       " 749          10871168.0                                    44.09  Urban  \n",
       " 750          10806105.0                                    43.34  Urban  \n",
       " 751           9299466.0                                    41.20  Urban  \n",
       " 752           9240903.0                                    40.67  Urban  \n",
       " 753           9088931.0                                    37.57  Urban  \n",
       " \n",
       " [740 rows x 7 columns],\n",
       "              Region        Date Frequency  Estimated Unemployment Rate (%)  \\\n",
       " 0    Andhra Pradesh  31-01-2020         M                             5.48   \n",
       " 1    Andhra Pradesh  29-02-2020         M                             5.83   \n",
       " 2    Andhra Pradesh  31-03-2020         M                             5.79   \n",
       " 3    Andhra Pradesh  30-04-2020         M                            20.51   \n",
       " 4    Andhra Pradesh  31-05-2020         M                            17.43   \n",
       " ..              ...         ...       ...                              ...   \n",
       " 262     West Bengal  30-06-2020         M                             7.29   \n",
       " 263     West Bengal  31-07-2020         M                             6.83   \n",
       " 264     West Bengal  31-08-2020         M                            14.87   \n",
       " 265     West Bengal  30-09-2020         M                             9.35   \n",
       " 266     West Bengal  31-10-2020         M                             9.98   \n",
       " \n",
       "      Estimated Employed  Estimated Labour Participation Rate (%) Region.1  \\\n",
       " 0              16635535                                    41.02    South   \n",
       " 1              16545652                                    40.90    South   \n",
       " 2              15881197                                    39.18    South   \n",
       " 3              11336911                                    33.10    South   \n",
       " 4              12988845                                    36.46    South   \n",
       " ..                  ...                                      ...      ...   \n",
       " 262            30726310                                    40.39     East   \n",
       " 263            35372506                                    46.17     East   \n",
       " 264            33298644                                    47.48     East   \n",
       " 265            35707239                                    47.73     East   \n",
       " 266            33962549                                    45.63     East   \n",
       " \n",
       "      Longitude  Latitude  \n",
       " 0      15.9129    79.740  \n",
       " 1      15.9129    79.740  \n",
       " 2      15.9129    79.740  \n",
       " 3      15.9129    79.740  \n",
       " 4      15.9129    79.740  \n",
       " ..         ...       ...  \n",
       " 262    22.9868    87.855  \n",
       " 263    22.9868    87.855  \n",
       " 264    22.9868    87.855  \n",
       " 265    22.9868    87.855  \n",
       " 266    22.9868    87.855  \n",
       " \n",
       " [267 rows x 9 columns]]"
      ]
     },
     "execution_count": 43,
     "metadata": {},
     "output_type": "execute_result"
    }
   ],
   "source": [
    "data_list"
   ]
  },
  {
   "cell_type": "code",
   "execution_count": 159,
   "id": "235c8547",
   "metadata": {},
   "outputs": [],
   "source": [
    "data=pd.concat(data_list)"
   ]
  },
  {
   "cell_type": "code",
   "execution_count": 160,
   "id": "d806cd81",
   "metadata": {},
   "outputs": [
    {
     "data": {
      "text/html": [
       "<div>\n",
       "<style scoped>\n",
       "    .dataframe tbody tr th:only-of-type {\n",
       "        vertical-align: middle;\n",
       "    }\n",
       "\n",
       "    .dataframe tbody tr th {\n",
       "        vertical-align: top;\n",
       "    }\n",
       "\n",
       "    .dataframe thead th {\n",
       "        text-align: right;\n",
       "    }\n",
       "</style>\n",
       "<table border=\"1\" class=\"dataframe\">\n",
       "  <thead>\n",
       "    <tr style=\"text-align: right;\">\n",
       "      <th></th>\n",
       "      <th>Region</th>\n",
       "      <th>Date</th>\n",
       "      <th>Frequency</th>\n",
       "      <th>Estimated Unemployment Rate (%)</th>\n",
       "      <th>Estimated Employed</th>\n",
       "      <th>Estimated Labour Participation Rate (%)</th>\n",
       "      <th>Area</th>\n",
       "      <th>Region.1</th>\n",
       "      <th>Longitude</th>\n",
       "      <th>Latitude</th>\n",
       "    </tr>\n",
       "  </thead>\n",
       "  <tbody>\n",
       "    <tr>\n",
       "      <th>0</th>\n",
       "      <td>Andhra Pradesh</td>\n",
       "      <td>31-05-2019</td>\n",
       "      <td>Monthly</td>\n",
       "      <td>3.65</td>\n",
       "      <td>11999139.0</td>\n",
       "      <td>43.24</td>\n",
       "      <td>Rural</td>\n",
       "      <td>NaN</td>\n",
       "      <td>NaN</td>\n",
       "      <td>NaN</td>\n",
       "    </tr>\n",
       "    <tr>\n",
       "      <th>1</th>\n",
       "      <td>Andhra Pradesh</td>\n",
       "      <td>30-06-2019</td>\n",
       "      <td>Monthly</td>\n",
       "      <td>3.05</td>\n",
       "      <td>11755881.0</td>\n",
       "      <td>42.05</td>\n",
       "      <td>Rural</td>\n",
       "      <td>NaN</td>\n",
       "      <td>NaN</td>\n",
       "      <td>NaN</td>\n",
       "    </tr>\n",
       "    <tr>\n",
       "      <th>2</th>\n",
       "      <td>Andhra Pradesh</td>\n",
       "      <td>31-07-2019</td>\n",
       "      <td>Monthly</td>\n",
       "      <td>3.75</td>\n",
       "      <td>12086707.0</td>\n",
       "      <td>43.50</td>\n",
       "      <td>Rural</td>\n",
       "      <td>NaN</td>\n",
       "      <td>NaN</td>\n",
       "      <td>NaN</td>\n",
       "    </tr>\n",
       "    <tr>\n",
       "      <th>3</th>\n",
       "      <td>Andhra Pradesh</td>\n",
       "      <td>31-08-2019</td>\n",
       "      <td>Monthly</td>\n",
       "      <td>3.32</td>\n",
       "      <td>12285693.0</td>\n",
       "      <td>43.97</td>\n",
       "      <td>Rural</td>\n",
       "      <td>NaN</td>\n",
       "      <td>NaN</td>\n",
       "      <td>NaN</td>\n",
       "    </tr>\n",
       "    <tr>\n",
       "      <th>4</th>\n",
       "      <td>Andhra Pradesh</td>\n",
       "      <td>30-09-2019</td>\n",
       "      <td>Monthly</td>\n",
       "      <td>5.17</td>\n",
       "      <td>12256762.0</td>\n",
       "      <td>44.68</td>\n",
       "      <td>Rural</td>\n",
       "      <td>NaN</td>\n",
       "      <td>NaN</td>\n",
       "      <td>NaN</td>\n",
       "    </tr>\n",
       "  </tbody>\n",
       "</table>\n",
       "</div>"
      ],
      "text/plain": [
       "           Region        Date Frequency  Estimated Unemployment Rate (%)  \\\n",
       "0  Andhra Pradesh  31-05-2019   Monthly                             3.65   \n",
       "1  Andhra Pradesh  30-06-2019   Monthly                             3.05   \n",
       "2  Andhra Pradesh  31-07-2019   Monthly                             3.75   \n",
       "3  Andhra Pradesh  31-08-2019   Monthly                             3.32   \n",
       "4  Andhra Pradesh  30-09-2019   Monthly                             5.17   \n",
       "\n",
       "   Estimated Employed  Estimated Labour Participation Rate (%)   Area  \\\n",
       "0          11999139.0                                    43.24  Rural   \n",
       "1          11755881.0                                    42.05  Rural   \n",
       "2          12086707.0                                    43.50  Rural   \n",
       "3          12285693.0                                    43.97  Rural   \n",
       "4          12256762.0                                    44.68  Rural   \n",
       "\n",
       "  Region.1  Longitude  Latitude  \n",
       "0      NaN        NaN       NaN  \n",
       "1      NaN        NaN       NaN  \n",
       "2      NaN        NaN       NaN  \n",
       "3      NaN        NaN       NaN  \n",
       "4      NaN        NaN       NaN  "
      ]
     },
     "execution_count": 160,
     "metadata": {},
     "output_type": "execute_result"
    }
   ],
   "source": [
    "data.head()"
   ]
  },
  {
   "cell_type": "code",
   "execution_count": 161,
   "id": "a20e43cb",
   "metadata": {},
   "outputs": [
    {
     "data": {
      "text/plain": [
       "(1007, 10)"
      ]
     },
     "execution_count": 161,
     "metadata": {},
     "output_type": "execute_result"
    }
   ],
   "source": [
    "data.shape"
   ]
  },
  {
   "cell_type": "code",
   "execution_count": 162,
   "id": "034d5edd",
   "metadata": {},
   "outputs": [
    {
     "data": {
      "text/plain": [
       "Index(['Region', 'Date', 'Frequency', 'Estimated Unemployment Rate (%)',\n",
       "       'Estimated Employed', 'Estimated Labour Participation Rate (%)', 'Area',\n",
       "       'Region.1', 'Longitude', 'Latitude'],\n",
       "      dtype='object')"
      ]
     },
     "execution_count": 162,
     "metadata": {},
     "output_type": "execute_result"
    }
   ],
   "source": [
    "data.columns"
   ]
  },
  {
   "cell_type": "code",
   "execution_count": 163,
   "id": "7bf85665",
   "metadata": {},
   "outputs": [
    {
     "data": {
      "text/html": [
       "<div>\n",
       "<style scoped>\n",
       "    .dataframe tbody tr th:only-of-type {\n",
       "        vertical-align: middle;\n",
       "    }\n",
       "\n",
       "    .dataframe tbody tr th {\n",
       "        vertical-align: top;\n",
       "    }\n",
       "\n",
       "    .dataframe thead th {\n",
       "        text-align: right;\n",
       "    }\n",
       "</style>\n",
       "<table border=\"1\" class=\"dataframe\">\n",
       "  <thead>\n",
       "    <tr style=\"text-align: right;\">\n",
       "      <th></th>\n",
       "      <th>Estimated Unemployment Rate (%)</th>\n",
       "      <th>Estimated Employed</th>\n",
       "      <th>Estimated Labour Participation Rate (%)</th>\n",
       "      <th>Longitude</th>\n",
       "      <th>Latitude</th>\n",
       "    </tr>\n",
       "  </thead>\n",
       "  <tbody>\n",
       "    <tr>\n",
       "      <th>count</th>\n",
       "      <td>1007.000000</td>\n",
       "      <td>1.007000e+03</td>\n",
       "      <td>1007.000000</td>\n",
       "      <td>267.000000</td>\n",
       "      <td>267.000000</td>\n",
       "    </tr>\n",
       "    <tr>\n",
       "      <th>mean</th>\n",
       "      <td>11.906991</td>\n",
       "      <td>8.996209e+06</td>\n",
       "      <td>42.378620</td>\n",
       "      <td>22.826048</td>\n",
       "      <td>80.532425</td>\n",
       "    </tr>\n",
       "    <tr>\n",
       "      <th>std</th>\n",
       "      <td>10.739549</td>\n",
       "      <td>1.020784e+07</td>\n",
       "      <td>8.048542</td>\n",
       "      <td>6.270731</td>\n",
       "      <td>5.831738</td>\n",
       "    </tr>\n",
       "    <tr>\n",
       "      <th>min</th>\n",
       "      <td>0.000000</td>\n",
       "      <td>4.942000e+04</td>\n",
       "      <td>13.330000</td>\n",
       "      <td>10.850500</td>\n",
       "      <td>71.192400</td>\n",
       "    </tr>\n",
       "    <tr>\n",
       "      <th>25%</th>\n",
       "      <td>4.685000</td>\n",
       "      <td>1.639125e+06</td>\n",
       "      <td>37.835000</td>\n",
       "      <td>18.112400</td>\n",
       "      <td>76.085600</td>\n",
       "    </tr>\n",
       "    <tr>\n",
       "      <th>50%</th>\n",
       "      <td>8.890000</td>\n",
       "      <td>5.543380e+06</td>\n",
       "      <td>40.880000</td>\n",
       "      <td>23.610200</td>\n",
       "      <td>79.019300</td>\n",
       "    </tr>\n",
       "    <tr>\n",
       "      <th>75%</th>\n",
       "      <td>16.125000</td>\n",
       "      <td>1.287115e+07</td>\n",
       "      <td>45.315000</td>\n",
       "      <td>27.278400</td>\n",
       "      <td>85.279900</td>\n",
       "    </tr>\n",
       "    <tr>\n",
       "      <th>max</th>\n",
       "      <td>76.740000</td>\n",
       "      <td>5.943376e+07</td>\n",
       "      <td>72.570000</td>\n",
       "      <td>33.778200</td>\n",
       "      <td>92.937600</td>\n",
       "    </tr>\n",
       "  </tbody>\n",
       "</table>\n",
       "</div>"
      ],
      "text/plain": [
       "       Estimated Unemployment Rate (%)  Estimated Employed  \\\n",
       "count                      1007.000000        1.007000e+03   \n",
       "mean                         11.906991        8.996209e+06   \n",
       "std                          10.739549        1.020784e+07   \n",
       "min                           0.000000        4.942000e+04   \n",
       "25%                           4.685000        1.639125e+06   \n",
       "50%                           8.890000        5.543380e+06   \n",
       "75%                          16.125000        1.287115e+07   \n",
       "max                          76.740000        5.943376e+07   \n",
       "\n",
       "       Estimated Labour Participation Rate (%)   Longitude    Latitude  \n",
       "count                              1007.000000  267.000000  267.000000  \n",
       "mean                                 42.378620   22.826048   80.532425  \n",
       "std                                   8.048542    6.270731    5.831738  \n",
       "min                                  13.330000   10.850500   71.192400  \n",
       "25%                                  37.835000   18.112400   76.085600  \n",
       "50%                                  40.880000   23.610200   79.019300  \n",
       "75%                                  45.315000   27.278400   85.279900  \n",
       "max                                  72.570000   33.778200   92.937600  "
      ]
     },
     "execution_count": 163,
     "metadata": {},
     "output_type": "execute_result"
    }
   ],
   "source": [
    "data.describe()"
   ]
  },
  {
   "cell_type": "code",
   "execution_count": 164,
   "id": "e61b30c8",
   "metadata": {},
   "outputs": [
    {
     "data": {
      "text/plain": [
       "Region                                       0\n",
       "Date                                         0\n",
       "Frequency                                    0\n",
       "Estimated Unemployment Rate (%)              0\n",
       "Estimated Employed                           0\n",
       "Estimated Labour Participation Rate (%)      0\n",
       "Area                                       267\n",
       "Region.1                                   740\n",
       "Longitude                                  740\n",
       "Latitude                                   740\n",
       "dtype: int64"
      ]
     },
     "execution_count": 164,
     "metadata": {},
     "output_type": "execute_result"
    }
   ],
   "source": [
    "data.isnull().sum()"
   ]
  },
  {
   "cell_type": "code",
   "execution_count": 165,
   "id": "a49746da",
   "metadata": {},
   "outputs": [
    {
     "data": {
      "text/html": [
       "<div>\n",
       "<style scoped>\n",
       "    .dataframe tbody tr th:only-of-type {\n",
       "        vertical-align: middle;\n",
       "    }\n",
       "\n",
       "    .dataframe tbody tr th {\n",
       "        vertical-align: top;\n",
       "    }\n",
       "\n",
       "    .dataframe thead th {\n",
       "        text-align: right;\n",
       "    }\n",
       "</style>\n",
       "<table border=\"1\" class=\"dataframe\">\n",
       "  <thead>\n",
       "    <tr style=\"text-align: right;\">\n",
       "      <th></th>\n",
       "      <th>Region</th>\n",
       "      <th>Date</th>\n",
       "      <th>Frequency</th>\n",
       "      <th>Estimated Unemployment Rate (%)</th>\n",
       "      <th>Estimated Employed</th>\n",
       "      <th>Estimated Labour Participation Rate (%)</th>\n",
       "      <th>Area</th>\n",
       "      <th>Region.1</th>\n",
       "      <th>Longitude</th>\n",
       "      <th>Latitude</th>\n",
       "    </tr>\n",
       "  </thead>\n",
       "  <tbody>\n",
       "    <tr>\n",
       "      <th>0</th>\n",
       "      <td>False</td>\n",
       "      <td>False</td>\n",
       "      <td>False</td>\n",
       "      <td>False</td>\n",
       "      <td>False</td>\n",
       "      <td>False</td>\n",
       "      <td>False</td>\n",
       "      <td>True</td>\n",
       "      <td>True</td>\n",
       "      <td>True</td>\n",
       "    </tr>\n",
       "    <tr>\n",
       "      <th>1</th>\n",
       "      <td>False</td>\n",
       "      <td>False</td>\n",
       "      <td>False</td>\n",
       "      <td>False</td>\n",
       "      <td>False</td>\n",
       "      <td>False</td>\n",
       "      <td>False</td>\n",
       "      <td>True</td>\n",
       "      <td>True</td>\n",
       "      <td>True</td>\n",
       "    </tr>\n",
       "    <tr>\n",
       "      <th>2</th>\n",
       "      <td>False</td>\n",
       "      <td>False</td>\n",
       "      <td>False</td>\n",
       "      <td>False</td>\n",
       "      <td>False</td>\n",
       "      <td>False</td>\n",
       "      <td>False</td>\n",
       "      <td>True</td>\n",
       "      <td>True</td>\n",
       "      <td>True</td>\n",
       "    </tr>\n",
       "    <tr>\n",
       "      <th>3</th>\n",
       "      <td>False</td>\n",
       "      <td>False</td>\n",
       "      <td>False</td>\n",
       "      <td>False</td>\n",
       "      <td>False</td>\n",
       "      <td>False</td>\n",
       "      <td>False</td>\n",
       "      <td>True</td>\n",
       "      <td>True</td>\n",
       "      <td>True</td>\n",
       "    </tr>\n",
       "    <tr>\n",
       "      <th>4</th>\n",
       "      <td>False</td>\n",
       "      <td>False</td>\n",
       "      <td>False</td>\n",
       "      <td>False</td>\n",
       "      <td>False</td>\n",
       "      <td>False</td>\n",
       "      <td>False</td>\n",
       "      <td>True</td>\n",
       "      <td>True</td>\n",
       "      <td>True</td>\n",
       "    </tr>\n",
       "    <tr>\n",
       "      <th>...</th>\n",
       "      <td>...</td>\n",
       "      <td>...</td>\n",
       "      <td>...</td>\n",
       "      <td>...</td>\n",
       "      <td>...</td>\n",
       "      <td>...</td>\n",
       "      <td>...</td>\n",
       "      <td>...</td>\n",
       "      <td>...</td>\n",
       "      <td>...</td>\n",
       "    </tr>\n",
       "    <tr>\n",
       "      <th>262</th>\n",
       "      <td>False</td>\n",
       "      <td>False</td>\n",
       "      <td>False</td>\n",
       "      <td>False</td>\n",
       "      <td>False</td>\n",
       "      <td>False</td>\n",
       "      <td>True</td>\n",
       "      <td>False</td>\n",
       "      <td>False</td>\n",
       "      <td>False</td>\n",
       "    </tr>\n",
       "    <tr>\n",
       "      <th>263</th>\n",
       "      <td>False</td>\n",
       "      <td>False</td>\n",
       "      <td>False</td>\n",
       "      <td>False</td>\n",
       "      <td>False</td>\n",
       "      <td>False</td>\n",
       "      <td>True</td>\n",
       "      <td>False</td>\n",
       "      <td>False</td>\n",
       "      <td>False</td>\n",
       "    </tr>\n",
       "    <tr>\n",
       "      <th>264</th>\n",
       "      <td>False</td>\n",
       "      <td>False</td>\n",
       "      <td>False</td>\n",
       "      <td>False</td>\n",
       "      <td>False</td>\n",
       "      <td>False</td>\n",
       "      <td>True</td>\n",
       "      <td>False</td>\n",
       "      <td>False</td>\n",
       "      <td>False</td>\n",
       "    </tr>\n",
       "    <tr>\n",
       "      <th>265</th>\n",
       "      <td>False</td>\n",
       "      <td>False</td>\n",
       "      <td>False</td>\n",
       "      <td>False</td>\n",
       "      <td>False</td>\n",
       "      <td>False</td>\n",
       "      <td>True</td>\n",
       "      <td>False</td>\n",
       "      <td>False</td>\n",
       "      <td>False</td>\n",
       "    </tr>\n",
       "    <tr>\n",
       "      <th>266</th>\n",
       "      <td>False</td>\n",
       "      <td>False</td>\n",
       "      <td>False</td>\n",
       "      <td>False</td>\n",
       "      <td>False</td>\n",
       "      <td>False</td>\n",
       "      <td>True</td>\n",
       "      <td>False</td>\n",
       "      <td>False</td>\n",
       "      <td>False</td>\n",
       "    </tr>\n",
       "  </tbody>\n",
       "</table>\n",
       "<p>1007 rows × 10 columns</p>\n",
       "</div>"
      ],
      "text/plain": [
       "     Region   Date  Frequency  Estimated Unemployment Rate (%)  \\\n",
       "0     False  False      False                            False   \n",
       "1     False  False      False                            False   \n",
       "2     False  False      False                            False   \n",
       "3     False  False      False                            False   \n",
       "4     False  False      False                            False   \n",
       "..      ...    ...        ...                              ...   \n",
       "262   False  False      False                            False   \n",
       "263   False  False      False                            False   \n",
       "264   False  False      False                            False   \n",
       "265   False  False      False                            False   \n",
       "266   False  False      False                            False   \n",
       "\n",
       "     Estimated Employed  Estimated Labour Participation Rate (%)   Area  \\\n",
       "0                 False                                    False  False   \n",
       "1                 False                                    False  False   \n",
       "2                 False                                    False  False   \n",
       "3                 False                                    False  False   \n",
       "4                 False                                    False  False   \n",
       "..                  ...                                      ...    ...   \n",
       "262               False                                    False   True   \n",
       "263               False                                    False   True   \n",
       "264               False                                    False   True   \n",
       "265               False                                    False   True   \n",
       "266               False                                    False   True   \n",
       "\n",
       "     Region.1  Longitude  Latitude  \n",
       "0        True       True      True  \n",
       "1        True       True      True  \n",
       "2        True       True      True  \n",
       "3        True       True      True  \n",
       "4        True       True      True  \n",
       "..        ...        ...       ...  \n",
       "262     False      False     False  \n",
       "263     False      False     False  \n",
       "264     False      False     False  \n",
       "265     False      False     False  \n",
       "266     False      False     False  \n",
       "\n",
       "[1007 rows x 10 columns]"
      ]
     },
     "execution_count": 165,
     "metadata": {},
     "output_type": "execute_result"
    }
   ],
   "source": [
    "data.isnull()"
   ]
  },
  {
   "cell_type": "code",
   "execution_count": 166,
   "id": "fdfc3ab3",
   "metadata": {},
   "outputs": [
    {
     "name": "stderr",
     "output_type": "stream",
     "text": [
      "C:\\Users\\Ayan Pramanik\\AppData\\Local\\Temp\\ipykernel_17344\\50576068.py:1: FutureWarning:\n",
      "\n",
      "Dropping of nuisance columns in DataFrame reductions (with 'numeric_only=None') is deprecated; in a future version this will raise TypeError.  Select only valid columns before calling the reduction.\n",
      "\n"
     ]
    }
   ],
   "source": [
    "data.fillna(data.mean(),inplace=True)"
   ]
  },
  {
   "cell_type": "code",
   "execution_count": 167,
   "id": "210010cc",
   "metadata": {},
   "outputs": [
    {
     "data": {
      "text/plain": [
       "Region                                       0\n",
       "Date                                         0\n",
       "Frequency                                    0\n",
       "Estimated Unemployment Rate (%)              0\n",
       "Estimated Employed                           0\n",
       "Estimated Labour Participation Rate (%)      0\n",
       "Area                                       267\n",
       "Region.1                                   740\n",
       "Longitude                                    0\n",
       "Latitude                                     0\n",
       "dtype: int64"
      ]
     },
     "execution_count": 167,
     "metadata": {},
     "output_type": "execute_result"
    }
   ],
   "source": [
    "data.isnull().sum()"
   ]
  },
  {
   "cell_type": "code",
   "execution_count": 168,
   "id": "6a95bce8",
   "metadata": {},
   "outputs": [],
   "source": [
    "data.fillna(data.mode().iloc[0],inplace=True)"
   ]
  },
  {
   "cell_type": "code",
   "execution_count": 169,
   "id": "e1e485d6",
   "metadata": {},
   "outputs": [
    {
     "data": {
      "text/plain": [
       "Region                                     0\n",
       "Date                                       0\n",
       "Frequency                                  0\n",
       "Estimated Unemployment Rate (%)            0\n",
       "Estimated Employed                         0\n",
       "Estimated Labour Participation Rate (%)    0\n",
       "Area                                       0\n",
       "Region.1                                   0\n",
       "Longitude                                  0\n",
       "Latitude                                   0\n",
       "dtype: int64"
      ]
     },
     "execution_count": 169,
     "metadata": {},
     "output_type": "execute_result"
    }
   ],
   "source": [
    "data.isnull().sum()"
   ]
  },
  {
   "cell_type": "code",
   "execution_count": 170,
   "id": "ba74b39f",
   "metadata": {},
   "outputs": [
    {
     "data": {
      "text/plain": [
       "Andhra Pradesh      38\n",
       "Kerala              38\n",
       "West Bengal         38\n",
       "Uttar Pradesh       38\n",
       "Tripura             38\n",
       "Telangana           38\n",
       "Tamil Nadu          38\n",
       "Rajasthan           38\n",
       "Punjab              38\n",
       "Odisha              38\n",
       "Madhya Pradesh      38\n",
       "Maharashtra         38\n",
       "Karnataka           38\n",
       "Jharkhand           38\n",
       "Himachal Pradesh    38\n",
       "Haryana             38\n",
       "Gujarat             38\n",
       "Delhi               38\n",
       "Chhattisgarh        38\n",
       "Bihar               38\n",
       "Meghalaya           37\n",
       "Uttarakhand         37\n",
       "Assam               36\n",
       "Puducherry          36\n",
       "Goa                 34\n",
       "Jammu & Kashmir     30\n",
       "Sikkim              25\n",
       "Chandigarh          12\n",
       "Name: Region, dtype: int64"
      ]
     },
     "execution_count": 170,
     "metadata": {},
     "output_type": "execute_result"
    }
   ],
   "source": [
    "data.Region.value_counts()"
   ]
  },
  {
   "cell_type": "code",
   "execution_count": 171,
   "id": "e6e518f8",
   "metadata": {},
   "outputs": [
    {
     "data": {
      "text/html": [
       "<div>\n",
       "<style scoped>\n",
       "    .dataframe tbody tr th:only-of-type {\n",
       "        vertical-align: middle;\n",
       "    }\n",
       "\n",
       "    .dataframe tbody tr th {\n",
       "        vertical-align: top;\n",
       "    }\n",
       "\n",
       "    .dataframe thead th {\n",
       "        text-align: right;\n",
       "    }\n",
       "</style>\n",
       "<table border=\"1\" class=\"dataframe\">\n",
       "  <thead>\n",
       "    <tr style=\"text-align: right;\">\n",
       "      <th></th>\n",
       "      <th>Estimated Unemployment Rate (%)</th>\n",
       "      <th>Estimated Employed</th>\n",
       "      <th>Estimated Labour Participation Rate (%)</th>\n",
       "    </tr>\n",
       "  </thead>\n",
       "  <tbody>\n",
       "    <tr>\n",
       "      <th>0</th>\n",
       "      <td>3.65</td>\n",
       "      <td>11999139.0</td>\n",
       "      <td>43.24</td>\n",
       "    </tr>\n",
       "    <tr>\n",
       "      <th>1</th>\n",
       "      <td>3.05</td>\n",
       "      <td>11755881.0</td>\n",
       "      <td>42.05</td>\n",
       "    </tr>\n",
       "    <tr>\n",
       "      <th>2</th>\n",
       "      <td>3.75</td>\n",
       "      <td>12086707.0</td>\n",
       "      <td>43.50</td>\n",
       "    </tr>\n",
       "    <tr>\n",
       "      <th>3</th>\n",
       "      <td>3.32</td>\n",
       "      <td>12285693.0</td>\n",
       "      <td>43.97</td>\n",
       "    </tr>\n",
       "    <tr>\n",
       "      <th>4</th>\n",
       "      <td>5.17</td>\n",
       "      <td>12256762.0</td>\n",
       "      <td>44.68</td>\n",
       "    </tr>\n",
       "    <tr>\n",
       "      <th>...</th>\n",
       "      <td>...</td>\n",
       "      <td>...</td>\n",
       "      <td>...</td>\n",
       "    </tr>\n",
       "    <tr>\n",
       "      <th>262</th>\n",
       "      <td>7.29</td>\n",
       "      <td>30726310.0</td>\n",
       "      <td>40.39</td>\n",
       "    </tr>\n",
       "    <tr>\n",
       "      <th>263</th>\n",
       "      <td>6.83</td>\n",
       "      <td>35372506.0</td>\n",
       "      <td>46.17</td>\n",
       "    </tr>\n",
       "    <tr>\n",
       "      <th>264</th>\n",
       "      <td>14.87</td>\n",
       "      <td>33298644.0</td>\n",
       "      <td>47.48</td>\n",
       "    </tr>\n",
       "    <tr>\n",
       "      <th>265</th>\n",
       "      <td>9.35</td>\n",
       "      <td>35707239.0</td>\n",
       "      <td>47.73</td>\n",
       "    </tr>\n",
       "    <tr>\n",
       "      <th>266</th>\n",
       "      <td>9.98</td>\n",
       "      <td>33962549.0</td>\n",
       "      <td>45.63</td>\n",
       "    </tr>\n",
       "  </tbody>\n",
       "</table>\n",
       "<p>1007 rows × 3 columns</p>\n",
       "</div>"
      ],
      "text/plain": [
       "     Estimated Unemployment Rate (%)  Estimated Employed  \\\n",
       "0                               3.65          11999139.0   \n",
       "1                               3.05          11755881.0   \n",
       "2                               3.75          12086707.0   \n",
       "3                               3.32          12285693.0   \n",
       "4                               5.17          12256762.0   \n",
       "..                               ...                 ...   \n",
       "262                             7.29          30726310.0   \n",
       "263                             6.83          35372506.0   \n",
       "264                            14.87          33298644.0   \n",
       "265                             9.35          35707239.0   \n",
       "266                             9.98          33962549.0   \n",
       "\n",
       "     Estimated Labour Participation Rate (%)  \n",
       "0                                      43.24  \n",
       "1                                      42.05  \n",
       "2                                      43.50  \n",
       "3                                      43.97  \n",
       "4                                      44.68  \n",
       "..                                       ...  \n",
       "262                                    40.39  \n",
       "263                                    46.17  \n",
       "264                                    47.48  \n",
       "265                                    47.73  \n",
       "266                                    45.63  \n",
       "\n",
       "[1007 rows x 3 columns]"
      ]
     },
     "execution_count": 171,
     "metadata": {},
     "output_type": "execute_result"
    }
   ],
   "source": [
    "MergeStatisticalData = data[[\"Estimated Unemployment Rate (%)\" , \"Estimated Employed\" , \"Estimated Labour Participation Rate (%)\"]]\n",
    "MergeStatisticalData"
   ]
  },
  {
   "cell_type": "code",
   "execution_count": 172,
   "id": "552e719e",
   "metadata": {},
   "outputs": [
    {
     "data": {
      "text/html": [
       "<div>\n",
       "<style scoped>\n",
       "    .dataframe tbody tr th:only-of-type {\n",
       "        vertical-align: middle;\n",
       "    }\n",
       "\n",
       "    .dataframe tbody tr th {\n",
       "        vertical-align: top;\n",
       "    }\n",
       "\n",
       "    .dataframe thead th {\n",
       "        text-align: right;\n",
       "    }\n",
       "</style>\n",
       "<table border=\"1\" class=\"dataframe\">\n",
       "  <thead>\n",
       "    <tr style=\"text-align: right;\">\n",
       "      <th></th>\n",
       "      <th>count</th>\n",
       "      <th>mean</th>\n",
       "      <th>std</th>\n",
       "      <th>min</th>\n",
       "      <th>25%</th>\n",
       "      <th>50%</th>\n",
       "      <th>75%</th>\n",
       "      <th>max</th>\n",
       "    </tr>\n",
       "  </thead>\n",
       "  <tbody>\n",
       "    <tr>\n",
       "      <th>Estimated Unemployment Rate (%)</th>\n",
       "      <td>1007.0</td>\n",
       "      <td>11.91</td>\n",
       "      <td>10.74</td>\n",
       "      <td>0.00</td>\n",
       "      <td>4.69</td>\n",
       "      <td>8.89</td>\n",
       "      <td>16.12</td>\n",
       "      <td>76.74</td>\n",
       "    </tr>\n",
       "    <tr>\n",
       "      <th>Estimated Employed</th>\n",
       "      <td>1007.0</td>\n",
       "      <td>8996209.18</td>\n",
       "      <td>10207838.81</td>\n",
       "      <td>49420.00</td>\n",
       "      <td>1639125.00</td>\n",
       "      <td>5543380.00</td>\n",
       "      <td>12871154.00</td>\n",
       "      <td>59433759.00</td>\n",
       "    </tr>\n",
       "    <tr>\n",
       "      <th>Estimated Labour Participation Rate (%)</th>\n",
       "      <td>1007.0</td>\n",
       "      <td>42.38</td>\n",
       "      <td>8.05</td>\n",
       "      <td>13.33</td>\n",
       "      <td>37.84</td>\n",
       "      <td>40.88</td>\n",
       "      <td>45.32</td>\n",
       "      <td>72.57</td>\n",
       "    </tr>\n",
       "  </tbody>\n",
       "</table>\n",
       "</div>"
      ],
      "text/plain": [
       "                                          count        mean          std  \\\n",
       "Estimated Unemployment Rate (%)          1007.0       11.91        10.74   \n",
       "Estimated Employed                       1007.0  8996209.18  10207838.81   \n",
       "Estimated Labour Participation Rate (%)  1007.0       42.38         8.05   \n",
       "\n",
       "                                              min         25%         50%  \\\n",
       "Estimated Unemployment Rate (%)              0.00        4.69        8.89   \n",
       "Estimated Employed                       49420.00  1639125.00  5543380.00   \n",
       "Estimated Labour Participation Rate (%)     13.33       37.84       40.88   \n",
       "\n",
       "                                                 75%          max  \n",
       "Estimated Unemployment Rate (%)                16.12        76.74  \n",
       "Estimated Employed                       12871154.00  59433759.00  \n",
       "Estimated Labour Participation Rate (%)        45.32        72.57  "
      ]
     },
     "execution_count": 172,
     "metadata": {},
     "output_type": "execute_result"
    }
   ],
   "source": [
    "round(MergeStatisticalData.describe().T, 2)"
   ]
  },
  {
   "cell_type": "code",
   "execution_count": 173,
   "id": "5fa96961",
   "metadata": {},
   "outputs": [],
   "source": [
    "MergeRegionStatistics = data.groupby(['Region'])[[\"Estimated Unemployment Rate (%)\" , \"Estimated Employed\" , \"Estimated Labour Participation Rate (%)\"]].mean().reset_index()"
   ]
  },
  {
   "cell_type": "code",
   "execution_count": 174,
   "id": "ea48a659",
   "metadata": {},
   "outputs": [
    {
     "data": {
      "text/html": [
       "<div>\n",
       "<style scoped>\n",
       "    .dataframe tbody tr th:only-of-type {\n",
       "        vertical-align: middle;\n",
       "    }\n",
       "\n",
       "    .dataframe tbody tr th {\n",
       "        vertical-align: top;\n",
       "    }\n",
       "\n",
       "    .dataframe thead th {\n",
       "        text-align: right;\n",
       "    }\n",
       "</style>\n",
       "<table border=\"1\" class=\"dataframe\">\n",
       "  <thead>\n",
       "    <tr style=\"text-align: right;\">\n",
       "      <th></th>\n",
       "      <th>Region</th>\n",
       "      <th>Estimated Unemployment Rate (%)</th>\n",
       "      <th>Estimated Employed</th>\n",
       "      <th>Estimated Labour Participation Rate (%)</th>\n",
       "    </tr>\n",
       "  </thead>\n",
       "  <tbody>\n",
       "    <tr>\n",
       "      <th>0</th>\n",
       "      <td>Andhra Pradesh</td>\n",
       "      <td>7.789474</td>\n",
       "      <td>1.006762e+07</td>\n",
       "      <td>39.266842</td>\n",
       "    </tr>\n",
       "    <tr>\n",
       "      <th>1</th>\n",
       "      <td>Assam</td>\n",
       "      <td>5.991389</td>\n",
       "      <td>6.870190e+06</td>\n",
       "      <td>44.487778</td>\n",
       "    </tr>\n",
       "    <tr>\n",
       "      <th>2</th>\n",
       "      <td>Bihar</td>\n",
       "      <td>19.063684</td>\n",
       "      <td>1.532425e+07</td>\n",
       "      <td>37.895789</td>\n",
       "    </tr>\n",
       "    <tr>\n",
       "      <th>3</th>\n",
       "      <td>Chandigarh</td>\n",
       "      <td>15.991667</td>\n",
       "      <td>3.168312e+05</td>\n",
       "      <td>39.336667</td>\n",
       "    </tr>\n",
       "    <tr>\n",
       "      <th>4</th>\n",
       "      <td>Chhattisgarh</td>\n",
       "      <td>8.866316</td>\n",
       "      <td>5.387143e+06</td>\n",
       "      <td>42.376579</td>\n",
       "    </tr>\n",
       "    <tr>\n",
       "      <th>5</th>\n",
       "      <td>Delhi</td>\n",
       "      <td>17.000263</td>\n",
       "      <td>3.155226e+06</td>\n",
       "      <td>38.121053</td>\n",
       "    </tr>\n",
       "    <tr>\n",
       "      <th>6</th>\n",
       "      <td>Goa</td>\n",
       "      <td>10.125000</td>\n",
       "      <td>2.898573e+05</td>\n",
       "      <td>39.247353</td>\n",
       "    </tr>\n",
       "    <tr>\n",
       "      <th>7</th>\n",
       "      <td>Gujarat</td>\n",
       "      <td>6.588158</td>\n",
       "      <td>1.438326e+07</td>\n",
       "      <td>45.940263</td>\n",
       "    </tr>\n",
       "    <tr>\n",
       "      <th>8</th>\n",
       "      <td>Haryana</td>\n",
       "      <td>26.597368</td>\n",
       "      <td>4.422069e+06</td>\n",
       "      <td>42.569474</td>\n",
       "    </tr>\n",
       "    <tr>\n",
       "      <th>9</th>\n",
       "      <td>Himachal Pradesh</td>\n",
       "      <td>17.888947</td>\n",
       "      <td>1.316156e+06</td>\n",
       "      <td>43.177368</td>\n",
       "    </tr>\n",
       "    <tr>\n",
       "      <th>10</th>\n",
       "      <td>Jammu &amp; Kashmir</td>\n",
       "      <td>16.275333</td>\n",
       "      <td>2.252962e+06</td>\n",
       "      <td>40.090000</td>\n",
       "    </tr>\n",
       "    <tr>\n",
       "      <th>11</th>\n",
       "      <td>Jharkhand</td>\n",
       "      <td>20.309737</td>\n",
       "      <td>5.601188e+06</td>\n",
       "      <td>41.324737</td>\n",
       "    </tr>\n",
       "    <tr>\n",
       "      <th>12</th>\n",
       "      <td>Karnataka</td>\n",
       "      <td>6.937105</td>\n",
       "      <td>1.355051e+07</td>\n",
       "      <td>41.517632</td>\n",
       "    </tr>\n",
       "    <tr>\n",
       "      <th>13</th>\n",
       "      <td>Kerala</td>\n",
       "      <td>9.942368</td>\n",
       "      <td>5.523504e+06</td>\n",
       "      <td>34.476842</td>\n",
       "    </tr>\n",
       "    <tr>\n",
       "      <th>14</th>\n",
       "      <td>Madhya Pradesh</td>\n",
       "      <td>7.261053</td>\n",
       "      <td>1.406360e+07</td>\n",
       "      <td>38.848947</td>\n",
       "    </tr>\n",
       "    <tr>\n",
       "      <th>15</th>\n",
       "      <td>Maharashtra</td>\n",
       "      <td>7.668421</td>\n",
       "      <td>2.504666e+07</td>\n",
       "      <td>42.082895</td>\n",
       "    </tr>\n",
       "    <tr>\n",
       "      <th>16</th>\n",
       "      <td>Meghalaya</td>\n",
       "      <td>4.546757</td>\n",
       "      <td>8.681364e+05</td>\n",
       "      <td>57.831622</td>\n",
       "    </tr>\n",
       "    <tr>\n",
       "      <th>17</th>\n",
       "      <td>Odisha</td>\n",
       "      <td>5.869474</td>\n",
       "      <td>8.172349e+06</td>\n",
       "      <td>38.616316</td>\n",
       "    </tr>\n",
       "    <tr>\n",
       "      <th>18</th>\n",
       "      <td>Puducherry</td>\n",
       "      <td>12.361389</td>\n",
       "      <td>2.547739e+05</td>\n",
       "      <td>38.138611</td>\n",
       "    </tr>\n",
       "    <tr>\n",
       "      <th>19</th>\n",
       "      <td>Punjab</td>\n",
       "      <td>12.017895</td>\n",
       "      <td>5.656118e+06</td>\n",
       "      <td>40.833158</td>\n",
       "    </tr>\n",
       "    <tr>\n",
       "      <th>20</th>\n",
       "      <td>Rajasthan</td>\n",
       "      <td>14.534474</td>\n",
       "      <td>1.259125e+07</td>\n",
       "      <td>40.135789</td>\n",
       "    </tr>\n",
       "    <tr>\n",
       "      <th>21</th>\n",
       "      <td>Sikkim</td>\n",
       "      <td>8.063200</td>\n",
       "      <td>1.477263e+05</td>\n",
       "      <td>45.969600</td>\n",
       "    </tr>\n",
       "    <tr>\n",
       "      <th>22</th>\n",
       "      <td>Tamil Nadu</td>\n",
       "      <td>10.048158</td>\n",
       "      <td>1.482701e+07</td>\n",
       "      <td>39.953947</td>\n",
       "    </tr>\n",
       "    <tr>\n",
       "      <th>23</th>\n",
       "      <td>Telangana</td>\n",
       "      <td>7.499737</td>\n",
       "      <td>1.012504e+07</td>\n",
       "      <td>53.520789</td>\n",
       "    </tr>\n",
       "    <tr>\n",
       "      <th>24</th>\n",
       "      <td>Tripura</td>\n",
       "      <td>27.483158</td>\n",
       "      <td>8.960261e+05</td>\n",
       "      <td>60.777632</td>\n",
       "    </tr>\n",
       "    <tr>\n",
       "      <th>25</th>\n",
       "      <td>Uttar Pradesh</td>\n",
       "      <td>11.810789</td>\n",
       "      <td>3.531324e+07</td>\n",
       "      <td>38.952368</td>\n",
       "    </tr>\n",
       "    <tr>\n",
       "      <th>26</th>\n",
       "      <td>Uttarakhand</td>\n",
       "      <td>7.818919</td>\n",
       "      <td>1.755916e+06</td>\n",
       "      <td>34.176486</td>\n",
       "    </tr>\n",
       "    <tr>\n",
       "      <th>27</th>\n",
       "      <td>West Bengal</td>\n",
       "      <td>8.668684</td>\n",
       "      <td>2.143712e+07</td>\n",
       "      <td>45.349211</td>\n",
       "    </tr>\n",
       "  </tbody>\n",
       "</table>\n",
       "</div>"
      ],
      "text/plain": [
       "              Region  Estimated Unemployment Rate (%)  Estimated Employed  \\\n",
       "0     Andhra Pradesh                         7.789474        1.006762e+07   \n",
       "1              Assam                         5.991389        6.870190e+06   \n",
       "2              Bihar                        19.063684        1.532425e+07   \n",
       "3         Chandigarh                        15.991667        3.168312e+05   \n",
       "4       Chhattisgarh                         8.866316        5.387143e+06   \n",
       "5              Delhi                        17.000263        3.155226e+06   \n",
       "6                Goa                        10.125000        2.898573e+05   \n",
       "7            Gujarat                         6.588158        1.438326e+07   \n",
       "8            Haryana                        26.597368        4.422069e+06   \n",
       "9   Himachal Pradesh                        17.888947        1.316156e+06   \n",
       "10   Jammu & Kashmir                        16.275333        2.252962e+06   \n",
       "11         Jharkhand                        20.309737        5.601188e+06   \n",
       "12         Karnataka                         6.937105        1.355051e+07   \n",
       "13            Kerala                         9.942368        5.523504e+06   \n",
       "14    Madhya Pradesh                         7.261053        1.406360e+07   \n",
       "15       Maharashtra                         7.668421        2.504666e+07   \n",
       "16         Meghalaya                         4.546757        8.681364e+05   \n",
       "17            Odisha                         5.869474        8.172349e+06   \n",
       "18        Puducherry                        12.361389        2.547739e+05   \n",
       "19            Punjab                        12.017895        5.656118e+06   \n",
       "20         Rajasthan                        14.534474        1.259125e+07   \n",
       "21            Sikkim                         8.063200        1.477263e+05   \n",
       "22        Tamil Nadu                        10.048158        1.482701e+07   \n",
       "23         Telangana                         7.499737        1.012504e+07   \n",
       "24           Tripura                        27.483158        8.960261e+05   \n",
       "25     Uttar Pradesh                        11.810789        3.531324e+07   \n",
       "26       Uttarakhand                         7.818919        1.755916e+06   \n",
       "27       West Bengal                         8.668684        2.143712e+07   \n",
       "\n",
       "    Estimated Labour Participation Rate (%)  \n",
       "0                                 39.266842  \n",
       "1                                 44.487778  \n",
       "2                                 37.895789  \n",
       "3                                 39.336667  \n",
       "4                                 42.376579  \n",
       "5                                 38.121053  \n",
       "6                                 39.247353  \n",
       "7                                 45.940263  \n",
       "8                                 42.569474  \n",
       "9                                 43.177368  \n",
       "10                                40.090000  \n",
       "11                                41.324737  \n",
       "12                                41.517632  \n",
       "13                                34.476842  \n",
       "14                                38.848947  \n",
       "15                                42.082895  \n",
       "16                                57.831622  \n",
       "17                                38.616316  \n",
       "18                                38.138611  \n",
       "19                                40.833158  \n",
       "20                                40.135789  \n",
       "21                                45.969600  \n",
       "22                                39.953947  \n",
       "23                                53.520789  \n",
       "24                                60.777632  \n",
       "25                                38.952368  \n",
       "26                                34.176486  \n",
       "27                                45.349211  "
      ]
     },
     "execution_count": 174,
     "metadata": {},
     "output_type": "execute_result"
    }
   ],
   "source": [
    "MergeRegionStatistics"
   ]
  },
  {
   "cell_type": "code",
   "execution_count": 175,
   "id": "14f063ad",
   "metadata": {},
   "outputs": [
    {
     "data": {
      "application/vnd.plotly.v1+json": {
       "config": {
        "plotlyServerURL": "https://plot.ly"
       },
       "data": [
        {
         "branchvalues": "total",
         "domain": {
          "x": [
           0,
           1
          ],
          "y": [
           0,
           1
          ]
         },
         "hovertemplate": "labels=%{label}<br>Estimated Unemployment Rate (%)=%{value}<br>parent=%{parent}<br>id=%{id}<extra></extra>",
         "ids": [
          "North/Andhra Pradesh/Rural",
          "North/Assam/Rural",
          "North/Bihar/Rural",
          "North/Chhattisgarh/Rural",
          "North/Delhi/Rural",
          "North/Goa/Rural",
          "North/Gujarat/Rural",
          "North/Haryana/Rural",
          "North/Himachal Pradesh/Rural",
          "North/Jammu & Kashmir/Rural",
          "North/Jharkhand/Rural",
          "North/Karnataka/Rural",
          "North/Kerala/Rural",
          "North/Madhya Pradesh/Rural",
          "North/Maharashtra/Rural",
          "North/Meghalaya/Rural",
          "North/Odisha/Rural",
          "North/Puducherry/Rural",
          "North/Punjab/Rural",
          "North/Rajasthan/Rural",
          "North/Sikkim/Rural",
          "North/Tamil Nadu/Rural",
          "North/Telangana/Rural",
          "North/Tripura/Rural",
          "North/Uttar Pradesh/Rural",
          "North/Uttarakhand/Rural",
          "North/West Bengal/Rural",
          "North/Andhra Pradesh/Urban",
          "South/Andhra Pradesh/Urban",
          "North/Assam/Urban",
          "Northeast/Assam/Urban",
          "East/Bihar/Urban",
          "North/Bihar/Urban",
          "North/Chandigarh/Urban",
          "North/Chhattisgarh/Urban",
          "West/Chhattisgarh/Urban",
          "North/Delhi/Urban",
          "North/Goa/Urban",
          "West/Goa/Urban",
          "North/Gujarat/Urban",
          "West/Gujarat/Urban",
          "North/Haryana/Urban",
          "North/Himachal Pradesh/Urban",
          "North/Jammu & Kashmir/Urban",
          "East/Jharkhand/Urban",
          "North/Jharkhand/Urban",
          "North/Karnataka/Urban",
          "South/Karnataka/Urban",
          "North/Kerala/Urban",
          "South/Kerala/Urban",
          "North/Madhya Pradesh/Urban",
          "West/Madhya Pradesh/Urban",
          "North/Maharashtra/Urban",
          "West/Maharashtra/Urban",
          "North/Meghalaya/Urban",
          "Northeast/Meghalaya/Urban",
          "East/Odisha/Urban",
          "North/Odisha/Urban",
          "North/Puducherry/Urban",
          "South/Puducherry/Urban",
          "North/Punjab/Urban",
          "North/Rajasthan/Urban",
          "North/Sikkim/Urban",
          "Northeast/Sikkim/Urban",
          "North/Tamil Nadu/Urban",
          "South/Tamil Nadu/Urban",
          "North/Telangana/Urban",
          "South/Telangana/Urban",
          "North/Tripura/Urban",
          "Northeast/Tripura/Urban",
          "North/Uttar Pradesh/Urban",
          "North/Uttarakhand/Urban",
          "East/West Bengal/Urban",
          "North/West Bengal/Urban",
          "North/Andhra Pradesh",
          "South/Andhra Pradesh",
          "North/Assam",
          "Northeast/Assam",
          "East/Bihar",
          "North/Bihar",
          "North/Chandigarh",
          "North/Chhattisgarh",
          "West/Chhattisgarh",
          "North/Delhi",
          "North/Goa",
          "West/Goa",
          "North/Gujarat",
          "West/Gujarat",
          "North/Haryana",
          "North/Himachal Pradesh",
          "North/Jammu & Kashmir",
          "East/Jharkhand",
          "North/Jharkhand",
          "North/Karnataka",
          "South/Karnataka",
          "North/Kerala",
          "South/Kerala",
          "North/Madhya Pradesh",
          "West/Madhya Pradesh",
          "North/Maharashtra",
          "West/Maharashtra",
          "North/Meghalaya",
          "Northeast/Meghalaya",
          "East/Odisha",
          "North/Odisha",
          "North/Puducherry",
          "South/Puducherry",
          "North/Punjab",
          "North/Rajasthan",
          "North/Sikkim",
          "Northeast/Sikkim",
          "North/Tamil Nadu",
          "South/Tamil Nadu",
          "North/Telangana",
          "South/Telangana",
          "North/Tripura",
          "Northeast/Tripura",
          "North/Uttar Pradesh",
          "North/Uttarakhand",
          "East/West Bengal",
          "North/West Bengal",
          "East",
          "North",
          "Northeast",
          "South",
          "West"
         ],
         "labels": [
          "Rural",
          "Rural",
          "Rural",
          "Rural",
          "Rural",
          "Rural",
          "Rural",
          "Rural",
          "Rural",
          "Rural",
          "Rural",
          "Rural",
          "Rural",
          "Rural",
          "Rural",
          "Rural",
          "Rural",
          "Rural",
          "Rural",
          "Rural",
          "Rural",
          "Rural",
          "Rural",
          "Rural",
          "Rural",
          "Rural",
          "Rural",
          "Urban",
          "Urban",
          "Urban",
          "Urban",
          "Urban",
          "Urban",
          "Urban",
          "Urban",
          "Urban",
          "Urban",
          "Urban",
          "Urban",
          "Urban",
          "Urban",
          "Urban",
          "Urban",
          "Urban",
          "Urban",
          "Urban",
          "Urban",
          "Urban",
          "Urban",
          "Urban",
          "Urban",
          "Urban",
          "Urban",
          "Urban",
          "Urban",
          "Urban",
          "Urban",
          "Urban",
          "Urban",
          "Urban",
          "Urban",
          "Urban",
          "Urban",
          "Urban",
          "Urban",
          "Urban",
          "Urban",
          "Urban",
          "Urban",
          "Urban",
          "Urban",
          "Urban",
          "Urban",
          "Urban",
          "Andhra Pradesh",
          "Andhra Pradesh",
          "Assam",
          "Assam",
          "Bihar",
          "Bihar",
          "Chandigarh",
          "Chhattisgarh",
          "Chhattisgarh",
          "Delhi",
          "Goa",
          "Goa",
          "Gujarat",
          "Gujarat",
          "Haryana",
          "Himachal Pradesh",
          "Jammu & Kashmir",
          "Jharkhand",
          "Jharkhand",
          "Karnataka",
          "Karnataka",
          "Kerala",
          "Kerala",
          "Madhya Pradesh",
          "Madhya Pradesh",
          "Maharashtra",
          "Maharashtra",
          "Meghalaya",
          "Meghalaya",
          "Odisha",
          "Odisha",
          "Puducherry",
          "Puducherry",
          "Punjab",
          "Rajasthan",
          "Sikkim",
          "Sikkim",
          "Tamil Nadu",
          "Tamil Nadu",
          "Telangana",
          "Telangana",
          "Tripura",
          "Tripura",
          "Uttar Pradesh",
          "Uttarakhand",
          "West Bengal",
          "West Bengal",
          "East",
          "North",
          "Northeast",
          "South",
          "West"
         ],
         "name": "",
         "parents": [
          "North/Andhra Pradesh",
          "North/Assam",
          "North/Bihar",
          "North/Chhattisgarh",
          "North/Delhi",
          "North/Goa",
          "North/Gujarat",
          "North/Haryana",
          "North/Himachal Pradesh",
          "North/Jammu & Kashmir",
          "North/Jharkhand",
          "North/Karnataka",
          "North/Kerala",
          "North/Madhya Pradesh",
          "North/Maharashtra",
          "North/Meghalaya",
          "North/Odisha",
          "North/Puducherry",
          "North/Punjab",
          "North/Rajasthan",
          "North/Sikkim",
          "North/Tamil Nadu",
          "North/Telangana",
          "North/Tripura",
          "North/Uttar Pradesh",
          "North/Uttarakhand",
          "North/West Bengal",
          "North/Andhra Pradesh",
          "South/Andhra Pradesh",
          "North/Assam",
          "Northeast/Assam",
          "East/Bihar",
          "North/Bihar",
          "North/Chandigarh",
          "North/Chhattisgarh",
          "West/Chhattisgarh",
          "North/Delhi",
          "North/Goa",
          "West/Goa",
          "North/Gujarat",
          "West/Gujarat",
          "North/Haryana",
          "North/Himachal Pradesh",
          "North/Jammu & Kashmir",
          "East/Jharkhand",
          "North/Jharkhand",
          "North/Karnataka",
          "South/Karnataka",
          "North/Kerala",
          "South/Kerala",
          "North/Madhya Pradesh",
          "West/Madhya Pradesh",
          "North/Maharashtra",
          "West/Maharashtra",
          "North/Meghalaya",
          "Northeast/Meghalaya",
          "East/Odisha",
          "North/Odisha",
          "North/Puducherry",
          "South/Puducherry",
          "North/Punjab",
          "North/Rajasthan",
          "North/Sikkim",
          "Northeast/Sikkim",
          "North/Tamil Nadu",
          "South/Tamil Nadu",
          "North/Telangana",
          "South/Telangana",
          "North/Tripura",
          "Northeast/Tripura",
          "North/Uttar Pradesh",
          "North/Uttarakhand",
          "East/West Bengal",
          "North/West Bengal",
          "North",
          "South",
          "North",
          "Northeast",
          "East",
          "North",
          "North",
          "North",
          "West",
          "North",
          "North",
          "West",
          "North",
          "West",
          "North",
          "North",
          "North",
          "East",
          "North",
          "North",
          "South",
          "North",
          "South",
          "North",
          "West",
          "North",
          "West",
          "North",
          "Northeast",
          "East",
          "North",
          "North",
          "South",
          "North",
          "North",
          "North",
          "Northeast",
          "North",
          "South",
          "North",
          "South",
          "North",
          "Northeast",
          "North",
          "North",
          "East",
          "North",
          "",
          "",
          "",
          "",
          ""
         ],
         "type": "sunburst",
         "values": [
          5.526428571428572,
          4.490833333333334,
          16.77,
          6.628571428571428,
          15.258571428571429,
          8.39,
          5.917142857142857,
          25.012857142857143,
          15.504285714285714,
          14.951818181818181,
          15.221428571428572,
          7.224285714285714,
          10.34142857142857,
          5.653571428571429,
          6.8100000000000005,
          2.4750000000000005,
          6.612857142857143,
          7.263333333333333,
          11.924999999999999,
          10.927142857142856,
          5.08,
          8.775714285714285,
          7.863571428571428,
          27.166428571428572,
          10.20857142857143,
          4.882307692307692,
          7.5721428571428575,
          9.427857142857144,
          8.664,
          8.088571428571429,
          4.856,
          19.471,
          21.06642857142857,
          15.991666666666667,
          11.852142857142857,
          7.819,
          18.01625,
          10.158333333333333,
          12.167,
          7.410714285714286,
          6.3759999999999994,
          27.521666666666665,
          19.28,
          17.04157894736842,
          19.538999999999998,
          25.94857142857143,
          6.127857142857144,
          7.667999999999999,
          9.906428571428572,
          9.434000000000001,
          9.159285714285716,
          6.854000000000001,
          8.305,
          7.979000000000001,
          7.3015384615384615,
          3.8659999999999997,
          6.462000000000001,
          4.702857142857143,
          12.745000000000001,
          17.942,
          12.072083333333333,
          16.638749999999998,
          8.153333333333334,
          9.7925,
          9.792857142857143,
          12.187,
          7.6121428571428575,
          6.833,
          29.534285714285716,
          25.055,
          12.745416666666666,
          9.409583333333334,
          10.192,
          8.677142857142858,
          14.954285714285717,
          8.664,
          12.579404761904762,
          4.856,
          19.471,
          37.83642857142857,
          15.991666666666667,
          18.480714285714285,
          7.819,
          33.27482142857143,
          18.548333333333332,
          12.167,
          13.327857142857143,
          6.3759999999999994,
          52.534523809523805,
          34.784285714285716,
          31.993397129186604,
          19.538999999999998,
          41.17,
          13.352142857142859,
          7.667999999999999,
          20.247857142857143,
          9.434000000000001,
          14.812857142857144,
          6.854000000000001,
          15.115,
          7.979000000000001,
          9.776538461538461,
          3.8659999999999997,
          6.462000000000001,
          11.315714285714286,
          20.008333333333333,
          17.942,
          23.997083333333332,
          27.565892857142856,
          13.233333333333334,
          9.7925,
          18.568571428571428,
          12.187,
          15.475714285714286,
          6.833,
          56.700714285714284,
          25.055,
          22.953988095238095,
          14.291891025641025,
          10.192,
          16.249285714285715,
          55.664,
          639.1406361401756,
          43.5695,
          62.727999999999994,
          41.195
         ]
        }
       ],
       "layout": {
        "height": 1150,
        "legend": {
         "tracegroupgap": 0
        },
        "template": {
         "data": {
          "bar": [
           {
            "error_x": {
             "color": "rgb(51,51,51)"
            },
            "error_y": {
             "color": "rgb(51,51,51)"
            },
            "marker": {
             "line": {
              "color": "rgb(237,237,237)",
              "width": 0.5
             },
             "pattern": {
              "fillmode": "overlay",
              "size": 10,
              "solidity": 0.2
             }
            },
            "type": "bar"
           }
          ],
          "barpolar": [
           {
            "marker": {
             "line": {
              "color": "rgb(237,237,237)",
              "width": 0.5
             },
             "pattern": {
              "fillmode": "overlay",
              "size": 10,
              "solidity": 0.2
             }
            },
            "type": "barpolar"
           }
          ],
          "carpet": [
           {
            "aaxis": {
             "endlinecolor": "rgb(51,51,51)",
             "gridcolor": "white",
             "linecolor": "white",
             "minorgridcolor": "white",
             "startlinecolor": "rgb(51,51,51)"
            },
            "baxis": {
             "endlinecolor": "rgb(51,51,51)",
             "gridcolor": "white",
             "linecolor": "white",
             "minorgridcolor": "white",
             "startlinecolor": "rgb(51,51,51)"
            },
            "type": "carpet"
           }
          ],
          "choropleth": [
           {
            "colorbar": {
             "outlinewidth": 0,
             "tickcolor": "rgb(237,237,237)",
             "ticklen": 6,
             "ticks": "inside"
            },
            "type": "choropleth"
           }
          ],
          "contour": [
           {
            "colorbar": {
             "outlinewidth": 0,
             "tickcolor": "rgb(237,237,237)",
             "ticklen": 6,
             "ticks": "inside"
            },
            "colorscale": [
             [
              0,
              "rgb(20,44,66)"
             ],
             [
              1,
              "rgb(90,179,244)"
             ]
            ],
            "type": "contour"
           }
          ],
          "contourcarpet": [
           {
            "colorbar": {
             "outlinewidth": 0,
             "tickcolor": "rgb(237,237,237)",
             "ticklen": 6,
             "ticks": "inside"
            },
            "type": "contourcarpet"
           }
          ],
          "heatmap": [
           {
            "colorbar": {
             "outlinewidth": 0,
             "tickcolor": "rgb(237,237,237)",
             "ticklen": 6,
             "ticks": "inside"
            },
            "colorscale": [
             [
              0,
              "rgb(20,44,66)"
             ],
             [
              1,
              "rgb(90,179,244)"
             ]
            ],
            "type": "heatmap"
           }
          ],
          "heatmapgl": [
           {
            "colorbar": {
             "outlinewidth": 0,
             "tickcolor": "rgb(237,237,237)",
             "ticklen": 6,
             "ticks": "inside"
            },
            "colorscale": [
             [
              0,
              "rgb(20,44,66)"
             ],
             [
              1,
              "rgb(90,179,244)"
             ]
            ],
            "type": "heatmapgl"
           }
          ],
          "histogram": [
           {
            "marker": {
             "pattern": {
              "fillmode": "overlay",
              "size": 10,
              "solidity": 0.2
             }
            },
            "type": "histogram"
           }
          ],
          "histogram2d": [
           {
            "colorbar": {
             "outlinewidth": 0,
             "tickcolor": "rgb(237,237,237)",
             "ticklen": 6,
             "ticks": "inside"
            },
            "colorscale": [
             [
              0,
              "rgb(20,44,66)"
             ],
             [
              1,
              "rgb(90,179,244)"
             ]
            ],
            "type": "histogram2d"
           }
          ],
          "histogram2dcontour": [
           {
            "colorbar": {
             "outlinewidth": 0,
             "tickcolor": "rgb(237,237,237)",
             "ticklen": 6,
             "ticks": "inside"
            },
            "colorscale": [
             [
              0,
              "rgb(20,44,66)"
             ],
             [
              1,
              "rgb(90,179,244)"
             ]
            ],
            "type": "histogram2dcontour"
           }
          ],
          "mesh3d": [
           {
            "colorbar": {
             "outlinewidth": 0,
             "tickcolor": "rgb(237,237,237)",
             "ticklen": 6,
             "ticks": "inside"
            },
            "type": "mesh3d"
           }
          ],
          "parcoords": [
           {
            "line": {
             "colorbar": {
              "outlinewidth": 0,
              "tickcolor": "rgb(237,237,237)",
              "ticklen": 6,
              "ticks": "inside"
             }
            },
            "type": "parcoords"
           }
          ],
          "pie": [
           {
            "automargin": true,
            "type": "pie"
           }
          ],
          "scatter": [
           {
            "fillpattern": {
             "fillmode": "overlay",
             "size": 10,
             "solidity": 0.2
            },
            "type": "scatter"
           }
          ],
          "scatter3d": [
           {
            "line": {
             "colorbar": {
              "outlinewidth": 0,
              "tickcolor": "rgb(237,237,237)",
              "ticklen": 6,
              "ticks": "inside"
             }
            },
            "marker": {
             "colorbar": {
              "outlinewidth": 0,
              "tickcolor": "rgb(237,237,237)",
              "ticklen": 6,
              "ticks": "inside"
             }
            },
            "type": "scatter3d"
           }
          ],
          "scattercarpet": [
           {
            "marker": {
             "colorbar": {
              "outlinewidth": 0,
              "tickcolor": "rgb(237,237,237)",
              "ticklen": 6,
              "ticks": "inside"
             }
            },
            "type": "scattercarpet"
           }
          ],
          "scattergeo": [
           {
            "marker": {
             "colorbar": {
              "outlinewidth": 0,
              "tickcolor": "rgb(237,237,237)",
              "ticklen": 6,
              "ticks": "inside"
             }
            },
            "type": "scattergeo"
           }
          ],
          "scattergl": [
           {
            "marker": {
             "colorbar": {
              "outlinewidth": 0,
              "tickcolor": "rgb(237,237,237)",
              "ticklen": 6,
              "ticks": "inside"
             }
            },
            "type": "scattergl"
           }
          ],
          "scattermapbox": [
           {
            "marker": {
             "colorbar": {
              "outlinewidth": 0,
              "tickcolor": "rgb(237,237,237)",
              "ticklen": 6,
              "ticks": "inside"
             }
            },
            "type": "scattermapbox"
           }
          ],
          "scatterpolar": [
           {
            "marker": {
             "colorbar": {
              "outlinewidth": 0,
              "tickcolor": "rgb(237,237,237)",
              "ticklen": 6,
              "ticks": "inside"
             }
            },
            "type": "scatterpolar"
           }
          ],
          "scatterpolargl": [
           {
            "marker": {
             "colorbar": {
              "outlinewidth": 0,
              "tickcolor": "rgb(237,237,237)",
              "ticklen": 6,
              "ticks": "inside"
             }
            },
            "type": "scatterpolargl"
           }
          ],
          "scatterternary": [
           {
            "marker": {
             "colorbar": {
              "outlinewidth": 0,
              "tickcolor": "rgb(237,237,237)",
              "ticklen": 6,
              "ticks": "inside"
             }
            },
            "type": "scatterternary"
           }
          ],
          "surface": [
           {
            "colorbar": {
             "outlinewidth": 0,
             "tickcolor": "rgb(237,237,237)",
             "ticklen": 6,
             "ticks": "inside"
            },
            "colorscale": [
             [
              0,
              "rgb(20,44,66)"
             ],
             [
              1,
              "rgb(90,179,244)"
             ]
            ],
            "type": "surface"
           }
          ],
          "table": [
           {
            "cells": {
             "fill": {
              "color": "rgb(237,237,237)"
             },
             "line": {
              "color": "white"
             }
            },
            "header": {
             "fill": {
              "color": "rgb(217,217,217)"
             },
             "line": {
              "color": "white"
             }
            },
            "type": "table"
           }
          ]
         },
         "layout": {
          "annotationdefaults": {
           "arrowhead": 0,
           "arrowwidth": 1
          },
          "autotypenumbers": "strict",
          "coloraxis": {
           "colorbar": {
            "outlinewidth": 0,
            "tickcolor": "rgb(237,237,237)",
            "ticklen": 6,
            "ticks": "inside"
           }
          },
          "colorscale": {
           "sequential": [
            [
             0,
             "rgb(20,44,66)"
            ],
            [
             1,
             "rgb(90,179,244)"
            ]
           ],
           "sequentialminus": [
            [
             0,
             "rgb(20,44,66)"
            ],
            [
             1,
             "rgb(90,179,244)"
            ]
           ]
          },
          "colorway": [
           "#F8766D",
           "#A3A500",
           "#00BF7D",
           "#00B0F6",
           "#E76BF3"
          ],
          "font": {
           "color": "rgb(51,51,51)"
          },
          "geo": {
           "bgcolor": "white",
           "lakecolor": "white",
           "landcolor": "rgb(237,237,237)",
           "showlakes": true,
           "showland": true,
           "subunitcolor": "white"
          },
          "hoverlabel": {
           "align": "left"
          },
          "hovermode": "closest",
          "paper_bgcolor": "white",
          "plot_bgcolor": "rgb(237,237,237)",
          "polar": {
           "angularaxis": {
            "gridcolor": "white",
            "linecolor": "white",
            "showgrid": true,
            "tickcolor": "rgb(51,51,51)",
            "ticks": "outside"
           },
           "bgcolor": "rgb(237,237,237)",
           "radialaxis": {
            "gridcolor": "white",
            "linecolor": "white",
            "showgrid": true,
            "tickcolor": "rgb(51,51,51)",
            "ticks": "outside"
           }
          },
          "scene": {
           "xaxis": {
            "backgroundcolor": "rgb(237,237,237)",
            "gridcolor": "white",
            "gridwidth": 2,
            "linecolor": "white",
            "showbackground": true,
            "showgrid": true,
            "tickcolor": "rgb(51,51,51)",
            "ticks": "outside",
            "zerolinecolor": "white"
           },
           "yaxis": {
            "backgroundcolor": "rgb(237,237,237)",
            "gridcolor": "white",
            "gridwidth": 2,
            "linecolor": "white",
            "showbackground": true,
            "showgrid": true,
            "tickcolor": "rgb(51,51,51)",
            "ticks": "outside",
            "zerolinecolor": "white"
           },
           "zaxis": {
            "backgroundcolor": "rgb(237,237,237)",
            "gridcolor": "white",
            "gridwidth": 2,
            "linecolor": "white",
            "showbackground": true,
            "showgrid": true,
            "tickcolor": "rgb(51,51,51)",
            "ticks": "outside",
            "zerolinecolor": "white"
           }
          },
          "shapedefaults": {
           "fillcolor": "black",
           "line": {
            "width": 0
           },
           "opacity": 0.3
          },
          "ternary": {
           "aaxis": {
            "gridcolor": "white",
            "linecolor": "white",
            "showgrid": true,
            "tickcolor": "rgb(51,51,51)",
            "ticks": "outside"
           },
           "baxis": {
            "gridcolor": "white",
            "linecolor": "white",
            "showgrid": true,
            "tickcolor": "rgb(51,51,51)",
            "ticks": "outside"
           },
           "bgcolor": "rgb(237,237,237)",
           "caxis": {
            "gridcolor": "white",
            "linecolor": "white",
            "showgrid": true,
            "tickcolor": "rgb(51,51,51)",
            "ticks": "outside"
           }
          },
          "xaxis": {
           "automargin": true,
           "gridcolor": "white",
           "linecolor": "white",
           "showgrid": true,
           "tickcolor": "rgb(51,51,51)",
           "ticks": "outside",
           "title": {
            "standoff": 15
           },
           "zerolinecolor": "white"
          },
          "yaxis": {
           "automargin": true,
           "gridcolor": "white",
           "linecolor": "white",
           "showgrid": true,
           "tickcolor": "rgb(51,51,51)",
           "ticks": "outside",
           "title": {
            "standoff": 15
           },
           "zerolinecolor": "white"
          }
         }
        },
        "title": {
         "text": "Unemployment rate in each region"
        }
       }
      },
      "text/html": [
       "<div>                            <div id=\"422e554b-0aed-4737-b4dc-8d4395b2a292\" class=\"plotly-graph-div\" style=\"height:1150px; width:100%;\"></div>            <script type=\"text/javascript\">                require([\"plotly\"], function(Plotly) {                    window.PLOTLYENV=window.PLOTLYENV || {};                                    if (document.getElementById(\"422e554b-0aed-4737-b4dc-8d4395b2a292\")) {                    Plotly.newPlot(                        \"422e554b-0aed-4737-b4dc-8d4395b2a292\",                        [{\"branchvalues\":\"total\",\"domain\":{\"x\":[0.0,1.0],\"y\":[0.0,1.0]},\"hovertemplate\":\"labels=%{label}<br>Estimated Unemployment Rate (%)=%{value}<br>parent=%{parent}<br>id=%{id}<extra></extra>\",\"ids\":[\"North/Andhra Pradesh/Rural\",\"North/Assam/Rural\",\"North/Bihar/Rural\",\"North/Chhattisgarh/Rural\",\"North/Delhi/Rural\",\"North/Goa/Rural\",\"North/Gujarat/Rural\",\"North/Haryana/Rural\",\"North/Himachal Pradesh/Rural\",\"North/Jammu & Kashmir/Rural\",\"North/Jharkhand/Rural\",\"North/Karnataka/Rural\",\"North/Kerala/Rural\",\"North/Madhya Pradesh/Rural\",\"North/Maharashtra/Rural\",\"North/Meghalaya/Rural\",\"North/Odisha/Rural\",\"North/Puducherry/Rural\",\"North/Punjab/Rural\",\"North/Rajasthan/Rural\",\"North/Sikkim/Rural\",\"North/Tamil Nadu/Rural\",\"North/Telangana/Rural\",\"North/Tripura/Rural\",\"North/Uttar Pradesh/Rural\",\"North/Uttarakhand/Rural\",\"North/West Bengal/Rural\",\"North/Andhra Pradesh/Urban\",\"South/Andhra Pradesh/Urban\",\"North/Assam/Urban\",\"Northeast/Assam/Urban\",\"East/Bihar/Urban\",\"North/Bihar/Urban\",\"North/Chandigarh/Urban\",\"North/Chhattisgarh/Urban\",\"West/Chhattisgarh/Urban\",\"North/Delhi/Urban\",\"North/Goa/Urban\",\"West/Goa/Urban\",\"North/Gujarat/Urban\",\"West/Gujarat/Urban\",\"North/Haryana/Urban\",\"North/Himachal Pradesh/Urban\",\"North/Jammu & Kashmir/Urban\",\"East/Jharkhand/Urban\",\"North/Jharkhand/Urban\",\"North/Karnataka/Urban\",\"South/Karnataka/Urban\",\"North/Kerala/Urban\",\"South/Kerala/Urban\",\"North/Madhya Pradesh/Urban\",\"West/Madhya Pradesh/Urban\",\"North/Maharashtra/Urban\",\"West/Maharashtra/Urban\",\"North/Meghalaya/Urban\",\"Northeast/Meghalaya/Urban\",\"East/Odisha/Urban\",\"North/Odisha/Urban\",\"North/Puducherry/Urban\",\"South/Puducherry/Urban\",\"North/Punjab/Urban\",\"North/Rajasthan/Urban\",\"North/Sikkim/Urban\",\"Northeast/Sikkim/Urban\",\"North/Tamil Nadu/Urban\",\"South/Tamil Nadu/Urban\",\"North/Telangana/Urban\",\"South/Telangana/Urban\",\"North/Tripura/Urban\",\"Northeast/Tripura/Urban\",\"North/Uttar Pradesh/Urban\",\"North/Uttarakhand/Urban\",\"East/West Bengal/Urban\",\"North/West Bengal/Urban\",\"North/Andhra Pradesh\",\"South/Andhra Pradesh\",\"North/Assam\",\"Northeast/Assam\",\"East/Bihar\",\"North/Bihar\",\"North/Chandigarh\",\"North/Chhattisgarh\",\"West/Chhattisgarh\",\"North/Delhi\",\"North/Goa\",\"West/Goa\",\"North/Gujarat\",\"West/Gujarat\",\"North/Haryana\",\"North/Himachal Pradesh\",\"North/Jammu & Kashmir\",\"East/Jharkhand\",\"North/Jharkhand\",\"North/Karnataka\",\"South/Karnataka\",\"North/Kerala\",\"South/Kerala\",\"North/Madhya Pradesh\",\"West/Madhya Pradesh\",\"North/Maharashtra\",\"West/Maharashtra\",\"North/Meghalaya\",\"Northeast/Meghalaya\",\"East/Odisha\",\"North/Odisha\",\"North/Puducherry\",\"South/Puducherry\",\"North/Punjab\",\"North/Rajasthan\",\"North/Sikkim\",\"Northeast/Sikkim\",\"North/Tamil Nadu\",\"South/Tamil Nadu\",\"North/Telangana\",\"South/Telangana\",\"North/Tripura\",\"Northeast/Tripura\",\"North/Uttar Pradesh\",\"North/Uttarakhand\",\"East/West Bengal\",\"North/West Bengal\",\"East\",\"North\",\"Northeast\",\"South\",\"West\"],\"labels\":[\"Rural\",\"Rural\",\"Rural\",\"Rural\",\"Rural\",\"Rural\",\"Rural\",\"Rural\",\"Rural\",\"Rural\",\"Rural\",\"Rural\",\"Rural\",\"Rural\",\"Rural\",\"Rural\",\"Rural\",\"Rural\",\"Rural\",\"Rural\",\"Rural\",\"Rural\",\"Rural\",\"Rural\",\"Rural\",\"Rural\",\"Rural\",\"Urban\",\"Urban\",\"Urban\",\"Urban\",\"Urban\",\"Urban\",\"Urban\",\"Urban\",\"Urban\",\"Urban\",\"Urban\",\"Urban\",\"Urban\",\"Urban\",\"Urban\",\"Urban\",\"Urban\",\"Urban\",\"Urban\",\"Urban\",\"Urban\",\"Urban\",\"Urban\",\"Urban\",\"Urban\",\"Urban\",\"Urban\",\"Urban\",\"Urban\",\"Urban\",\"Urban\",\"Urban\",\"Urban\",\"Urban\",\"Urban\",\"Urban\",\"Urban\",\"Urban\",\"Urban\",\"Urban\",\"Urban\",\"Urban\",\"Urban\",\"Urban\",\"Urban\",\"Urban\",\"Urban\",\"Andhra Pradesh\",\"Andhra Pradesh\",\"Assam\",\"Assam\",\"Bihar\",\"Bihar\",\"Chandigarh\",\"Chhattisgarh\",\"Chhattisgarh\",\"Delhi\",\"Goa\",\"Goa\",\"Gujarat\",\"Gujarat\",\"Haryana\",\"Himachal Pradesh\",\"Jammu & Kashmir\",\"Jharkhand\",\"Jharkhand\",\"Karnataka\",\"Karnataka\",\"Kerala\",\"Kerala\",\"Madhya Pradesh\",\"Madhya Pradesh\",\"Maharashtra\",\"Maharashtra\",\"Meghalaya\",\"Meghalaya\",\"Odisha\",\"Odisha\",\"Puducherry\",\"Puducherry\",\"Punjab\",\"Rajasthan\",\"Sikkim\",\"Sikkim\",\"Tamil Nadu\",\"Tamil Nadu\",\"Telangana\",\"Telangana\",\"Tripura\",\"Tripura\",\"Uttar Pradesh\",\"Uttarakhand\",\"West Bengal\",\"West Bengal\",\"East\",\"North\",\"Northeast\",\"South\",\"West\"],\"name\":\"\",\"parents\":[\"North/Andhra Pradesh\",\"North/Assam\",\"North/Bihar\",\"North/Chhattisgarh\",\"North/Delhi\",\"North/Goa\",\"North/Gujarat\",\"North/Haryana\",\"North/Himachal Pradesh\",\"North/Jammu & Kashmir\",\"North/Jharkhand\",\"North/Karnataka\",\"North/Kerala\",\"North/Madhya Pradesh\",\"North/Maharashtra\",\"North/Meghalaya\",\"North/Odisha\",\"North/Puducherry\",\"North/Punjab\",\"North/Rajasthan\",\"North/Sikkim\",\"North/Tamil Nadu\",\"North/Telangana\",\"North/Tripura\",\"North/Uttar Pradesh\",\"North/Uttarakhand\",\"North/West Bengal\",\"North/Andhra Pradesh\",\"South/Andhra Pradesh\",\"North/Assam\",\"Northeast/Assam\",\"East/Bihar\",\"North/Bihar\",\"North/Chandigarh\",\"North/Chhattisgarh\",\"West/Chhattisgarh\",\"North/Delhi\",\"North/Goa\",\"West/Goa\",\"North/Gujarat\",\"West/Gujarat\",\"North/Haryana\",\"North/Himachal Pradesh\",\"North/Jammu & Kashmir\",\"East/Jharkhand\",\"North/Jharkhand\",\"North/Karnataka\",\"South/Karnataka\",\"North/Kerala\",\"South/Kerala\",\"North/Madhya Pradesh\",\"West/Madhya Pradesh\",\"North/Maharashtra\",\"West/Maharashtra\",\"North/Meghalaya\",\"Northeast/Meghalaya\",\"East/Odisha\",\"North/Odisha\",\"North/Puducherry\",\"South/Puducherry\",\"North/Punjab\",\"North/Rajasthan\",\"North/Sikkim\",\"Northeast/Sikkim\",\"North/Tamil Nadu\",\"South/Tamil Nadu\",\"North/Telangana\",\"South/Telangana\",\"North/Tripura\",\"Northeast/Tripura\",\"North/Uttar Pradesh\",\"North/Uttarakhand\",\"East/West Bengal\",\"North/West Bengal\",\"North\",\"South\",\"North\",\"Northeast\",\"East\",\"North\",\"North\",\"North\",\"West\",\"North\",\"North\",\"West\",\"North\",\"West\",\"North\",\"North\",\"North\",\"East\",\"North\",\"North\",\"South\",\"North\",\"South\",\"North\",\"West\",\"North\",\"West\",\"North\",\"Northeast\",\"East\",\"North\",\"North\",\"South\",\"North\",\"North\",\"North\",\"Northeast\",\"North\",\"South\",\"North\",\"South\",\"North\",\"Northeast\",\"North\",\"North\",\"East\",\"North\",\"\",\"\",\"\",\"\",\"\"],\"values\":[5.526428571428572,4.490833333333334,16.77,6.628571428571428,15.258571428571429,8.39,5.917142857142857,25.012857142857143,15.504285714285714,14.951818181818181,15.221428571428572,7.224285714285714,10.34142857142857,5.653571428571429,6.8100000000000005,2.4750000000000005,6.612857142857143,7.263333333333333,11.924999999999999,10.927142857142856,5.08,8.775714285714285,7.863571428571428,27.166428571428572,10.20857142857143,4.882307692307692,7.5721428571428575,9.427857142857144,8.664,8.088571428571429,4.856,19.471,21.06642857142857,15.991666666666667,11.852142857142857,7.819,18.01625,10.158333333333333,12.167,7.410714285714286,6.3759999999999994,27.521666666666665,19.28,17.04157894736842,19.538999999999998,25.94857142857143,6.127857142857144,7.667999999999999,9.906428571428572,9.434000000000001,9.159285714285716,6.854000000000001,8.305,7.979000000000001,7.3015384615384615,3.8659999999999997,6.462000000000001,4.702857142857143,12.745000000000001,17.942,12.072083333333333,16.638749999999998,8.153333333333334,9.7925,9.792857142857143,12.187,7.6121428571428575,6.833,29.534285714285716,25.055,12.745416666666666,9.409583333333334,10.192,8.677142857142858,14.954285714285717,8.664,12.579404761904762,4.856,19.471,37.83642857142857,15.991666666666667,18.480714285714285,7.819,33.27482142857143,18.548333333333332,12.167,13.327857142857143,6.3759999999999994,52.534523809523805,34.784285714285716,31.993397129186604,19.538999999999998,41.17,13.352142857142859,7.667999999999999,20.247857142857143,9.434000000000001,14.812857142857144,6.854000000000001,15.115,7.979000000000001,9.776538461538461,3.8659999999999997,6.462000000000001,11.315714285714286,20.008333333333333,17.942,23.997083333333332,27.565892857142856,13.233333333333334,9.7925,18.568571428571428,12.187,15.475714285714286,6.833,56.700714285714284,25.055,22.953988095238095,14.291891025641025,10.192,16.249285714285715,55.664,639.1406361401756,43.5695,62.727999999999994,41.195],\"type\":\"sunburst\"}],                        {\"template\":{\"data\":{\"barpolar\":[{\"marker\":{\"line\":{\"color\":\"rgb(237,237,237)\",\"width\":0.5},\"pattern\":{\"fillmode\":\"overlay\",\"size\":10,\"solidity\":0.2}},\"type\":\"barpolar\"}],\"bar\":[{\"error_x\":{\"color\":\"rgb(51,51,51)\"},\"error_y\":{\"color\":\"rgb(51,51,51)\"},\"marker\":{\"line\":{\"color\":\"rgb(237,237,237)\",\"width\":0.5},\"pattern\":{\"fillmode\":\"overlay\",\"size\":10,\"solidity\":0.2}},\"type\":\"bar\"}],\"carpet\":[{\"aaxis\":{\"endlinecolor\":\"rgb(51,51,51)\",\"gridcolor\":\"white\",\"linecolor\":\"white\",\"minorgridcolor\":\"white\",\"startlinecolor\":\"rgb(51,51,51)\"},\"baxis\":{\"endlinecolor\":\"rgb(51,51,51)\",\"gridcolor\":\"white\",\"linecolor\":\"white\",\"minorgridcolor\":\"white\",\"startlinecolor\":\"rgb(51,51,51)\"},\"type\":\"carpet\"}],\"choropleth\":[{\"colorbar\":{\"outlinewidth\":0,\"tickcolor\":\"rgb(237,237,237)\",\"ticklen\":6,\"ticks\":\"inside\"},\"type\":\"choropleth\"}],\"contourcarpet\":[{\"colorbar\":{\"outlinewidth\":0,\"tickcolor\":\"rgb(237,237,237)\",\"ticklen\":6,\"ticks\":\"inside\"},\"type\":\"contourcarpet\"}],\"contour\":[{\"colorbar\":{\"outlinewidth\":0,\"tickcolor\":\"rgb(237,237,237)\",\"ticklen\":6,\"ticks\":\"inside\"},\"colorscale\":[[0,\"rgb(20,44,66)\"],[1,\"rgb(90,179,244)\"]],\"type\":\"contour\"}],\"heatmapgl\":[{\"colorbar\":{\"outlinewidth\":0,\"tickcolor\":\"rgb(237,237,237)\",\"ticklen\":6,\"ticks\":\"inside\"},\"colorscale\":[[0,\"rgb(20,44,66)\"],[1,\"rgb(90,179,244)\"]],\"type\":\"heatmapgl\"}],\"heatmap\":[{\"colorbar\":{\"outlinewidth\":0,\"tickcolor\":\"rgb(237,237,237)\",\"ticklen\":6,\"ticks\":\"inside\"},\"colorscale\":[[0,\"rgb(20,44,66)\"],[1,\"rgb(90,179,244)\"]],\"type\":\"heatmap\"}],\"histogram2dcontour\":[{\"colorbar\":{\"outlinewidth\":0,\"tickcolor\":\"rgb(237,237,237)\",\"ticklen\":6,\"ticks\":\"inside\"},\"colorscale\":[[0,\"rgb(20,44,66)\"],[1,\"rgb(90,179,244)\"]],\"type\":\"histogram2dcontour\"}],\"histogram2d\":[{\"colorbar\":{\"outlinewidth\":0,\"tickcolor\":\"rgb(237,237,237)\",\"ticklen\":6,\"ticks\":\"inside\"},\"colorscale\":[[0,\"rgb(20,44,66)\"],[1,\"rgb(90,179,244)\"]],\"type\":\"histogram2d\"}],\"histogram\":[{\"marker\":{\"pattern\":{\"fillmode\":\"overlay\",\"size\":10,\"solidity\":0.2}},\"type\":\"histogram\"}],\"mesh3d\":[{\"colorbar\":{\"outlinewidth\":0,\"tickcolor\":\"rgb(237,237,237)\",\"ticklen\":6,\"ticks\":\"inside\"},\"type\":\"mesh3d\"}],\"parcoords\":[{\"line\":{\"colorbar\":{\"outlinewidth\":0,\"tickcolor\":\"rgb(237,237,237)\",\"ticklen\":6,\"ticks\":\"inside\"}},\"type\":\"parcoords\"}],\"pie\":[{\"automargin\":true,\"type\":\"pie\"}],\"scatter3d\":[{\"line\":{\"colorbar\":{\"outlinewidth\":0,\"tickcolor\":\"rgb(237,237,237)\",\"ticklen\":6,\"ticks\":\"inside\"}},\"marker\":{\"colorbar\":{\"outlinewidth\":0,\"tickcolor\":\"rgb(237,237,237)\",\"ticklen\":6,\"ticks\":\"inside\"}},\"type\":\"scatter3d\"}],\"scattercarpet\":[{\"marker\":{\"colorbar\":{\"outlinewidth\":0,\"tickcolor\":\"rgb(237,237,237)\",\"ticklen\":6,\"ticks\":\"inside\"}},\"type\":\"scattercarpet\"}],\"scattergeo\":[{\"marker\":{\"colorbar\":{\"outlinewidth\":0,\"tickcolor\":\"rgb(237,237,237)\",\"ticklen\":6,\"ticks\":\"inside\"}},\"type\":\"scattergeo\"}],\"scattergl\":[{\"marker\":{\"colorbar\":{\"outlinewidth\":0,\"tickcolor\":\"rgb(237,237,237)\",\"ticklen\":6,\"ticks\":\"inside\"}},\"type\":\"scattergl\"}],\"scattermapbox\":[{\"marker\":{\"colorbar\":{\"outlinewidth\":0,\"tickcolor\":\"rgb(237,237,237)\",\"ticklen\":6,\"ticks\":\"inside\"}},\"type\":\"scattermapbox\"}],\"scatterpolargl\":[{\"marker\":{\"colorbar\":{\"outlinewidth\":0,\"tickcolor\":\"rgb(237,237,237)\",\"ticklen\":6,\"ticks\":\"inside\"}},\"type\":\"scatterpolargl\"}],\"scatterpolar\":[{\"marker\":{\"colorbar\":{\"outlinewidth\":0,\"tickcolor\":\"rgb(237,237,237)\",\"ticklen\":6,\"ticks\":\"inside\"}},\"type\":\"scatterpolar\"}],\"scatter\":[{\"fillpattern\":{\"fillmode\":\"overlay\",\"size\":10,\"solidity\":0.2},\"type\":\"scatter\"}],\"scatterternary\":[{\"marker\":{\"colorbar\":{\"outlinewidth\":0,\"tickcolor\":\"rgb(237,237,237)\",\"ticklen\":6,\"ticks\":\"inside\"}},\"type\":\"scatterternary\"}],\"surface\":[{\"colorbar\":{\"outlinewidth\":0,\"tickcolor\":\"rgb(237,237,237)\",\"ticklen\":6,\"ticks\":\"inside\"},\"colorscale\":[[0,\"rgb(20,44,66)\"],[1,\"rgb(90,179,244)\"]],\"type\":\"surface\"}],\"table\":[{\"cells\":{\"fill\":{\"color\":\"rgb(237,237,237)\"},\"line\":{\"color\":\"white\"}},\"header\":{\"fill\":{\"color\":\"rgb(217,217,217)\"},\"line\":{\"color\":\"white\"}},\"type\":\"table\"}]},\"layout\":{\"annotationdefaults\":{\"arrowhead\":0,\"arrowwidth\":1},\"autotypenumbers\":\"strict\",\"coloraxis\":{\"colorbar\":{\"outlinewidth\":0,\"tickcolor\":\"rgb(237,237,237)\",\"ticklen\":6,\"ticks\":\"inside\"}},\"colorscale\":{\"sequential\":[[0,\"rgb(20,44,66)\"],[1,\"rgb(90,179,244)\"]],\"sequentialminus\":[[0,\"rgb(20,44,66)\"],[1,\"rgb(90,179,244)\"]]},\"colorway\":[\"#F8766D\",\"#A3A500\",\"#00BF7D\",\"#00B0F6\",\"#E76BF3\"],\"font\":{\"color\":\"rgb(51,51,51)\"},\"geo\":{\"bgcolor\":\"white\",\"lakecolor\":\"white\",\"landcolor\":\"rgb(237,237,237)\",\"showlakes\":true,\"showland\":true,\"subunitcolor\":\"white\"},\"hoverlabel\":{\"align\":\"left\"},\"hovermode\":\"closest\",\"paper_bgcolor\":\"white\",\"plot_bgcolor\":\"rgb(237,237,237)\",\"polar\":{\"angularaxis\":{\"gridcolor\":\"white\",\"linecolor\":\"white\",\"showgrid\":true,\"tickcolor\":\"rgb(51,51,51)\",\"ticks\":\"outside\"},\"bgcolor\":\"rgb(237,237,237)\",\"radialaxis\":{\"gridcolor\":\"white\",\"linecolor\":\"white\",\"showgrid\":true,\"tickcolor\":\"rgb(51,51,51)\",\"ticks\":\"outside\"}},\"scene\":{\"xaxis\":{\"backgroundcolor\":\"rgb(237,237,237)\",\"gridcolor\":\"white\",\"gridwidth\":2,\"linecolor\":\"white\",\"showbackground\":true,\"showgrid\":true,\"tickcolor\":\"rgb(51,51,51)\",\"ticks\":\"outside\",\"zerolinecolor\":\"white\"},\"yaxis\":{\"backgroundcolor\":\"rgb(237,237,237)\",\"gridcolor\":\"white\",\"gridwidth\":2,\"linecolor\":\"white\",\"showbackground\":true,\"showgrid\":true,\"tickcolor\":\"rgb(51,51,51)\",\"ticks\":\"outside\",\"zerolinecolor\":\"white\"},\"zaxis\":{\"backgroundcolor\":\"rgb(237,237,237)\",\"gridcolor\":\"white\",\"gridwidth\":2,\"linecolor\":\"white\",\"showbackground\":true,\"showgrid\":true,\"tickcolor\":\"rgb(51,51,51)\",\"ticks\":\"outside\",\"zerolinecolor\":\"white\"}},\"shapedefaults\":{\"fillcolor\":\"black\",\"line\":{\"width\":0},\"opacity\":0.3},\"ternary\":{\"aaxis\":{\"gridcolor\":\"white\",\"linecolor\":\"white\",\"showgrid\":true,\"tickcolor\":\"rgb(51,51,51)\",\"ticks\":\"outside\"},\"baxis\":{\"gridcolor\":\"white\",\"linecolor\":\"white\",\"showgrid\":true,\"tickcolor\":\"rgb(51,51,51)\",\"ticks\":\"outside\"},\"bgcolor\":\"rgb(237,237,237)\",\"caxis\":{\"gridcolor\":\"white\",\"linecolor\":\"white\",\"showgrid\":true,\"tickcolor\":\"rgb(51,51,51)\",\"ticks\":\"outside\"}},\"xaxis\":{\"automargin\":true,\"gridcolor\":\"white\",\"linecolor\":\"white\",\"showgrid\":true,\"tickcolor\":\"rgb(51,51,51)\",\"ticks\":\"outside\",\"title\":{\"standoff\":15},\"zerolinecolor\":\"white\"},\"yaxis\":{\"automargin\":true,\"gridcolor\":\"white\",\"linecolor\":\"white\",\"showgrid\":true,\"tickcolor\":\"rgb(51,51,51)\",\"ticks\":\"outside\",\"title\":{\"standoff\":15},\"zerolinecolor\":\"white\"}}},\"legend\":{\"tracegroupgap\":0},\"title\":{\"text\":\"Unemployment rate in each region\"},\"height\":1150},                        {\"responsive\": true}                    ).then(function(){\n",
       "                            \n",
       "var gd = document.getElementById('422e554b-0aed-4737-b4dc-8d4395b2a292');\n",
       "var x = new MutationObserver(function (mutations, observer) {{\n",
       "        var display = window.getComputedStyle(gd).display;\n",
       "        if (!display || display === 'none') {{\n",
       "            console.log([gd, 'removed!']);\n",
       "            Plotly.purge(gd);\n",
       "            observer.disconnect();\n",
       "        }}\n",
       "}});\n",
       "\n",
       "// Listen for the removal of the full notebook cells\n",
       "var notebookContainer = gd.closest('#notebook-container');\n",
       "if (notebookContainer) {{\n",
       "    x.observe(notebookContainer, {childList: true});\n",
       "}}\n",
       "\n",
       "// Listen for the clearing of the current output cell\n",
       "var outputEl = gd.closest('.output');\n",
       "if (outputEl) {{\n",
       "    x.observe(outputEl, {childList: true});\n",
       "}}\n",
       "\n",
       "                        })                };                });            </script>        </div>"
      ]
     },
     "metadata": {},
     "output_type": "display_data"
    }
   ],
   "source": [
    "MergeUnemployData = data[[\"Area\",\"Region\",\"Region.1\",\"Estimated Unemployment Rate (%)\" , \"Estimated Employed\" , \"Estimated Labour Participation Rate (%)\"]]\n",
    "MergeUnemploy = MergeUnemployData.groupby([\"Region.1\",\"Region\",\"Area\"])[\"Estimated Unemployment Rate (%)\"].mean().reset_index()\n",
    "fig = px.sunburst(MergeUnemploy, path=[\"Region.1\",\"Region\",\"Area\"], values=\"Estimated Unemployment Rate (%)\",\n",
    "                  color_continuous_scale='Plasma', title='Unemployment rate in each region',\n",
    "                  height=1150, template='ggplot2')\n",
    "fig.show()\n"
   ]
  },
  {
   "cell_type": "code",
   "execution_count": null,
   "id": "5840b324",
   "metadata": {},
   "outputs": [],
   "source": []
  }
 ],
 "metadata": {
  "kernelspec": {
   "display_name": "Python 3 (ipykernel)",
   "language": "python",
   "name": "python3"
  },
  "language_info": {
   "codemirror_mode": {
    "name": "ipython",
    "version": 3
   },
   "file_extension": ".py",
   "mimetype": "text/x-python",
   "name": "python",
   "nbconvert_exporter": "python",
   "pygments_lexer": "ipython3",
   "version": "3.9.13"
  }
 },
 "nbformat": 4,
 "nbformat_minor": 5
}
